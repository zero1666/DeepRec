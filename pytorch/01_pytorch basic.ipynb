{
 "cells": [
  {
   "cell_type": "markdown",
   "id": "2414d526-9eb4-4d48-b36e-fd1d6f26749e",
   "metadata": {},
   "source": [
    "# Pytorch 基础"
   ]
  },
  {
   "cell_type": "code",
   "execution_count": 3,
   "id": "10d2c04f-f9fe-4ed6-bcfd-7157fbec42dc",
   "metadata": {},
   "outputs": [],
   "source": []
  },
  {
   "cell_type": "markdown",
   "id": "b78340c4-dcd6-4e5f-925c-caf7024bc703",
   "metadata": {},
   "source": [
    "### Numpy"
   ]
  },
  {
   "cell_type": "code",
   "execution_count": 124,
   "id": "015bb91c-0217-4ccc-8640-58c800f2a168",
   "metadata": {},
   "outputs": [
    {
     "name": "stdout",
     "output_type": "stream",
     "text": [
      "[1]\n",
      "[[1 2]\n",
      " [3 4]\n",
      " [5 6]]\n",
      "(3, 2)\n",
      "2\n",
      "size: 6\n",
      "dtype: int64\n",
      "dtype: float64\n",
      "[[1 2 3]\n",
      " [4 5 6]]\n",
      "[[1]\n",
      " [2]\n",
      " [3]\n",
      " [4]\n",
      " [5]\n",
      " [6]]\n",
      "[[1 2 3]\n",
      " [4 5 6]]\n",
      "[[1 5 4]\n",
      " [3 2 6]]\n",
      "[[1 2 3]\n",
      " [4 5 6]]\n"
     ]
    }
   ],
   "source": [
    "import numpy as np\n",
    "\n",
    "arr_1_d = np.asarray([1])\n",
    "print(arr_1_d)\n",
    "arr_2_d = np.asarray([[1,2],[3,4],[5,6]])\n",
    "print(arr_2_d)\n",
    "print(arr_2_d.shape)\n",
    "print( arr_2_d.ndim)\n",
    "print('size:', arr_2_d.size)\n",
    "print('dtype:', arr_2_d.dtype)\n",
    "print('dtype:', arr_2_d.astype('float').dtype)\n",
    "\n",
    "print(arr_2_d.reshape((2,3)))\n",
    "print(arr_2_d.reshape((6,1)))\n",
    "print(np.reshape(arr_2_d, (2,3)))\n",
    "print(np.reshape(arr_2_d, (2,3), 'F'))\n",
    "print(np.reshape(arr_2_d, (2,3), 'A'))"
   ]
  },
  {
   "cell_type": "code",
   "execution_count": 33,
   "id": "6dd5be38-872a-4b52-be27-9db9436e796e",
   "metadata": {},
   "outputs": [
    {
     "name": "stdout",
     "output_type": "stream",
     "text": [
      "[[1. 1. 1. 1. 1.]\n",
      " [1. 1. 1. 1. 1.]]\n",
      "[[1 1 1 1 1]\n",
      " [1 1 1 1 1]]\n",
      "[[0. 0. 0. 0. 0.]\n",
      " [0. 0. 0. 0. 0.]]\n",
      "[[0 0 0 0 0]\n",
      " [0 0 0 0 0]]\n",
      "[[0.5 0.5 0.5 0.5 0.5]\n",
      " [0.5 0.5 0.5 0.5 0.5]]\n",
      "[0 1 2 3 4 5]\n",
      "[1 2 3 4 5 6]\n",
      "[1 3 5]\n",
      "[[3 8 7]\n",
      " [4 5 9]\n",
      " [8 0 7]\n",
      " [9 8 3]]\n"
     ]
    }
   ],
   "source": [
    "print(np.ones(shape=(2,5)))\n",
    "print(np.ones(shape=(2,5),dtype='int32'))\n",
    "print(np.zeros(shape=(2,5)))\n",
    "print(np.zeros(shape=(2,5),dtype='int32'))\n",
    "print(np.ones(shape=(2,5),dtype='int32')*0.5)\n",
    "\n",
    "print(np.arange(6))\n",
    "print(np.arange(1,7))\n",
    "print(np.arange(1,7,2))\n",
    "interest_score = np.random.randint(10, size=(4, 3))\n",
    "print(interest_score)"
   ]
  },
  {
   "cell_type": "code",
   "execution_count": 29,
   "id": "90932cde-1e21-41d3-b935-c5e83be3fa6e",
   "metadata": {},
   "outputs": [
    {
     "name": "stdout",
     "output_type": "stream",
     "text": [
      "[ 2.  6. 10.]\n"
     ]
    }
   ],
   "source": [
    "print(np.linspace(start=2, stop=10, num=3))"
   ]
  },
  {
   "cell_type": "code",
   "execution_count": 30,
   "id": "60fdeb77-4865-4be3-ae45-a209b63b5ab7",
   "metadata": {},
   "outputs": [
    {
     "name": "stderr",
     "output_type": "stream",
     "text": [
      "No artists with labels found to put in legend.  Note that artists whose label start with an underscore are ignored when legend() is called with no argument.\n"
     ]
    },
    {
     "data": {
      "image/png": "[encoded data removed]",
      "text/plain": [
       "<Figure size 432x288 with 1 Axes>"
      ]
     },
     "metadata": {
      "needs_background": "light"
     },
     "output_type": "display_data"
    }
   ],
   "source": [
    "\n",
    "import numpy as np\n",
    "import matplotlib.pyplot as plt\n",
    "\n",
    "X = np.arange(-50, 51, 2)\n",
    "Y = X ** 2\n",
    "\n",
    "plt.plot(X, Y, color='blue')\n",
    "plt.legend()\n",
    "plt.show()"
   ]
  },
  {
   "cell_type": "code",
   "execution_count": 35,
   "id": "d1a3d1e8-c2af-41d6-92ca-b77afd49aa52",
   "metadata": {},
   "outputs": [
    {
     "name": "stdout",
     "output_type": "stream",
     "text": [
      "[[8 0 8]\n",
      " [2 2 9]\n",
      " [6 0 8]\n",
      " [9 6 7]]\n"
     ]
    }
   ],
   "source": [
    "interest_score = np.random.randint(10, size=(4, 3))\n",
    "print(interest_score)\n",
    "print(np.sum(interest_score, axis=0))\n",
    "print(np.sum(interest_score, axis=1))"
   ]
  },
  {
   "cell_type": "code",
   "execution_count": 39,
   "id": "2e1ec2be-8f35-4d7a-97c2-65f424d2d650",
   "metadata": {},
   "outputs": [
    {
     "name": "stdout",
     "output_type": "stream",
     "text": [
      "[25  8 32]\n",
      "[16 13 14 22]\n"
     ]
    }
   ],
   "source": []
  },
  {
   "cell_type": "code",
   "execution_count": 41,
   "id": "f0153c4b-b24d-4993-9c40-0dcbc0a218e6",
   "metadata": {},
   "outputs": [
    {
     "name": "stdout",
     "output_type": "stream",
     "text": [
      "[[[ 0  1  2]\n",
      "  [ 3  4  5]]\n",
      "\n",
      " [[ 6  7  8]\n",
      "  [ 9 10 11]]\n",
      "\n",
      " [[12 13 14]\n",
      "  [15 16 17]]]\n",
      "[[18 21 24]\n",
      " [27 30 33]]\n",
      "[[ 3  5  7]\n",
      " [15 17 19]\n",
      " [27 29 31]]\n",
      "[[ 3 12]\n",
      " [21 30]\n",
      " [39 48]]\n"
     ]
    }
   ],
   "source": [
    "a = np.arange(18).reshape(3,2,3)\n",
    "print(a)\n",
    "print(np.sum(a, axis=0))\n",
    "print(np.sum(a, axis=1))\n",
    "print(np.sum(a, axis=2))"
   ]
  },
  {
   "cell_type": "code",
   "execution_count": 103,
   "id": "e3fa45dc-007a-445b-ac63-97b0707a948f",
   "metadata": {},
   "outputs": [
    {
     "name": "stdout",
     "output_type": "stream",
     "text": [
      "(510, 130) <class 'PIL.PngImagePlugin.PngImageFile'>\n",
      "(130, 510, 4) uint8 3\n"
     ]
    }
   ],
   "source": [
    "from PIL import Image\n",
    "# Pillow 读入后通道的顺序就是 R、G、B\n",
    "im = Image.open('../data/img/jike.png')\n",
    "print(im.size, type(im))\n",
    "im_pillow = np.asarray(im)\n",
    "print( im_pillow.shape,im_pillow.dtype, im_pillow.ndim)\n"
   ]
  },
  {
   "cell_type": "code",
   "execution_count": 104,
   "id": "7d542f47-b889-4ee1-8f15-d9af170794a0",
   "metadata": {},
   "outputs": [
    {
     "name": "stdout",
     "output_type": "stream",
     "text": [
      "<class 'numpy.ndarray'>\n",
      "198900 (130, 510, 3) uint8 3\n"
     ]
    }
   ],
   "source": [
    "import cv2\n",
    "# OpenCV 读入后顺序是 B、G、R。\n",
    "im_cv2 = cv2.imread('../data/img/jike.png')\n",
    "print(type(im_cv2))\n",
    "print(im_cv2.size, im_cv2.shape, im_cv2.dtype, im_cv2.ndim)\n"
   ]
  },
  {
   "cell_type": "code",
   "execution_count": 105,
   "id": "5ee43158-660e-4d03-b42b-9027f583222f",
   "metadata": {},
   "outputs": [
    {
     "name": "stdout",
     "output_type": "stream",
     "text": [
      "im_pillow0 [[255 255 255 ... 255 255 255]\n",
      " [255 255 255 ... 255 255 255]\n",
      " [255 255 255 ... 255 255 255]\n",
      " ...\n",
      " [255 255 255 ... 255 255 255]\n",
      " [255 255 255 ... 255 255 255]\n",
      " [255 255 255 ... 255 255 255]]\n",
      "im_pillow1 [[255 255 255 ... 255 255 255]\n",
      " [255 255 255 ... 255 255 255]\n",
      " [255 255 255 ... 255 255 255]\n",
      " ...\n",
      " [255 255 255 ... 255 255 255]\n",
      " [255 255 255 ... 255 255 255]\n",
      " [255 255 255 ... 255 255 255]]\n",
      "im_pillow2 [[255 255 255 ... 255 255 255]\n",
      " [255 255 255 ... 255 255 255]\n",
      " [255 255 255 ... 255 255 255]\n",
      " ...\n",
      " [255 255 255 ... 255 255 255]\n",
      " [255 255 255 ... 255 255 255]\n",
      " [255 255 255 ... 255 255 255]]\n",
      "im_cv2 [[255 255 255 ... 255 255 255]\n",
      " [255 255 255 ... 255 255 255]\n",
      " [255 255 255 ... 255 255 255]\n",
      " ...\n",
      " [255 255 255 ... 255 255 255]\n",
      " [255 255 255 ... 255 255 255]\n",
      " [255 255 255 ... 255 255 255]]\n"
     ]
    }
   ],
   "source": [
    "print('im_pillow0', im_pillow[:,:,0])\n",
    "print('im_pillow1', im_pillow[:,:,1])\n",
    "print('im_pillow2', im_pillow[:,:,2])\n",
    "\n",
    "print('im_cv2',im_cv2[:,:,2])"
   ]
  },
  {
   "cell_type": "code",
   "execution_count": 106,
   "id": "3922dabd-f4fd-47d5-8db9-c4c310ededdd",
   "metadata": {},
   "outputs": [
    {
     "name": "stdout",
     "output_type": "stream",
     "text": [
      "(130, 510, 1)\n"
     ]
    }
   ],
   "source": [
    "zeros = np.zeros((im_cv2.shape[0],im_cv2.shape[1], 1))\n",
    "print(zeros.shape)"
   ]
  },
  {
   "cell_type": "code",
   "execution_count": 107,
   "id": "4771ebb6-25bf-4280-8ddb-962553b10bba",
   "metadata": {},
   "outputs": [
    {
     "name": "stdout",
     "output_type": "stream",
     "text": [
      "(204, 174, 1)\n"
     ]
    }
   ],
   "source": [
    "im_cv2_c1 = im_cv2[:, :, 0]\n",
    "im_cv2_c2 = im_cv2[:, :, 1]\n",
    "im_cv2_c3 = im_cv2[:, :, 2]\n",
    "\n",
    "#使用 np.newaxis 让数组增加一个维度\n",
    "im_cv2_c1 = im_cv2_c1[:,:, np.newaxis]\n",
    "print(im_pillow_c1_.shape)"
   ]
  },
  {
   "cell_type": "code",
   "execution_count": 108,
   "id": "58cb3262-eb48-49a2-abea-5e09b317fecd",
   "metadata": {},
   "outputs": [
    {
     "name": "stdout",
     "output_type": "stream",
     "text": [
      "(130, 510, 3)\n"
     ]
    }
   ],
   "source": [
    "\n",
    "im_cv2_c1_3ch = np.concatenate(( im_cv2_c1, zeros, zeros),axis=2)\n",
    "print(im_cv2_c1_3ch.shape)\n"
   ]
  },
  {
   "cell_type": "code",
   "execution_count": 110,
   "id": "0deede76-9db4-4b4b-9001-854ce7f84a5a",
   "metadata": {},
   "outputs": [
    {
     "name": "stdout",
     "output_type": "stream",
     "text": [
      "(130, 510, 3)\n",
      "(130, 510, 3)\n",
      "(130, 510, 3)\n"
     ]
    }
   ],
   "source": [
    "print( im_cv2.shape)\n",
    "im_cv2_c2_3ch = np.zeros( im_cv2.shape)\n",
    "im_cv2_c2_3ch[:,:,1] = im_cv2_c2\n",
    "print( im_cv2_c2_3ch.shape)\n",
    "im_cv2_c3_3ch = np.zeros( im_cv2.shape)\n",
    "im_cv2_c3_3ch[:,:,2] =  im_cv2_c3\n",
    "print( im_cv2_c3_3ch.shape)\n"
   ]
  },
  {
   "cell_type": "code",
   "execution_count": 112,
   "id": "432a83ec-7b38-4581-9161-b72c00dca27d",
   "metadata": {},
   "outputs": [
    {
     "data": {
      "image/png": "[encoded data removed]",
      "text/plain": [
       "<Figure size 432x288 with 4 Axes>"
      ]
     },
     "metadata": {
      "needs_background": "light"
     },
     "output_type": "display_data"
    }
   ],
   "source": [
    "\n",
    "from matplotlib import pyplot as plt\n",
    "plt.subplot(2, 2, 1)\n",
    "plt.title('Origin Image')\n",
    "plt.imshow( im_cv2)\n",
    "plt.axis('off')\n",
    "plt.subplot(2, 2, 2)\n",
    "plt.title('Red Channel')\n",
    "plt.imshow( im_cv2_c1_3ch.astype(np.uint8))\n",
    "plt.axis('off')\n",
    "plt.subplot(2, 2, 3)\n",
    "plt.title('Green Channel')\n",
    "plt.imshow( im_cv2_c2_3ch.astype(np.uint8))\n",
    "plt.axis('off')\n",
    "plt.subplot(2, 2, 4)\n",
    "plt.title('Blue Channel')\n",
    "plt.imshow( im_cv2_c3_3ch.astype(np.uint8))\n",
    "plt.axis('off')\n",
    "plt.savefig('./rgb_pillow.png', dpi=150)"
   ]
  },
  {
   "cell_type": "markdown",
   "id": "af954b99-65cb-4f2d-b46f-03b43068e146",
   "metadata": {},
   "source": [
    "##### 深拷贝（副本）与浅拷贝（视图）"
   ]
  },
  {
   "cell_type": "code",
   "execution_count": 113,
   "id": "51c9f609-a595-4a1d-bbb6-5c99f215953d",
   "metadata": {},
   "outputs": [
    {
     "name": "stdout",
     "output_type": "stream",
     "text": [
      "(6,)\n",
      "[0 1 2 3 4 5]\n",
      "(6,)\n",
      "[[0 1 2]\n",
      " [3 4 5]]\n",
      "[111   1   2   3   4   5]\n",
      "[[111   1   2]\n",
      " [  3   4   5]]\n"
     ]
    }
   ],
   "source": [
    "#  view() 浅拷贝, np.asarray()浅拷贝\n",
    "a = np.arange(6)\n",
    "print(a.shape)\n",
    "\n",
    "print(a)\n",
    "\n",
    "b = a.view()\n",
    "print(b.shape)\n",
    "b.shape = 2, 3\n",
    "print(b)\n",
    "b[0,0] = 111\n",
    "print(a)\n",
    "print(b)\n"
   ]
  },
  {
   "cell_type": "code",
   "execution_count": 117,
   "id": "24d0d882-f353-4819-adbf-75619872b954",
   "metadata": {},
   "outputs": [
    {
     "name": "stdout",
     "output_type": "stream",
     "text": [
      "[111  12   2   3   4   5]\n",
      "[111 121   2   3   4   5]\n",
      "[111  12   2   3   4   5]\n"
     ]
    }
   ],
   "source": [
    "# np.arrray() 深拷贝\n",
    "\n",
    "deep_a = np.array(a)\n",
    "lite_a =np.asarray(a)\n",
    "deep_a[1]=121\n",
    "lite_a[1]=12\n",
    "print(a)\n",
    "print(deep_a)\n",
    "print(lite_a)"
   ]
  },
  {
   "cell_type": "code",
   "execution_count": 120,
   "id": "2d3a2a61-706d-44df-ac99-3a1e74ba0a6b",
   "metadata": {},
   "outputs": [
    {
     "name": "stdout",
     "output_type": "stream",
     "text": [
      "8\n",
      "4\n"
     ]
    }
   ],
   "source": [
    "probs = np.array([0.075, 0.15, 0.075, 0.15, 0.0, 0.05, 0.05, 0.2, 0.25])\n",
    "print(np.argmax(probs))\n",
    "print(np.argmin(probs))"
   ]
  },
  {
   "cell_type": "code",
   "execution_count": 122,
   "id": "a51b8ece-ae7a-481b-9f1f-818409b984fd",
   "metadata": {},
   "outputs": [
    {
     "name": "stdout",
     "output_type": "stream",
     "text": [
      "[4 5 6 0 2 1 3 7 8]\n",
      "[4 5 6]\n",
      "[8 7 1 3 0 2 5 6 4]\n",
      "[8 7 1]\n"
     ]
    }
   ],
   "source": [
    "probs_idx_sort1 = np.argsort(probs)  \n",
    "print(probs_idx_sort1)\n",
    "print(probs_idx_sort1[:3])\n",
    "probs_idx_sort = np.argsort(-probs)  #注意，加了负号，是按降序排序\n",
    "print(probs_idx_sort)\n",
    "#概率最大的前三个值的坐标\n",
    "print(probs_idx_sort[:3])\n"
   ]
  },
  {
   "cell_type": "markdown",
   "id": "3a2f6ce2-abe9-4093-96a1-5766fbad4b51",
   "metadata": {},
   "source": [
    "### Tensor in Pytorch"
   ]
  },
  {
   "cell_type": "markdown",
   "id": "44fa6af8-7240-45e4-83c8-49a222ca4c75",
   "metadata": {},
   "source": [
    "#### 创建Tensor"
   ]
  },
  {
   "cell_type": "code",
   "execution_count": 125,
   "id": "dfba5e73-4dca-4ef1-9b9d-5d771e195934",
   "metadata": {},
   "outputs": [
    {
     "name": "stdout",
     "output_type": "stream",
     "text": [
      "tensor([1, 2, 3])\n",
      "tensor([4, 5, 6, 0, 2, 1, 3, 7, 8])\n"
     ]
    }
   ],
   "source": [
    "import torch\n",
    "print(torch.tensor([1,2,3]))\n",
    "print(torch.from_numpy(probs_idx_sort1))"
   ]
  },
  {
   "cell_type": "code",
   "execution_count": 135,
   "id": "76ca559a-cb5e-41a9-b4ae-c990fa512fcf",
   "metadata": {},
   "outputs": [
    {
     "name": "stdout",
     "output_type": "stream",
     "text": [
      "tensor([[0., 0., 0.],\n",
      "        [0., 0., 0.]])\n",
      "tensor([[1., 0., 0.],\n",
      "        [0., 1., 0.],\n",
      "        [0., 0., 1.]])\n",
      "tensor([[1., 1., 1.],\n",
      "        [1., 1., 1.]])\n"
     ]
    }
   ],
   "source": [
    "print(torch.zeros(2, 3))\n",
    "print(torch.eye(3))\n",
    "print(torch.ones(2, 3))"
   ]
  },
  {
   "cell_type": "code",
   "execution_count": 141,
   "id": "0ddbf6c0-da1c-4a7b-9290-d61cce0b7caf",
   "metadata": {},
   "outputs": [
    {
     "name": "stdout",
     "output_type": "stream",
     "text": [
      "tensor([[0.4107, 0.1699, 0.0625],\n",
      "        [0.6527, 0.7045, 0.3808]])\n",
      "tensor([[-0.9615,  0.5020, -0.7576],\n",
      "        [ 0.7207,  0.7236,  0.1284]])\n",
      "tensor([[-0.2771,  0.4383],\n",
      "        [ 0.5597,  0.2501],\n",
      "        [-0.7430, -0.6000]])\n",
      "tensor([[8, 2, 9],\n",
      "        [9, 4, 4]])\n"
     ]
    }
   ],
   "source": [
    "print(torch.rand((2,3)))\n",
    "print(torch.randn((2,3)))\n",
    "print(torch.normal(0, 1, (3,2)))\n",
    "print(torch.randint(1, 10, (2,3)))"
   ]
  },
  {
   "cell_type": "markdown",
   "id": "6559d375-76fa-44b1-97b8-3040c6a55cdb",
   "metadata": {},
   "source": [
    "#### Tensor 常用操作"
   ]
  },
  {
   "cell_type": "code",
   "execution_count": 147,
   "id": "83188835-8ede-4d05-b48f-144aebe9f9f0",
   "metadata": {},
   "outputs": [
    {
     "name": "stdout",
     "output_type": "stream",
     "text": [
      "torch.Size([2, 3, 4]) <class 'torch.Tensor'>\n",
      "torch.Size([2, 3, 4])\n",
      "24\n"
     ]
    }
   ],
   "source": [
    "# 获取形状和元素数目\n",
    "a = torch.zeros(2,3,4)\n",
    "print(a.shape, type(a))\n",
    "print(a.size())\n",
    "print(a.numel()) # 总数"
   ]
  },
  {
   "cell_type": "code",
   "execution_count": 148,
   "id": "e40b2a8a-e085-48eb-8429-34af246489c7",
   "metadata": {},
   "outputs": [
    {
     "name": "stdout",
     "output_type": "stream",
     "text": [
      "torch.Size([2, 3, 4]) tensor([[[ 0.0362, -1.4494,  0.4976, -0.2643],\n",
      "         [ 1.8913, -0.4740,  0.0393, -1.0073],\n",
      "         [-0.6387, -0.1377, -0.2994,  0.8014]],\n",
      "\n",
      "        [[-0.4006, -2.3914,  1.7749,  1.2583],\n",
      "         [-0.0912, -1.0375, -0.7213,  0.3766],\n",
      "         [ 0.5855,  0.7902,  0.1429,  0.3467]]])\n",
      "torch.Size([4, 3, 2]) tensor([[[ 0.0362, -0.4006],\n",
      "         [ 1.8913, -0.0912],\n",
      "         [-0.6387,  0.5855]],\n",
      "\n",
      "        [[-1.4494, -2.3914],\n",
      "         [-0.4740, -1.0375],\n",
      "         [-0.1377,  0.7902]],\n",
      "\n",
      "        [[ 0.4976,  1.7749],\n",
      "         [ 0.0393, -0.7213],\n",
      "         [-0.2994,  0.1429]],\n",
      "\n",
      "        [[-0.2643,  1.2583],\n",
      "         [-1.0073,  0.3766],\n",
      "         [ 0.8014,  0.3467]]])\n",
      "torch.Size([3, 4, 2]) tensor([[[ 0.0362, -0.4006],\n",
      "         [-1.4494, -2.3914],\n",
      "         [ 0.4976,  1.7749],\n",
      "         [-0.2643,  1.2583]],\n",
      "\n",
      "        [[ 1.8913, -0.0912],\n",
      "         [-0.4740, -1.0375],\n",
      "         [ 0.0393, -0.7213],\n",
      "         [-1.0073,  0.3766]],\n",
      "\n",
      "        [[-0.6387,  0.5855],\n",
      "         [-0.1377,  0.7902],\n",
      "         [-0.2994,  0.1429],\n",
      "         [ 0.8014,  0.3467]]])\n"
     ]
    }
   ],
   "source": [
    "# 矩阵转换\n",
    "x = torch.randn((2,3,4))\n",
    "print(x.shape, x)\n",
    "x = x.permute(2,1,0)\n",
    "print(x.shape, x)\n",
    "x = x.transpose(1,0)\n",
    "print(x.shape, x)\n"
   ]
  },
  {
   "cell_type": "code",
   "execution_count": 151,
   "id": "0105798e-3bb5-4c6c-b774-2afea43e30c4",
   "metadata": {},
   "outputs": [
    {
     "name": "stdout",
     "output_type": "stream",
     "text": [
      "tensor([[ 0.2669,  0.3427],\n",
      "        [ 0.1282,  2.3353],\n",
      "        [-1.4883,  1.0169],\n",
      "        [-0.0420, -0.0129],\n",
      "        [ 0.9634,  0.8979],\n",
      "        [ 1.6766, -1.6473],\n",
      "        [ 1.6748,  0.6131],\n",
      "        [ 0.3279, -0.7513]]) \n",
      " tensor([[ 0.2669,  0.3427,  0.1282,  2.3353],\n",
      "        [-1.4883,  1.0169, -0.0420, -0.0129],\n",
      "        [ 0.9634,  0.8979,  1.6766, -1.6473],\n",
      "        [ 1.6748,  0.6131,  0.3279, -0.7513]])\n"
     ]
    }
   ],
   "source": [
    "# 形状变换\n",
    "x1 = torch.randn(4,4)\n",
    "x1 = x1.view(2,8)\n",
    "x1 = x1.permute(1,0)\n",
    "x2 = x1.reshape(4,4)\n",
    "print(x1,'\\n', x2)"
   ]
  },
  {
   "cell_type": "code",
   "execution_count": 154,
   "id": "35f74263-1e9c-4462-aab0-b3667bcce564",
   "metadata": {},
   "outputs": [
    {
     "name": "stdout",
     "output_type": "stream",
     "text": [
      "torch.Size([2, 1, 3])\n",
      "torch.Size([2, 3])\n",
      "torch.Size([2, 1, 3])\n"
     ]
    }
   ],
   "source": [
    "# 增减纬度\n",
    "x2 = torch.randn(2,1,3)\n",
    "print(x2.shape)\n",
    "x2 = x2.squeeze(1)\n",
    "print(x2.shape)\n",
    "x2 = x2.unsqueeze(1)\n",
    "print(x2.shape)"
   ]
  },
  {
   "cell_type": "code",
   "execution_count": 156,
   "id": "e9c7e943-61da-4bdd-a723-4568be546700",
   "metadata": {},
   "outputs": [
    {
     "name": "stdout",
     "output_type": "stream",
     "text": [
      "tensor([[1., 1., 1.],\n",
      "        [1., 1., 1.],\n",
      "        [1., 1., 1.],\n",
      "        [2., 2., 2.],\n",
      "        [2., 2., 2.],\n",
      "        [2., 2., 2.]])\n",
      "tensor([[1., 1., 1., 2., 2., 2.],\n",
      "        [1., 1., 1., 2., 2., 2.],\n",
      "        [1., 1., 1., 2., 2., 2.]])\n"
     ]
    }
   ],
   "source": [
    "# 数据连接\n",
    "##数据拼接\n",
    "x3 = torch.ones((3,3))\n",
    "x4 = 2*torch.ones((3,3))\n",
    "print(torch.cat((x3,x4), 0))\n",
    "print(torch.cat((x3,x4), 1))"
   ]
  },
  {
   "cell_type": "code",
   "execution_count": 158,
   "id": "4c18d293-c3f1-464b-a666-0461d9bba383",
   "metadata": {},
   "outputs": [
    {
     "name": "stdout",
     "output_type": "stream",
     "text": [
      "tensor([0, 1, 2, 3])\n",
      "tensor([5, 6, 7, 8])\n",
      "tensor([[0, 1, 2, 3],\n",
      "        [5, 6, 7, 8]])\n",
      "tensor([[0, 5],\n",
      "        [1, 6],\n",
      "        [2, 7],\n",
      "        [3, 8]])\n"
     ]
    }
   ],
   "source": [
    "##增加纬度连接\n",
    "x5 = torch.arange(0,4)\n",
    "x6 = torch.arange(5,9)\n",
    "x7 = torch.stack((x5,x6), 0)\n",
    "x8 = torch.stack((x5,x6), 1)\n",
    "print(x5)\n",
    "print(x6)\n",
    "print(x7)\n",
    "print(x8)"
   ]
  },
  {
   "cell_type": "code",
   "execution_count": 161,
   "id": "581e6966-cebe-4f09-b661-cf7b6fb7ba0b",
   "metadata": {},
   "outputs": [
    {
     "name": "stdout",
     "output_type": "stream",
     "text": [
      "tensor([ 1,  2,  3,  4,  5,  6,  7,  8,  9, 10])\n",
      "(tensor([1, 2, 3, 4]), tensor([5, 6, 7, 8]), tensor([ 9, 10]))\n"
     ]
    }
   ],
   "source": [
    "# 切分\n",
    "x8 = torch.arange(1,11)\n",
    "print(x8)\n",
    "x9 = torch.chunk(x8, 3, 0)\n",
    "print(x9)"
   ]
  },
  {
   "cell_type": "code",
   "execution_count": 167,
   "id": "56adb4cb-9229-4952-84ec-542945c4e941",
   "metadata": {},
   "outputs": [
    {
     "name": "stdout",
     "output_type": "stream",
     "text": [
      "tensor([[ 0.5771,  0.4759,  0.6465, -0.6423],\n",
      "        [ 1.2316,  0.5598, -1.9431,  0.8217],\n",
      "        [ 0.2705,  0.6665, -1.9078, -2.2760],\n",
      "        [ 0.9028,  0.9447, -1.8418,  0.9417],\n",
      "        [-1.6166,  0.3329,  0.3391,  1.5699]])\n",
      "(tensor([[ 0.5771,  0.4759,  0.6465, -0.6423],\n",
      "        [ 1.2316,  0.5598, -1.9431,  0.8217],\n",
      "        [ 0.2705,  0.6665, -1.9078, -2.2760]]), tensor([[ 0.9028,  0.9447, -1.8418,  0.9417],\n",
      "        [-1.6166,  0.3329,  0.3391,  1.5699]]))\n",
      "<class 'tuple'>\n"
     ]
    }
   ],
   "source": [
    "A = torch.randn((5,4))\n",
    "B = torch.split(A, (3,2), 0)\n",
    "print(A)\n",
    "print(B)\n",
    "print(type(B))"
   ]
  },
  {
   "cell_type": "code",
   "execution_count": 168,
   "id": "cb896b5a-413e-4fe5-b37d-2022bddb7fda",
   "metadata": {},
   "outputs": [
    {
     "name": "stdout",
     "output_type": "stream",
     "text": [
      "tensor([[-0.5326, -0.0536,  1.3403, -0.4589],\n",
      "        [-0.2208,  0.0348, -0.8601, -0.9665],\n",
      "        [-1.2152, -0.9435, -1.4405, -0.1171],\n",
      "        [-0.0767, -0.1384,  0.7953,  1.4175]])\n",
      "(tensor([-0.5326, -0.0536,  1.3403, -0.4589]), tensor([-0.2208,  0.0348, -0.8601, -0.9665]), tensor([-1.2152, -0.9435, -1.4405, -0.1171]), tensor([-0.0767, -0.1384,  0.7953,  1.4175]))\n",
      "(tensor([-0.5326, -0.2208, -1.2152, -0.0767]), tensor([-0.0536,  0.0348, -0.9435, -0.1384]), tensor([ 1.3403, -0.8601, -1.4405,  0.7953]), tensor([-0.4589, -0.9665, -0.1171,  1.4175]))\n"
     ]
    }
   ],
   "source": [
    "A = torch.randn((4,4))\n",
    "print(A)\n",
    "B = torch.unbind(A, 0)\n",
    "print(B)\n",
    "C = torch.unbind(A, 1 )\n",
    "print(C)"
   ]
  },
  {
   "cell_type": "code",
   "execution_count": 170,
   "id": "d5ad8a01-91b2-4acd-beb5-806258e7db9c",
   "metadata": {},
   "outputs": [
    {
     "name": "stdout",
     "output_type": "stream",
     "text": [
      "tensor([[ 0,  1,  2,  3],\n",
      "        [ 4,  5,  6,  7],\n",
      "        [ 8,  9, 10, 11],\n",
      "        [12, 13, 14, 15]])\n",
      "tensor([[ 4,  5,  6,  7],\n",
      "        [12, 13, 14, 15]])\n",
      "tensor([[ 1,  3],\n",
      "        [ 5,  7],\n",
      "        [ 9, 11],\n",
      "        [13, 15]])\n"
     ]
    }
   ],
   "source": [
    "# 索引操作\n",
    "A = torch.arange(16).view(4,4)\n",
    "print(A)\n",
    "B = torch.index_select(A, 0, torch.tensor([1,3]))\n",
    "print(B)\n",
    "C = torch.index_select(A, 1, torch.tensor([1,3]))\n",
    "print(C)"
   ]
  },
  {
   "cell_type": "code",
   "execution_count": 174,
   "id": "437c819e-66f2-4da4-8449-7d68a2a4c8e2",
   "metadata": {},
   "outputs": [
    {
     "name": "stdout",
     "output_type": "stream",
     "text": [
      "tensor([-0.1057,  0.0884,  0.5022, -0.5478])\n",
      "tensor([False, False,  True, False])\n",
      "tensor([0.5022])\n",
      "tensor([0.0884, 0.5022])\n"
     ]
    }
   ],
   "source": [
    "A = torch.randn((4))\n",
    "B = A > 0.5\n",
    "C = torch.masked_select(A, B)\n",
    "print(A)\n",
    "print(B)\n",
    "print(C)\n",
    "print(torch.masked_select(A, A>0))\n"
   ]
  },
  {
   "cell_type": "code",
   "execution_count": null,
   "id": "f21b2554-40fd-49cb-97ad-41779c99e7c9",
   "metadata": {},
   "outputs": [],
   "source": []
  },
  {
   "cell_type": "code",
   "execution_count": null,
   "id": "9787d16a-5268-4c3c-9482-d44ed0120db5",
   "metadata": {},
   "outputs": [],
   "source": []
  }
 ],
 "metadata": {
  "kernelspec": {
   "display_name": "py39_torch_cpu",
   "language": "python",
   "name": "py39_torch_cpu"
  },
  "language_info": {
   "codemirror_mode": {
    "name": "ipython",
    "version": 3
   },
   "file_extension": ".py",
   "mimetype": "text/x-python",
   "name": "python",
   "nbconvert_exporter": "python",
   "pygments_lexer": "ipython3",
   "version": "3.9.12"
  }
 },
 "nbformat": 4,
 "nbformat_minor": 5
}
