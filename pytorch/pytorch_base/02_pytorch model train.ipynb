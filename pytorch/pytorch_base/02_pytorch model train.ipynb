{
 "cells": [
  {
   "cell_type": "markdown",
   "id": "6a1336ee-7f4c-4f7c-b4f0-68794e48b714",
   "metadata": {},
   "source": [
    "# Pytorch 数据读取&Torvision使用&卷积"
   ]
  },
  {
   "cell_type": "markdown",
   "id": "13933c92-0f8f-4d57-a6a5-aeb90a2320dd",
   "metadata": {},
   "source": [
    "## PyTorch 中的数据读取"
   ]
  },
  {
   "cell_type": "code",
   "execution_count": 4,
   "id": "f0345944-a44c-49d8-af16-c75eaa04dc08",
   "metadata": {},
   "outputs": [],
   "source": [
    "# Dataset\n",
    "import torch\n",
    "from torch.utils.data import Dataset\n",
    "\n",
    "class MyDataset(Dataset):\n",
    "    def __init__(self, data_tensor, target_tensor):\n",
    "        self.data_tensor = data_tensor\n",
    "        self.target_tensor = target_tensor\n",
    "    \n",
    "    def __len__(self):\n",
    "        return self.data_tensor.size(0)\n",
    "    \n",
    "    def __getitem__(self, index):\n",
    "        return self.data_tensor[index], self.target_tensor[index]"
   ]
  },
  {
   "cell_type": "code",
   "execution_count": 5,
   "id": "4d1d2f80-392b-4dc8-8136-289f83f6582d",
   "metadata": {},
   "outputs": [
    {
     "name": "stdout",
     "output_type": "stream",
     "text": [
      "10\n",
      "(tensor([0.8685, 0.0133, 1.1630]), tensor(0))\n"
     ]
    }
   ],
   "source": [
    "data_tensor = torch.randn(10,3)\n",
    "target_tensor = torch.randint(2,(10,))\n",
    "\n",
    "my_dataset = MyDataset(data_tensor, target_tensor)\n",
    "print(len(my_dataset))\n",
    "print(my_dataset[3])"
   ]
  },
  {
   "cell_type": "code",
   "execution_count": 6,
   "id": "9d609e64-01de-41a3-abfd-89422d5a4ffd",
   "metadata": {},
   "outputs": [
    {
     "name": "stdout",
     "output_type": "stream",
     "text": [
      "tensor([[-2.1601,  0.4595,  0.6937],\n",
      "        [ 0.2111,  1.6439,  0.3351]]) tensor([0, 1])\n",
      "tensor([[-1.0566,  0.0154,  1.7713],\n",
      "        [ 0.8719,  0.7853,  0.3223]]) tensor([1, 0])\n",
      "tensor([[-0.2782, -1.5485,  1.2719],\n",
      "        [-0.1457, -0.8181, -0.9222]]) tensor([1, 0])\n",
      "tensor([[ 0.8685,  0.0133,  1.1630],\n",
      "        [ 0.7853, -0.4559,  0.5755]]) tensor([0, 1])\n",
      "tensor([[-0.1976, -0.5653,  0.3282],\n",
      "        [ 1.0198, -0.7940,  1.2801]]) tensor([1, 1])\n",
      "one batch: [tensor([[-0.1976, -0.5653,  0.3282],\n",
      "        [ 0.2111,  1.6439,  0.3351]]), tensor([1, 1])]\n"
     ]
    }
   ],
   "source": [
    "# DataLoader\n",
    "from torch.utils.data import DataLoader\n",
    "tensor_dataloader = DataLoader(dataset = my_dataset,\n",
    "                              batch_size = 2,\n",
    "                              shuffle = 2,\n",
    "                              num_workers =0)\n",
    "\n",
    "for data, target in tensor_dataloader:\n",
    "    print(data, target)\n",
    "    \n",
    "print(\"one batch:\", iter(tensor_dataloader).next())"
   ]
  },
  {
   "cell_type": "markdown",
   "id": "5e6b7390-39b3-4cfd-a2cb-54f29a847f7a",
   "metadata": {},
   "source": [
    "## Torchvision"
   ]
  },
  {
   "cell_type": "code",
   "execution_count": 8,
   "id": "35e5c809-f3d4-4914-af39-c6ba338df4dc",
   "metadata": {},
   "outputs": [
    {
     "name": "stdout",
     "output_type": "stream",
     "text": [
      "Downloading http://yann.lecun.com/exdb/mnist/train-images-idx3-ubyte.gz\n",
      "Downloading http://yann.lecun.com/exdb/mnist/train-images-idx3-ubyte.gz to ../data/MNIST/raw/train-images-idx3-ubyte.gz\n"
     ]
    },
    {
     "name": "stderr",
     "output_type": "stream",
     "text": [
      "100.0%\n"
     ]
    },
    {
     "name": "stdout",
     "output_type": "stream",
     "text": [
      "Extracting ../data/MNIST/raw/train-images-idx3-ubyte.gz to ../data/MNIST/raw\n",
      "\n",
      "Downloading http://yann.lecun.com/exdb/mnist/train-labels-idx1-ubyte.gz\n",
      "Downloading http://yann.lecun.com/exdb/mnist/train-labels-idx1-ubyte.gz to ../data/MNIST/raw/train-labels-idx1-ubyte.gz\n"
     ]
    },
    {
     "name": "stderr",
     "output_type": "stream",
     "text": [
      "100.0%\n"
     ]
    },
    {
     "name": "stdout",
     "output_type": "stream",
     "text": [
      "Extracting ../data/MNIST/raw/train-labels-idx1-ubyte.gz to ../data/MNIST/raw\n",
      "\n",
      "Downloading http://yann.lecun.com/exdb/mnist/t10k-images-idx3-ubyte.gz\n",
      "Downloading http://yann.lecun.com/exdb/mnist/t10k-images-idx3-ubyte.gz to ../data/MNIST/raw/t10k-images-idx3-ubyte.gz\n"
     ]
    },
    {
     "name": "stderr",
     "output_type": "stream",
     "text": [
      "100.0%\n"
     ]
    },
    {
     "name": "stdout",
     "output_type": "stream",
     "text": [
      "Extracting ../data/MNIST/raw/t10k-images-idx3-ubyte.gz to ../data/MNIST/raw\n",
      "\n",
      "Downloading http://yann.lecun.com/exdb/mnist/t10k-labels-idx1-ubyte.gz\n",
      "Downloading http://yann.lecun.com/exdb/mnist/t10k-labels-idx1-ubyte.gz to ../data/MNIST/raw/t10k-labels-idx1-ubyte.gz\n"
     ]
    },
    {
     "name": "stderr",
     "output_type": "stream",
     "text": [
      "100.0%\n"
     ]
    },
    {
     "name": "stdout",
     "output_type": "stream",
     "text": [
      "Extracting ../data/MNIST/raw/t10k-labels-idx1-ubyte.gz to ../data/MNIST/raw\n",
      "\n"
     ]
    }
   ],
   "source": [
    "# 读取 mnist数据集\n",
    "import torchvision\n",
    "mnist_dataset = torchvision.datasets.MNIST(root='../data',\n",
    "                                          train=True,\n",
    "                                          transform=None,\n",
    "                                          target_transform=None,\n",
    "                                          download=True)"
   ]
  },
  {
   "cell_type": "code",
   "execution_count": 10,
   "id": "c802c4fc-9e4f-4f84-a72c-9d10849665e9",
   "metadata": {},
   "outputs": [
    {
     "name": "stderr",
     "output_type": "stream",
     "text": [
      "IOPub data rate exceeded.\n",
      "The Jupyter server will temporarily stop sending output\n",
      "to the client in order to avoid crashing it.\n",
      "To change this limit, set the config variable\n",
      "`--ServerApp.iopub_data_rate_limit`.\n",
      "\n",
      "Current values:\n",
      "ServerApp.iopub_data_rate_limit=1000000.0 (bytes/sec)\n",
      "ServerApp.rate_limit_window=3.0 (secs)\n",
      "\n"
     ]
    },
    {
     "data": {
      "image/png": "[encoded data removed]",
      "text/plain": [
       "<PIL.Image.Image image mode=L size=28x28>"
      ]
     },
     "metadata": {},
     "output_type": "display_data"
    },
    {
     "name": "stdout",
     "output_type": "stream",
     "text": [
      "Image label is: 5\n"
     ]
    }
   ],
   "source": [
    "mnist_data_list = list(mnist_dataset)\n",
    "print(mnist_data_list)\n",
    "\n",
    "display(mnist_data_list[0][0])\n",
    "print(\"Image label is:\", mnist_data_list[0][1])"
   ]
  },
  {
   "cell_type": "code",
   "execution_count": 12,
   "id": "7de9469f-3b8f-4c12-bcde-bc0117585d53",
   "metadata": {},
   "outputs": [
    {
     "name": "stdout",
     "output_type": "stream",
     "text": [
      "<class 'PIL.JpegImagePlugin.JpegImageFile'>\n",
      "<class 'torch.Tensor'>\n",
      "<class 'PIL.Image.Image'>\n"
     ]
    }
   ],
   "source": [
    "from PIL import Image\n",
    "from torchvision import transforms\n",
    "\n",
    "img = Image.open('../data/img/smile.jped')\n",
    "#display(img)\n",
    "print(type(img))\n",
    "\n",
    "img1 = transforms.ToTensor()(img)\n",
    "print(type(img1))\n",
    "\n",
    "img2 = transforms.ToPILImage()(img1)\n",
    "print(type(img2))"
   ]
  },
  {
   "cell_type": "code",
   "execution_count": 13,
   "id": "6bb33c0e-e1ae-43fe-ab1c-5da7bb7ef60b",
   "metadata": {},
   "outputs": [
    {
     "name": "stderr",
     "output_type": "stream",
     "text": [
      "/data/miniconda3/envs/py39_torch_cpu/lib/python3.9/site-packages/torchvision/transforms/transforms.py:332: UserWarning: Argument 'interpolation' of type int is deprecated since 0.13 and will be removed in 0.15. Please use InterpolationMode enum.\n",
      "  warnings.warn(\n"
     ]
    },
    {
     "data": {
      "image/png": "[encoded data removed]",
      "text/plain": [
       "<PIL.Image.Image image mode=RGB size=200x200>"
      ]
     },
     "metadata": {},
     "output_type": "display_data"
    }
   ],
   "source": [
    "#Resize\n",
    "resize_img_oper = transforms.Resize((200,200), interpolation=2)\n",
    "img3 = resize_img_oper(img)\n",
    "display(img3)"
   ]
  },
  {
   "cell_type": "code",
   "execution_count": 14,
   "id": "4b6a2e21-7bf0-42db-8071-6ad9f5f9d850",
   "metadata": {},
   "outputs": [
    {
     "data": {
      "image/png": "[encoded data removed]",
      "text/plain": [
       "<PIL.Image.Image image mode=RGB size=70x60>"
      ]
     },
     "metadata": {},
     "output_type": "display_data"
    },
    {
     "data": {
      "image/png": "[encoded data removed]",
      "text/plain": [
       "<PIL.Image.Image image mode=RGB size=80x80>"
      ]
     },
     "metadata": {},
     "output_type": "display_data"
    },
    {
     "data": {
      "image/png": "[encoded data removed]",
      "text/plain": [
       "<PIL.Image.Image image mode=RGB size=70x60>"
      ]
     },
     "metadata": {},
     "output_type": "display_data"
    },
    {
     "data": {
      "image/png": "[encoded data removed]",
      "text/plain": [
       "<PIL.Image.Image image mode=RGB size=70x60>"
      ]
     },
     "metadata": {},
     "output_type": "display_data"
    },
    {
     "data": {
      "image/png": "[encoded data removed]",
      "text/plain": [
       "<PIL.Image.Image image mode=RGB size=70x60>"
      ]
     },
     "metadata": {},
     "output_type": "display_data"
    },
    {
     "data": {
      "image/png": "[encoded data removed]",
      "text/plain": [
       "<PIL.Image.Image image mode=RGB size=70x60>"
      ]
     },
     "metadata": {},
     "output_type": "display_data"
    },
    {
     "data": {
      "image/png": "[encoded data removed]",
      "text/plain": [
       "<PIL.Image.Image image mode=RGB size=70x60>"
      ]
     },
     "metadata": {},
     "output_type": "display_data"
    }
   ],
   "source": [
    "# 裁剪\n",
    "centor_crop_oper = transforms.CenterCrop((60,70))\n",
    "random_crop_oper = transforms.RandomCrop((80,80))\n",
    "five_crop_oper = transforms.FiveCrop((60,70))\n",
    "\n",
    "img4 = centor_crop_oper(img3)\n",
    "display(img4)\n",
    "img5 = random_crop_oper(img3)\n",
    "display(img5)\n",
    "imgs6 = five_crop_oper(img3)\n",
    "for img in imgs6:\n",
    "    display(img)"
   ]
  },
  {
   "cell_type": "code",
   "execution_count": 19,
   "id": "5c416adc-599d-4da8-82b7-f9342ba2b4d5",
   "metadata": {},
   "outputs": [
    {
     "data": {
      "image/png": "[encoded data removed]",
      "text/plain": [
       "<PIL.Image.Image image mode=RGB size=80x80>"
      ]
     },
     "metadata": {},
     "output_type": "display_data"
    },
    {
     "data": {
      "image/png": "[encoded data removed]",
      "text/plain": [
       "<PIL.Image.Image image mode=RGB size=80x80>"
      ]
     },
     "metadata": {},
     "output_type": "display_data"
    }
   ],
   "source": [
    "# 翻转\n",
    "h_flip_oper = transforms.RandomHorizontalFlip(p=0.8)\n",
    "v_flip_oper = transforms.RandomVerticalFlip(p=0.5)\n",
    "\n",
    "img7 = h_flip_oper(img5)\n",
    "display(img7)\n",
    "img8 = v_flip_oper(img5)\n",
    "display(img8)"
   ]
  },
  {
   "cell_type": "code",
   "execution_count": 22,
   "id": "49a3c3e5-c9b7-4be9-a4ac-3b782f1ad84a",
   "metadata": {},
   "outputs": [
    {
     "data": {
      "image/png": "[encoded data removed]",
      "text/plain": [
       "<PIL.Image.Image image mode=RGB size=200x200>"
      ]
     },
     "metadata": {},
     "output_type": "display_data"
    },
    {
     "data": {
      "image/png": "[encoded data removed]",
      "text/plain": [
       "<PIL.Image.Image image mode=RGB size=200x200>"
      ]
     },
     "metadata": {},
     "output_type": "display_data"
    }
   ],
   "source": [
    "# 标准化\n",
    "norm_oper =transforms.Normalize((0.2,0.2,0.2), (0.5,0.5,0.5))\n",
    "\n",
    "img_tensor = transforms.ToTensor()(img3)\n",
    "tensor_norm = norm_oper(img_tensor)\n",
    "display(img3)\n",
    "\n",
    "img_norm = transforms.ToPILImage()(tensor_norm)\n",
    "display(img_norm)"
   ]
  },
  {
   "cell_type": "code",
   "execution_count": 23,
   "id": "252e91b4-201b-4f3a-8878-d0984c38ac06",
   "metadata": {},
   "outputs": [
    {
     "data": {
      "image/png": "[encoded data removed]",
      "text/plain": [
       "<PIL.Image.Image image mode=RGB size=80x80>"
      ]
     },
     "metadata": {},
     "output_type": "display_data"
    }
   ],
   "source": [
    "# 组合\n",
    "composed = transforms.Compose([transforms.Resize((100,100)),transforms.RandomCrop(80) ])\n",
    "\n",
    "img11 = composed(img3)\n",
    "display(img11)"
   ]
  },
  {
   "cell_type": "code",
   "execution_count": 24,
   "id": "c832bf53-2700-4d22-83ea-3066142a5bc1",
   "metadata": {},
   "outputs": [
    {
     "name": "stdout",
     "output_type": "stream",
     "text": [
      "<class 'torch.Tensor'>\n"
     ]
    },
    {
     "data": {
      "text/plain": [
       "\"\\n输出：\\n<class 'torch.Tensor'>\\n\""
      ]
     },
     "execution_count": 24,
     "metadata": {},
     "output_type": "execute_result"
    }
   ],
   "source": [
    "\n",
    "from torchvision import transforms\n",
    "from torchvision import datasets\n",
    "\n",
    "# 定义一个transform\n",
    "my_transform = transforms.Compose([transforms.ToTensor(),\n",
    "                                   transforms.Normalize((0.5), (0.5))\n",
    "                                  ])\n",
    "# 读取MNIST数据集 同时做数据变换\n",
    "mnist_dataset = datasets.MNIST(root='../data',\n",
    "                               train=False,\n",
    "                               transform=my_transform,\n",
    "                               target_transform=None,\n",
    "                               download=True)\n",
    "\n",
    "# 查看变换后的数据类型\n",
    "item = mnist_dataset.__getitem__(0)\n",
    "print(type(item[0]))\n",
    "'''\n",
    "输出：\n",
    "<class 'torch.Tensor'>\n",
    "'''"
   ]
  },
  {
   "cell_type": "code",
   "execution_count": 25,
   "id": "6f81e90d-6cf2-45fc-b2ff-5535ae986609",
   "metadata": {},
   "outputs": [
    {
     "name": "stderr",
     "output_type": "stream",
     "text": [
      "/data/miniconda3/envs/py39_torch_cpu/lib/python3.9/site-packages/torchvision/models/_utils.py:208: UserWarning: The parameter 'pretrained' is deprecated since 0.13 and will be removed in 0.15, please use 'weights' instead.\n",
      "  warnings.warn(\n",
      "/data/miniconda3/envs/py39_torch_cpu/lib/python3.9/site-packages/torchvision/models/_utils.py:223: UserWarning: Arguments other than a weight enum or `None` for 'weights' are deprecated since 0.13 and will be removed in 0.15. The current behavior is equivalent to passing `weights=GoogLeNet_Weights.IMAGENET1K_V1`. You can also use `weights=GoogLeNet_Weights.DEFAULT` to get the most up-to-date weights.\n",
      "  warnings.warn(msg)\n",
      "Downloading: \"https://download.pytorch.org/models/googlenet-1378be20.pth\" to /usr/local/app/.cache/torch/hub/checkpoints/googlenet-1378be20.pth\n",
      "100.0%\n"
     ]
    },
    {
     "name": "stdout",
     "output_type": "stream",
     "text": [
      "fc_in_features: 1024\n",
      "fc_out_features: 1000\n"
     ]
    },
    {
     "data": {
      "text/plain": [
       "'\\n输出：\\nfc_in_features: 1024\\nfc_out_features: 1000\\n'"
      ]
     },
     "execution_count": 25,
     "metadata": {},
     "output_type": "execute_result"
    }
   ],
   "source": [
    "\n",
    "import torch\n",
    "import torchvision.models as models\n",
    "\n",
    "# 加载预训练模型\n",
    "googlenet = models.googlenet(pretrained=True)\n",
    "\n",
    "# 提取分类层的输入参数\n",
    "fc_in_features = googlenet.fc.in_features\n",
    "print(\"fc_in_features:\", fc_in_features)\n",
    "\n",
    "# 查看分类层的输出参数\n",
    "fc_out_features = googlenet.fc.out_features\n",
    "print(\"fc_out_features:\", fc_out_features)\n",
    "\n",
    "# 修改预训练模型的输出分类数(在图像分类原理中会具体介绍torch.nn.Linear)\n",
    "googlenet.fc = torch.nn.Linear(fc_in_features, 10)\n",
    "'''\n",
    "输出：\n",
    "fc_in_features: 1024\n",
    "fc_out_features: 1000\n",
    "'''"
   ]
  },
  {
   "cell_type": "code",
   "execution_count": 26,
   "id": "0199cdb2-eea5-4654-9d3a-0c3dbda7ede8",
   "metadata": {},
   "outputs": [
    {
     "name": "stdout",
     "output_type": "stream",
     "text": [
      "torch.Size([32, 1, 28, 28])\n"
     ]
    },
    {
     "data": {
      "image/png": "[encoded data removed]",
      "text/plain": [
       "<PIL.Image.Image image mode=RGB size=242x122>"
      ]
     },
     "metadata": {},
     "output_type": "display_data"
    }
   ],
   "source": [
    "\n",
    "import torchvision\n",
    "from torchvision import datasets\n",
    "from torchvision import transforms\n",
    "from torch.utils.data import DataLoader\n",
    "\n",
    "# 加载MNIST数据集\n",
    "mnist_dataset = datasets.MNIST(root='../data',\n",
    "                               train=False,\n",
    "                               transform=transforms.ToTensor(),\n",
    "                               target_transform=None,\n",
    "                               download=True)\n",
    "# 取32张图片的tensor\n",
    "tensor_dataloader = DataLoader(dataset=mnist_dataset,\n",
    "                               batch_size=32)\n",
    "data_iter = iter(tensor_dataloader)\n",
    "img_tensor, label_tensor = data_iter.next()\n",
    "print(img_tensor.shape)\n",
    "'''\n",
    "输出：torch.Size([32, 1, 28, 28])\n",
    "'''\n",
    "# 将32张图片拼接在一个网格中\n",
    "grid_tensor = torchvision.utils.make_grid(img_tensor, nrow=8, padding=2)\n",
    "grid_img = transforms.ToPILImage()(grid_tensor)\n",
    "display(grid_img)"
   ]
  },
  {
   "cell_type": "code",
   "execution_count": 27,
   "id": "3c5f829e-c19f-45df-8a8b-81a99bfaf3d9",
   "metadata": {},
   "outputs": [],
   "source": [
    "\n",
    "# 输入为一张图片的tensor 直接保存\n",
    "torchvision.utils.save_image(grid_tensor, '../data/img/grid.jpg')\n",
    "\n",
    "# 输入为List 调用grid_img函数后保存\n",
    "torchvision.utils.save_image(img_tensor, '../data/img/grid2.jpg', nrow=5, padding=2)"
   ]
  },
  {
   "cell_type": "markdown",
   "id": "462f4934-c8bf-478d-9604-7883d02ee035",
   "metadata": {},
   "source": [
    "## Pytorch中的卷积"
   ]
  },
  {
   "cell_type": "code",
   "execution_count": 37,
   "id": "ecfeeac4-0fbd-45ea-b7d1-7ed5db84fd18",
   "metadata": {},
   "outputs": [
    {
     "name": "stdout",
     "output_type": "stream",
     "text": [
      "tensor([[4., 1., 7., 5.],\n",
      "        [4., 4., 2., 5.],\n",
      "        [7., 7., 2., 4.],\n",
      "        [1., 0., 2., 4.]])\n",
      "torch.Size([4, 4])\n",
      "Parameter containing:\n",
      "tensor([[[[0.0671, 0.3086],\n",
      "          [0.4891, 0.2789]]]], requires_grad=True)\n",
      "Parameter containing:\n",
      "tensor([-0.0304], requires_grad=True)\n"
     ]
    }
   ],
   "source": [
    "import torch\n",
    "import torch.nn as nn\n",
    "\n",
    "input_feat = torch.tensor([[4, 1, 7, 5], [4, 4, 2, 5], [7, 7, 2, 4], [1, 0, 2, 4]], dtype=torch.float32)\n",
    "print(input_feat)\n",
    "print(input_feat.shape)\n",
    "\n",
    "conv2d = nn.Conv2d(1,1, (2,2),stride=1, padding='same', bias=True)\n",
    "# 默认情况随机初始化参数\n",
    "print(conv2d.weight)\n",
    "print(conv2d.bias)"
   ]
  },
  {
   "cell_type": "code",
   "execution_count": 38,
   "id": "7b7fae43-ea1f-40ea-91dd-66bb65952dac",
   "metadata": {},
   "outputs": [
    {
     "name": "stdout",
     "output_type": "stream",
     "text": [
      "Parameter containing:\n",
      "tensor([[[[1., 0.],\n",
      "          [2., 1.]]]])\n",
      "None\n"
     ]
    }
   ],
   "source": [
    "\n",
    "conv2d = nn.Conv2d(1, 1, (2, 2), stride=1, padding='same', bias=False)\n",
    "# 卷积核要有四个维度(输入通道数，输出通道数，高，宽)\n",
    "kernels = torch.tensor([[[[1, 0], [2, 1]]]], dtype=torch.float32)\n",
    "conv2d.weight = nn.Parameter(kernels, requires_grad=False)\n",
    "print(conv2d.weight)\n",
    "print(conv2d.bias)\n"
   ]
  },
  {
   "cell_type": "code",
   "execution_count": 39,
   "id": "95db2193-321c-45e9-a1d9-b1bea9b6cef5",
   "metadata": {},
   "outputs": [
    {
     "name": "stdout",
     "output_type": "stream",
     "text": [
      "torch.Size([1, 1, 4, 4])\n"
     ]
    },
    {
     "name": "stderr",
     "output_type": "stream",
     "text": [
      "/data/miniconda3/envs/py39_torch_cpu/lib/python3.9/site-packages/torch/nn/modules/conv.py:453: UserWarning: Using padding='same' with even kernel lengths and odd dilation may require a zero-padded copy of the input be created (Triggered internally at  /opt/conda/conda-bld/pytorch_1656352482743/work/aten/src/ATen/native/Convolution.cpp:882.)\n",
      "  return F.conv2d(input, weight, bias, self.stride,\n"
     ]
    }
   ],
   "source": [
    "input_feat =input_feat.unsqueeze(0).unsqueeze(0)\n",
    "print(input_feat.shape)"
   ]
  },
  {
   "cell_type": "code",
   "execution_count": 40,
   "id": "59b93132-074f-4569-ae09-e61c93082349",
   "metadata": {},
   "outputs": [],
   "source": [
    "output = conv2d(input_feat)"
   ]
  },
  {
   "cell_type": "markdown",
   "id": "49088e06-071b-4765-ae62-cbe4f282dee2",
   "metadata": {},
   "source": [
    "##### 深度可分离卷积（Depthwise Separable Convolution）"
   ]
  },
  {
   "cell_type": "code",
   "execution_count": 42,
   "id": "7b5263b8-712f-4ed0-ab98-a03835b50171",
   "metadata": {},
   "outputs": [
    {
     "name": "stdout",
     "output_type": "stream",
     "text": [
      "torch.Size([1, 3, 5, 5])\n",
      "torch.Size([1, 4, 3, 3])\n"
     ]
    }
   ],
   "source": [
    "\n",
    "import torch\n",
    "import torch.nn as nn\n",
    "\n",
    "# 生成一个三通道的5x5特征图\n",
    "x = torch.rand((3, 5, 5)).unsqueeze(0)\n",
    "print(x.shape)\n",
    "# 输出：\n",
    "torch.Size([1, 3, 5, 5])\n",
    "# 请注意DW中，输入特征通道数与输出通道数是一样的\n",
    "in_channels_dw = x.shape[1]\n",
    "out_channels_dw = x.shape[1]\n",
    "# 一般来讲DW卷积的kernel size为3\n",
    "kernel_size = 3\n",
    "stride = 1\n",
    "# DW卷积groups参数与输入通道数一样\n",
    "dw = nn.Conv2d(in_channels_dw, out_channels_dw, kernel_size, stride, groups=in_channels_dw)\n",
    "\n",
    "#PW\n",
    "\n",
    "in_channels_pw = out_channels_dw\n",
    "out_channels_pw = 4\n",
    "kernel_size_pw = 1\n",
    "pw = nn.Conv2d(in_channels_pw, out_channels_pw, kernel_size_pw, stride)\n",
    "out = pw(dw(x))\n",
    "print(out.shape)"
   ]
  },
  {
   "cell_type": "code",
   "execution_count": null,
   "id": "1c3f83cc-1a65-4db1-978b-dc50c9f668c4",
   "metadata": {},
   "outputs": [],
   "source": []
  }
 ],
 "metadata": {
  "kernelspec": {
   "display_name": "py39_torch_cpu",
   "language": "python",
   "name": "py39_torch_cpu"
  },
  "language_info": {
   "codemirror_mode": {
    "name": "ipython",
    "version": 3
   },
   "file_extension": ".py",
   "mimetype": "text/x-python",
   "name": "python",
   "nbconvert_exporter": "python",
   "pygments_lexer": "ipython3",
   "version": "3.9.12"
  }
 },
 "nbformat": 4,
 "nbformat_minor": 5
}
