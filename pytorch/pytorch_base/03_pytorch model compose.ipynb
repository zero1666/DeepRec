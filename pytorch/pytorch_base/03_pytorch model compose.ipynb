{
 "cells": [
  {
   "cell_type": "markdown",
   "id": "f7f4d633-bba2-4cae-94ff-cd05f4cedfdf",
   "metadata": {},
   "source": [
    "# Pytorch 模型训练与可视化"
   ]
  },
  {
   "cell_type": "markdown",
   "id": "005ef85f-503d-4e97-a7c4-c95d2c07096b",
   "metadata": {},
   "source": [
    "一个深度学习项目包括了模型的设计、损失函数的设计、梯度更新的方法、模型的保存与加载、模型的训练过程等几个主要模块.深度学习，其实包括了三个最重要的核心过程：模型表示、方法评估、优化方法.\n",
    "在一个模型中，我们要设置如下几个内容：\n",
    "+ 模型定义。\n",
    "+ 损失函数定义。\n",
    "+ 优化器定义。"
   ]
  },
  {
   "cell_type": "markdown",
   "id": "3d171eb6-b33c-489e-b365-e3688f8c6497",
   "metadata": {},
   "source": [
    "##### 构建训练数据"
   ]
  },
  {
   "cell_type": "code",
   "execution_count": null,
   "id": "4272817c-09b3-447f-bc66-a3e0f37efab3",
   "metadata": {},
   "outputs": [],
   "source": [
    "import numpy as np\n",
    "import random\n",
    "from matplotlib import pyplot as plt\n",
    "\n",
    "w = 2\n",
    "b = 3\n",
    "xlim = [-10, 10]\n",
    "x_train = np.random.randint(low=xlim[0], high=xlim[1], size=30)\n",
    "\n",
    "y_train = [w * x + b + random.randint(0,2) for x in x_train]\n",
    "print(type(x_train), type(y_train))\n",
    "plt.plot(x_train, y_train, 'bo')"
   ]
  },
  {
   "cell_type": "markdown",
   "id": "9667941e-edc8-4185-bb37-1c114c9f93f7",
   "metadata": {},
   "source": [
    "###### 定义模型结构"
   ]
  },
  {
   "cell_type": "code",
   "execution_count": 2,
   "id": "23afea67-e2d6-4747-b028-0595dd8c87b3",
   "metadata": {},
   "outputs": [],
   "source": [
    "import torch\n",
    "from torch import nn\n",
    "\n",
    "class LinearModel(nn.Module):\n",
    "  def __init__(self):\n",
    "    super().__init__()\n",
    "    self.weight = nn.Parameter(torch.randn(1))\n",
    "    self.bias = nn.Parameter(torch.randn(1))\n",
    "\n",
    "  def forward(self, input):\n",
    "    return (input * self.weight) + self.bias"
   ]
  },
  {
   "cell_type": "markdown",
   "id": "9aef187d-0fbe-4af3-a4c8-cc212759dbcb",
   "metadata": {},
   "source": [
    "模型定义的要求：\n",
    "1. **必须继承 nn.Module 类**。torch.nn.Module 是所有神经网络模块的基类。设计网络结构的时候，必须继承该类。\n",
    "2. **重写__init__()方法**。通常来说要把有需要学习的参数的层放到构造函数中。初始化方法 __init__中必须调用父类的构造方法，即`super().__init__()`\n",
    "3. **forward() 是必须重写的方法**。看用来定义这个模型是如何计算输出的，也就是前向传播。对于一些不需要学习参数的层，一般来说可以放在这里。例如，BN 层，激活函数还有 Dropout。"
   ]
  },
  {
   "cell_type": "markdown",
   "id": "0b3c9885-d5fa-4717-83cb-ecb75dfdea42",
   "metadata": {},
   "source": [
    "定义损失函数和优化器，进行模型训练"
   ]
  },
  {
   "cell_type": "code",
   "execution_count": 3,
   "id": "b04c1ecf-bff2-4f26-b68f-d7bffe708716",
   "metadata": {},
   "outputs": [],
   "source": [
    "model = LinearModel()\n",
    "#声明模型的损失函数\n",
    "mseloss = nn.MSELoss()\n",
    "# 定义优化器\n",
    "optimizer= torch.optim.SGD(model.parameters(), lr =1e-4, weight_decay=1e-2,momentum=0.9)\n",
    "\n",
    "x_train_tensor = torch.from_numpy(x_train)\n",
    "y_train_tensor = torch.tensor(y_train,dtype=torch.float32)\n",
    "\n",
    "# 定义训练过程\n",
    "EPOCHS =100\n",
    "for  _ in range(EPOCHS):\n",
    "    input = x_train_tensor\n",
    "    output = model(input)\n",
    "    loss = mseloss(output, y_train_tensor)\n",
    "    model.zero_grad()\n",
    "    loss.backward()\n",
    "    optimizer.step()\n",
    "    "
   ]
  },
  {
   "cell_type": "markdown",
   "id": "54605611-3fd9-4a25-b79a-3b32ba07062f",
   "metadata": {},
   "source": [
    "可以通过 `named_parameters()` 来查看模型的可训练的参数"
   ]
  },
  {
   "cell_type": "code",
   "execution_count": 4,
   "id": "88bce352-9ce0-4ec6-a3ad-35ec3d119527",
   "metadata": {},
   "outputs": [
    {
     "name": "stdout",
     "output_type": "stream",
     "text": [
      "('weight', Parameter containing:\n",
      "tensor([1.8711], requires_grad=True))\n",
      "('bias', Parameter containing:\n",
      "tensor([1.9085], requires_grad=True))\n"
     ]
    }
   ],
   "source": [
    "for parameter in model.named_parameters():\n",
    "  print(parameter)\n"
   ]
  },
  {
   "cell_type": "markdown",
   "id": "f1ff18a6-5161-4a33-a4bb-036fa08a601a",
   "metadata": {},
   "source": [
    "直接 `print(modelname)` 可以打印模型的网络结构"
   ]
  },
  {
   "cell_type": "code",
   "execution_count": 6,
   "id": "18385278-4b61-4266-a9ca-2c7ca07d879c",
   "metadata": {},
   "outputs": [
    {
     "name": "stdout",
     "output_type": "stream",
     "text": [
      "LinearModel()\n"
     ]
    }
   ],
   "source": [
    "print(model)"
   ]
  },
  {
   "cell_type": "markdown",
   "id": "268095ad-b7f7-4e15-a6e2-fb80d0489dd7",
   "metadata": {},
   "source": [
    "#### 模型保存与加载\n",
    "###### 模型保存\n",
    "只保存模型参数，不保存模型结构"
   ]
  },
  {
   "cell_type": "code",
   "execution_count": 7,
   "id": "a7762073-4dd4-4478-8441-8e450e333f0a",
   "metadata": {},
   "outputs": [],
   "source": [
    "# 只保存模型参数，不保存模型结构\n",
    "torch.save(model.state_dict(), '../data/model/lineamodel.pth')\n"
   ]
  },
  {
   "cell_type": "markdown",
   "id": "9317f648-ae91-4d9a-afce-2daa5e415d3b",
   "metadata": {},
   "source": [
    "加载模型参数"
   ]
  },
  {
   "cell_type": "code",
   "execution_count": 13,
   "id": "897b0cc7-204e-4ff1-b9f4-6333dd466c72",
   "metadata": {},
   "outputs": [
    {
     "name": "stdout",
     "output_type": "stream",
     "text": [
      "('weight', Parameter containing:\n",
      "tensor([1.8711], requires_grad=True))\n",
      "('bias', Parameter containing:\n",
      "tensor([1.9085], requires_grad=True))\n"
     ]
    }
   ],
   "source": [
    "# 先定义网络结构\n",
    "linear_model = LinearModel()\n",
    "# 加载保存的参数\n",
    "linear_model.load_state_dict(torch.load('../data/model/lineamodel.pth'))\n",
    "linear_model.eval()\n",
    "for parameter in linear_model.named_parameters():\n",
    "  print(parameter)"
   ]
  },
  {
   "cell_type": "markdown",
   "id": "18c77df6-2301-43d9-ba36-434c8f8e672c",
   "metadata": {},
   "source": [
    "###### 保存网络结构与参数"
   ]
  },
  {
   "cell_type": "code",
   "execution_count": 16,
   "id": "2f41313a-f2d4-4be7-a5e1-2450325b130f",
   "metadata": {},
   "outputs": [],
   "source": [
    "torch.save(model, '../data/model/lineamodel_with_arc.pth')\n"
   ]
  },
  {
   "cell_type": "code",
   "execution_count": 17,
   "id": "5b3a175a-f99a-438d-a0e8-f3b5cd1f389c",
   "metadata": {},
   "outputs": [
    {
     "name": "stdout",
     "output_type": "stream",
     "text": [
      "('weight', Parameter containing:\n",
      "tensor([1.8711], requires_grad=True))\n",
      "('bias', Parameter containing:\n",
      "tensor([1.9085], requires_grad=True))\n"
     ]
    }
   ],
   "source": [
    "\n",
    "# 加载模型，不需要创建网络了\n",
    "linear_model_2 = torch.load('../data/model/lineamodel_with_arc.pth')\n",
    "linear_model_2.eval()\n",
    "for parameter in linear_model_2.named_parameters():\n",
    "  print(parameter)\n"
   ]
  },
  {
   "cell_type": "markdown",
   "id": "f6ea5dcb-989d-43ae-a210-19e19bd0028a",
   "metadata": {},
   "source": [
    "### 使用 Torchvison 中的模型进行训练\n",
    "模型微调"
   ]
  },
  {
   "cell_type": "code",
   "execution_count": 2,
   "id": "f37c9231-cde8-464e-8300-88df18b9514d",
   "metadata": {},
   "outputs": [
    {
     "name": "stderr",
     "output_type": "stream",
     "text": [
      "/data/miniconda3/envs/py39_torch_cpu/lib/python3.9/site-packages/torchvision/models/_utils.py:208: UserWarning: The parameter 'pretrained' is deprecated since 0.13 and will be removed in 0.15, please use 'weights' instead.\n",
      "  warnings.warn(\n",
      "/data/miniconda3/envs/py39_torch_cpu/lib/python3.9/site-packages/torchvision/models/_utils.py:223: UserWarning: Arguments other than a weight enum or `None` for 'weights' are deprecated since 0.13 and will be removed in 0.15. The current behavior is equivalent to passing `weights=AlexNet_Weights.IMAGENET1K_V1`. You can also use `weights=AlexNet_Weights.DEFAULT` to get the most up-to-date weights.\n",
      "  warnings.warn(msg)\n"
     ]
    }
   ],
   "source": [
    "# 拉取alexnet模型\n",
    "import torchvision.models as models\n",
    "alexnet = models.alexnet(pretrained=True)"
   ]
  },
  {
   "cell_type": "code",
   "execution_count": 4,
   "id": "b4804c74-0556-4105-a405-41cccdcdad8b",
   "metadata": {},
   "outputs": [
    {
     "data": {
      "text/plain": [
       "<All keys matched successfully>"
      ]
     },
     "execution_count": 4,
     "metadata": {},
     "output_type": "execute_result"
    }
   ],
   "source": [
    "import torch\n",
    "from torch import nn\n",
    "# 加载模型\n",
    "import torchvision.models as models\n",
    "alexnet = models.alexnet()\n",
    "alexnet.load_state_dict(torch.load('/usr/local/app/.cache/torch/hub/checkpoints/alexnet-owt-7be5be79.pth'))"
   ]
  },
  {
   "cell_type": "code",
   "execution_count": 5,
   "id": "2bacc572-3954-47b9-aab9-152d76dbacfd",
   "metadata": {},
   "outputs": [
    {
     "data": {
      "text/plain": [
       "tensor(151)"
      ]
     },
     "execution_count": 5,
     "metadata": {},
     "output_type": "execute_result"
    }
   ],
   "source": [
    "\n",
    "from PIL import Image\n",
    "import torchvision\n",
    "import torchvision.transforms as transforms\n",
    "\n",
    "im = Image.open('../data/img/dog.jpg')\n",
    "\n",
    "transform = transforms.Compose([\n",
    "    transforms.RandomResizedCrop((224,224)),\n",
    "    transforms.ToTensor(),\n",
    "    transforms.Normalize(mean=[0.485, 0.456, 0.406], std=[0.229, 0.224, 0.225])\n",
    "    ])\n",
    "\n",
    "input_tensor = transform(im).unsqueeze(0)\n",
    "alexnet(input_tensor).argmax()"
   ]
  },
  {
   "cell_type": "markdown",
   "id": "a66809ad-1854-44d8-85d8-ccc826c6de10",
   "metadata": {},
   "source": [
    "获取cifar10 数据集用于训练"
   ]
  },
  {
   "cell_type": "code",
   "execution_count": 7,
   "id": "84386acb-fef0-4c9e-a62d-e6638a8ad738",
   "metadata": {},
   "outputs": [
    {
     "name": "stdout",
     "output_type": "stream",
     "text": [
      "Files already downloaded and verified\n",
      "torch.Size([32, 3, 32, 32])\n"
     ]
    },
    {
     "data": {
      "image/png": "[encoded data removed]",
      "text/plain": [
       "<PIL.Image.Image image mode=RGB size=546x70>"
      ]
     },
     "metadata": {},
     "output_type": "display_data"
    }
   ],
   "source": [
    "from torch.utils.data import DataLoader\n",
    "\n",
    "cifar10_dataset = torchvision.datasets.CIFAR10(root='../data/cifar10',\n",
    "                                       train=False,\n",
    "                                       transform=transforms.ToTensor(),\n",
    "                                       target_transform=None,\n",
    "                                       download=True)\n",
    "# 取32张图片的tensor\n",
    "tensor_dataloader = DataLoader(dataset=cifar10_dataset,\n",
    "                               batch_size=32)\n",
    "data_iter = iter(tensor_dataloader)\n",
    "img_tensor, label_tensor = data_iter.next()\n",
    "print(img_tensor.shape)\n",
    "grid_tensor = torchvision.utils.make_grid(img_tensor, nrow=16, padding=2)\n",
    "grid_img = transforms.ToPILImage()(grid_tensor)\n",
    "display(grid_img)"
   ]
  },
  {
   "cell_type": "code",
   "execution_count": 8,
   "id": "6a7e245c-734e-4c0b-9ee7-4b6aa00467e6",
   "metadata": {},
   "outputs": [
    {
     "name": "stdout",
     "output_type": "stream",
     "text": [
      "AlexNet(\n",
      "  (features): Sequential(\n",
      "    (0): Conv2d(3, 64, kernel_size=(11, 11), stride=(4, 4), padding=(2, 2))\n",
      "    (1): ReLU(inplace=True)\n",
      "    (2): MaxPool2d(kernel_size=3, stride=2, padding=0, dilation=1, ceil_mode=False)\n",
      "    (3): Conv2d(64, 192, kernel_size=(5, 5), stride=(1, 1), padding=(2, 2))\n",
      "    (4): ReLU(inplace=True)\n",
      "    (5): MaxPool2d(kernel_size=3, stride=2, padding=0, dilation=1, ceil_mode=False)\n",
      "    (6): Conv2d(192, 384, kernel_size=(3, 3), stride=(1, 1), padding=(1, 1))\n",
      "    (7): ReLU(inplace=True)\n",
      "    (8): Conv2d(384, 256, kernel_size=(3, 3), stride=(1, 1), padding=(1, 1))\n",
      "    (9): ReLU(inplace=True)\n",
      "    (10): Conv2d(256, 256, kernel_size=(3, 3), stride=(1, 1), padding=(1, 1))\n",
      "    (11): ReLU(inplace=True)\n",
      "    (12): MaxPool2d(kernel_size=3, stride=2, padding=0, dilation=1, ceil_mode=False)\n",
      "  )\n",
      "  (avgpool): AdaptiveAvgPool2d(output_size=(6, 6))\n",
      "  (classifier): Sequential(\n",
      "    (0): Dropout(p=0.5, inplace=False)\n",
      "    (1): Linear(in_features=9216, out_features=4096, bias=True)\n",
      "    (2): ReLU(inplace=True)\n",
      "    (3): Dropout(p=0.5, inplace=False)\n",
      "    (4): Linear(in_features=4096, out_features=4096, bias=True)\n",
      "    (5): ReLU(inplace=True)\n",
      "    (6): Linear(in_features=4096, out_features=1000, bias=True)\n",
      "  )\n",
      ")\n"
     ]
    }
   ],
   "source": [
    "# 打印网络结构\n",
    "print(alexnet)"
   ]
  },
  {
   "cell_type": "markdown",
   "id": "0b0eae6f-f941-40fe-b818-4c107d3f0f50",
   "metadata": {},
   "source": [
    "#### 微调模式：使用预训练模型重新训练全部参数"
   ]
  },
  {
   "cell_type": "code",
   "execution_count": 9,
   "id": "da56bd4a-2c30-4863-8443-aef769d4f7ff",
   "metadata": {},
   "outputs": [
    {
     "name": "stdout",
     "output_type": "stream",
     "text": [
      "AlexNet(\n",
      "  (features): Sequential(\n",
      "    (0): Conv2d(3, 64, kernel_size=(11, 11), stride=(4, 4), padding=(2, 2))\n",
      "    (1): ReLU(inplace=True)\n",
      "    (2): MaxPool2d(kernel_size=3, stride=2, padding=0, dilation=1, ceil_mode=False)\n",
      "    (3): Conv2d(64, 192, kernel_size=(5, 5), stride=(1, 1), padding=(2, 2))\n",
      "    (4): ReLU(inplace=True)\n",
      "    (5): MaxPool2d(kernel_size=3, stride=2, padding=0, dilation=1, ceil_mode=False)\n",
      "    (6): Conv2d(192, 384, kernel_size=(3, 3), stride=(1, 1), padding=(1, 1))\n",
      "    (7): ReLU(inplace=True)\n",
      "    (8): Conv2d(384, 256, kernel_size=(3, 3), stride=(1, 1), padding=(1, 1))\n",
      "    (9): ReLU(inplace=True)\n",
      "    (10): Conv2d(256, 256, kernel_size=(3, 3), stride=(1, 1), padding=(1, 1))\n",
      "    (11): ReLU(inplace=True)\n",
      "    (12): MaxPool2d(kernel_size=3, stride=2, padding=0, dilation=1, ceil_mode=False)\n",
      "  )\n",
      "  (avgpool): AdaptiveAvgPool2d(output_size=(6, 6))\n",
      "  (classifier): Sequential(\n",
      "    (0): Dropout(p=0.5, inplace=False)\n",
      "    (1): Linear(in_features=9216, out_features=4096, bias=True)\n",
      "    (2): ReLU(inplace=True)\n",
      "    (3): Dropout(p=0.5, inplace=False)\n",
      "    (4): Linear(in_features=4096, out_features=4096, bias=True)\n",
      "    (5): ReLU(inplace=True)\n",
      "    (6): Linear(in_features=4096, out_features=10, bias=True)\n",
      "  )\n",
      ")\n"
     ]
    }
   ],
   "source": [
    "# 提取分类层的输入参数\n",
    "fc_in_features = alexnet.classifier[6].in_features\n",
    "# 修改预训练模型的输出分类数\n",
    "alexnet.classifier[6] = torch.nn.Linear(fc_in_features, 10)\n",
    "print(alexnet)"
   ]
  },
  {
   "cell_type": "markdown",
   "id": "3f6ad68f-ef1b-4711-8067-46cc4bcf691c",
   "metadata": {},
   "source": []
  },
  {
   "cell_type": "code",
   "execution_count": 11,
   "id": "e68830fc-323c-44ce-8e9a-4c2dac05e142",
   "metadata": {},
   "outputs": [
    {
     "name": "stdout",
     "output_type": "stream",
     "text": [
      "Files already downloaded and verified\n"
     ]
    }
   ],
   "source": [
    "\n",
    "transform = transforms.Compose([\n",
    "    transforms.RandomResizedCrop((224,224)),\n",
    "    transforms.ToTensor(),\n",
    "    transforms.Normalize(mean=[0.485, 0.456, 0.406], std=[0.229, 0.224, 0.225])\n",
    "    ])\n",
    "cifar10_dataset = torchvision.datasets.CIFAR10(root='../data/cifar10',\n",
    "                                       train=False,\n",
    "                                       transform=transform,\n",
    "                                       target_transform=None,\n",
    "                                       download=True)\n",
    "dataloader = DataLoader(dataset=cifar10_dataset, # 传入的数据集, 必须参数\n",
    "                               batch_size=32,       # 输出的batch大小\n",
    "                               shuffle=True,       # 数据是否打乱\n",
    "                               num_workers=2)      # 进程数, 0表示只有主进程"
   ]
  },
  {
   "cell_type": "code",
   "execution_count": 12,
   "id": "589bede5-6da0-48fc-b288-9bd810742764",
   "metadata": {},
   "outputs": [
    {
     "name": "stdout",
     "output_type": "stream",
     "text": [
      "Epoch 1, Loss 2.2912731170654297\n",
      "Epoch 1, Loss 2.3878469467163086\n",
      "Epoch 1, Loss 2.3763134479522705\n",
      "Epoch 1, Loss 2.2168779373168945\n",
      "Epoch 1, Loss 2.4542553424835205\n",
      "Epoch 1, Loss 2.4314348697662354\n",
      "Epoch 1, Loss 2.329298734664917\n",
      "Epoch 1, Loss 2.5960075855255127\n",
      "Epoch 1, Loss 2.3086729049682617\n",
      "Epoch 1, Loss 2.416018009185791\n",
      "Epoch 1, Loss 2.241990804672241\n",
      "Epoch 1, Loss 2.167414903640747\n",
      "Epoch 1, Loss 2.229670524597168\n",
      "Epoch 1, Loss 2.355774402618408\n",
      "Epoch 1, Loss 2.388242483139038\n",
      "Epoch 1, Loss 2.2592756748199463\n",
      "Epoch 1, Loss 2.2828614711761475\n",
      "Epoch 1, Loss 2.3094146251678467\n",
      "Epoch 1, Loss 2.194972276687622\n",
      "Epoch 1, Loss 2.198899984359741\n",
      "Epoch 1, Loss 2.2038862705230713\n",
      "Epoch 1, Loss 2.226166248321533\n",
      "Epoch 1, Loss 2.1445159912109375\n",
      "Epoch 1, Loss 2.1299149990081787\n",
      "Epoch 1, Loss 2.177553176879883\n",
      "Epoch 1, Loss 2.161918878555298\n",
      "Epoch 1, Loss 2.1898441314697266\n",
      "Epoch 1, Loss 2.205780267715454\n",
      "Epoch 1, Loss 2.0807933807373047\n",
      "Epoch 1, Loss 2.0853638648986816\n",
      "Epoch 1, Loss 2.140247106552124\n",
      "Epoch 1, Loss 2.020730495452881\n",
      "Epoch 1, Loss 2.0582809448242188\n",
      "Epoch 1, Loss 2.097080707550049\n",
      "Epoch 1, Loss 2.006800889968872\n",
      "Epoch 1, Loss 2.0887506008148193\n",
      "Epoch 1, Loss 2.1802945137023926\n",
      "Epoch 1, Loss 2.0334508419036865\n",
      "Epoch 1, Loss 2.0217947959899902\n",
      "Epoch 1, Loss 2.096856117248535\n",
      "Epoch 1, Loss 1.947283387184143\n",
      "Epoch 1, Loss 2.080632448196411\n",
      "Epoch 1, Loss 2.1144509315490723\n",
      "Epoch 1, Loss 1.9241081476211548\n",
      "Epoch 1, Loss 2.0351266860961914\n",
      "Epoch 1, Loss 1.905328631401062\n",
      "Epoch 1, Loss 1.8233798742294312\n",
      "Epoch 1, Loss 1.704656958580017\n",
      "Epoch 1, Loss 1.9682838916778564\n",
      "Epoch 1, Loss 1.8981270790100098\n",
      "Epoch 1, Loss 2.1522490978240967\n",
      "Epoch 1, Loss 1.879169225692749\n",
      "Epoch 1, Loss 2.0914106369018555\n",
      "Epoch 1, Loss 1.8862414360046387\n",
      "Epoch 1, Loss 1.8495675325393677\n",
      "Epoch 1, Loss 1.8001357316970825\n",
      "Epoch 1, Loss 1.9449032545089722\n",
      "Epoch 1, Loss 1.7883036136627197\n",
      "Epoch 1, Loss 1.8024253845214844\n",
      "Epoch 1, Loss 1.7588545083999634\n",
      "Epoch 1, Loss 1.9695961475372314\n",
      "Epoch 1, Loss 1.8961679935455322\n",
      "Epoch 1, Loss 1.9093517065048218\n",
      "Epoch 1, Loss 1.8273483514785767\n",
      "Epoch 1, Loss 1.8152562379837036\n",
      "Epoch 1, Loss 1.7845419645309448\n",
      "Epoch 1, Loss 1.9552662372589111\n",
      "Epoch 1, Loss 1.8349145650863647\n",
      "Epoch 1, Loss 1.8693809509277344\n",
      "Epoch 1, Loss 1.7938088178634644\n",
      "Epoch 1, Loss 1.6297987699508667\n",
      "Epoch 1, Loss 1.9099063873291016\n",
      "Epoch 1, Loss 1.9777579307556152\n",
      "Epoch 1, Loss 1.6961085796356201\n",
      "Epoch 1, Loss 1.6757357120513916\n",
      "Epoch 1, Loss 1.7497379779815674\n",
      "Epoch 1, Loss 1.8648444414138794\n",
      "Epoch 1, Loss 1.8143552541732788\n",
      "Epoch 1, Loss 1.6404905319213867\n",
      "Epoch 1, Loss 1.636664628982544\n",
      "Epoch 1, Loss 1.789594292640686\n",
      "Epoch 1, Loss 1.6378132104873657\n",
      "Epoch 1, Loss 1.8638945817947388\n",
      "Epoch 1, Loss 1.6519601345062256\n",
      "Epoch 1, Loss 1.7928370237350464\n",
      "Epoch 1, Loss 1.7086365222930908\n",
      "Epoch 1, Loss 1.9376776218414307\n",
      "Epoch 1, Loss 1.6007966995239258\n",
      "Epoch 1, Loss 1.6493576765060425\n",
      "Epoch 1, Loss 1.7339874505996704\n",
      "Epoch 1, Loss 1.7110459804534912\n",
      "Epoch 1, Loss 1.82245934009552\n",
      "Epoch 1, Loss 1.5079070329666138\n",
      "Epoch 1, Loss 1.6837239265441895\n",
      "Epoch 1, Loss 1.6397802829742432\n",
      "Epoch 1, Loss 1.509141445159912\n",
      "Epoch 1, Loss 1.795063853263855\n",
      "Epoch 1, Loss 1.4455771446228027\n",
      "Epoch 1, Loss 1.797059416770935\n",
      "Epoch 1, Loss 1.3804831504821777\n",
      "Epoch 1, Loss 1.6841764450073242\n",
      "Epoch 1, Loss 1.5604873895645142\n",
      "Epoch 1, Loss 1.5432863235473633\n",
      "Epoch 1, Loss 1.6537920236587524\n",
      "Epoch 1, Loss 1.565637469291687\n",
      "Epoch 1, Loss 1.6016669273376465\n",
      "Epoch 1, Loss 1.5562790632247925\n",
      "Epoch 1, Loss 1.4958581924438477\n",
      "Epoch 1, Loss 1.7400922775268555\n",
      "Epoch 1, Loss 1.6197429895401\n",
      "Epoch 1, Loss 1.6963527202606201\n",
      "Epoch 1, Loss 1.5669933557510376\n",
      "Epoch 1, Loss 1.7497426271438599\n",
      "Epoch 1, Loss 1.3456567525863647\n",
      "Epoch 1, Loss 1.510898470878601\n",
      "Epoch 1, Loss 1.4605742692947388\n",
      "Epoch 1, Loss 1.6868906021118164\n",
      "Epoch 1, Loss 1.5016520023345947\n",
      "Epoch 1, Loss 1.5319292545318604\n",
      "Epoch 1, Loss 1.2265279293060303\n",
      "Epoch 1, Loss 1.5422813892364502\n",
      "Epoch 1, Loss 1.7938199043273926\n",
      "Epoch 1, Loss 1.621340036392212\n",
      "Epoch 1, Loss 1.7221604585647583\n",
      "Epoch 1, Loss 1.6864639520645142\n",
      "Epoch 1, Loss 1.778186321258545\n",
      "Epoch 1, Loss 1.7245848178863525\n",
      "Epoch 1, Loss 1.5956660509109497\n",
      "Epoch 1, Loss 1.667030692100525\n",
      "Epoch 1, Loss 1.241011381149292\n",
      "Epoch 1, Loss 1.3981684446334839\n"
     ]
    },
    {
     "name": "stderr",
     "output_type": "stream",
     "text": [
      "\n",
      "KeyboardInterrupt\n",
      "\n"
     ]
    }
   ],
   "source": [
    "#先定义优化器\n",
    "\n",
    "optimizer = torch.optim.SGD(alexnet.parameters(), lr=1e-4, weight_decay=1e-2, momentum=0.9)\n",
    "# 模型训练\n",
    "\n",
    "# 训练3个Epoch\n",
    "for epoch in range(3):\n",
    "    for item in dataloader: \n",
    "        output = alexnet(item[0])\n",
    "        target = item[1]\n",
    "        # 使用交叉熵损失函数\n",
    "        loss = nn.CrossEntropyLoss()(output, target)\n",
    "        print('Epoch {}, Loss {}'.format(epoch + 1 , loss))\n",
    "        #以下代码的含义，我们在之前的文章中已经介绍过了\n",
    "        alexnet.zero_grad()\n",
    "        loss.backward()\n",
    "        optimizer.step()"
   ]
  },
  {
   "cell_type": "markdown",
   "id": "e06b0678-57fa-4588-ae3e-5941bdc27401",
   "metadata": {},
   "source": [
    "##### 微调模式2： 只重新训练输出层参数. 其它参数保持不变\n",
    "只需要在读取完预训练模型之后，将全连接层之前的参数全部锁死即可，也就是让他们无法训练，我们模型训练时，只训练全连接层就行了，其余一切都不变。代码如下所示："
   ]
  },
  {
   "cell_type": "code",
   "execution_count": 13,
   "id": "3b6d0acc-d83b-4ddc-9cca-43ae119bd12d",
   "metadata": {},
   "outputs": [],
   "source": [
    "\n",
    "alexnet = models.alexnet()\n",
    "alexnet.load_state_dict(torch.load('/usr/local/app/.cache/torch/hub/checkpoints/alexnet-owt-7be5be79.pth'))\n",
    "for param in alexnet.parameters():\n",
    "    param.requires_grad = False"
   ]
  },
  {
   "cell_type": "markdown",
   "id": "97e2c064-8fe2-400c-80bd-3db91999a8b4",
   "metadata": {},
   "source": [
    "### 模型可视化\n",
    "#### TensorboardX使用"
   ]
  },
  {
   "cell_type": "code",
   "execution_count": 2,
   "id": "7e2a10ae-416b-4429-8636-671971948904",
   "metadata": {},
   "outputs": [
    {
     "data": {
      "text/plain": [
       "<torch.utils.tensorboard.writer.SummaryWriter at 0x7f28ae6ea910>"
      ]
     },
     "execution_count": 2,
     "metadata": {},
     "output_type": "execute_result"
    }
   ],
   "source": [
    "import torch\n",
    "torch.utils.tensorboard.writer.SummaryWriter(log_dir='/ceph/11027/test')"
   ]
  },
  {
   "cell_type": "code",
   "execution_count": 5,
   "id": "fb3428b1-c33b-484f-959c-87cce0210ae3",
   "metadata": {},
   "outputs": [],
   "source": [
    "from torch.utils.tensorboard import SummaryWriter\n",
    "import numpy as np\n",
    "\n",
    "writer = SummaryWriter(log_dir='/ceph/11027/test')\n",
    "for n_iter in range(100):\n",
    "    writer.add_scalar('Loss/train', np.random.random(), n_iter)\n",
    "    writer.add_scalar('Loss/test', np.random.random(), n_iter)    \n",
    "    writer.add_scalar('Accuracy/train', np.random.random(), n_iter)\n",
    "    writer.add_scalar('Accuracy/test', np.random.random(), n_iter)\n",
    "    img = np.zeros((3, 100, 100))\n",
    "    img[0] = np.arange(0, 10000).reshape(100, 100) / 10000\n",
    "    img[1] = 1 - np.arange(0, 10000).reshape(100, 100) / 10000\n",
    "    writer.add_image('my_image', img, 0)\n",
    "    writer.close()"
   ]
  },
  {
   "cell_type": "markdown",
   "id": "f2524378-c8c6-4bd6-b4c8-60e0e4d08c18",
   "metadata": {},
   "source": [
    "Linear 使用 tensorboardx"
   ]
  },
  {
   "cell_type": "code",
   "execution_count": 6,
   "id": "7c8d881b-34ad-465b-b061-df4985568800",
   "metadata": {},
   "outputs": [],
   "source": [
    "\n",
    "import random\n",
    "import numpy as np\n",
    "import torch\n",
    "from torch import nn\n",
    "\n",
    "# 模型定义\n",
    "class LinearModel(nn.Module):\n",
    "  def __init__(self):\n",
    "    super().__init__()\n",
    "    self.weight = nn.Parameter(torch.randn(1))\n",
    "    self.bias = nn.Parameter(torch.randn(1))\n",
    "\n",
    "  def forward(self, input):\n",
    "    return (input * self.weight) + self.bias\n",
    "\n",
    "# 数据\n",
    "w = 2\n",
    "b = 3\n",
    "xlim = [-10, 10]\n",
    "x_train = np.random.randint(low=xlim[0], high=xlim[1], size=30)\n",
    "y_train = [w * x + b + random.randint(0,2) for x in x_train]"
   ]
  },
  {
   "cell_type": "code",
   "execution_count": 9,
   "id": "bd27bc21-3795-4268-b314-e9bb1c141b22",
   "metadata": {},
   "outputs": [
    {
     "name": "stderr",
     "output_type": "stream",
     "text": [
      "/tmp/ipykernel_24955/723533739.py:7: UserWarning: To copy construct from a tensor, it is recommended to use sourceTensor.clone().detach() or sourceTensor.clone().detach().requires_grad_(True), rather than torch.tensor(sourceTensor).\n",
      "  y_train = torch.tensor(y_train, dtype=torch.float32)\n"
     ]
    }
   ],
   "source": [
    "\n",
    "# Tensorboard\n",
    "from torch.utils.tensorboard import SummaryWriter\n",
    "\n",
    "# 训练\n",
    "model = LinearModel()\n",
    "optimizer = torch.optim.SGD(model.parameters(), lr=1e-4, weight_decay=1e-2, momentum=0.9)\n",
    "y_train = torch.tensor(y_train, dtype=torch.float32)\n",
    "\n",
    "writer = SummaryWriter(log_dir='/ceph/11027/test')\n",
    "\n",
    "for n_iter in range(500):\n",
    "    input = torch.from_numpy(x_train)\n",
    "    output = model(input)\n",
    "    loss = nn.MSELoss()(output, y_train)\n",
    "    model.zero_grad()\n",
    "    loss.backward()\n",
    "    optimizer.step()\n",
    "    writer.add_scalar('Loss/train', loss, n_iter)"
   ]
  },
  {
   "cell_type": "code",
   "execution_count": null,
   "id": "5fe1d111-df7b-4019-84d1-0a4498ca56ea",
   "metadata": {},
   "outputs": [],
   "source": []
  }
 ],
 "metadata": {
  "kernelspec": {
   "display_name": "py39_torch_cpu",
   "language": "python",
   "name": "py39_torch_cpu"
  },
  "language_info": {
   "codemirror_mode": {
    "name": "ipython",
    "version": 3
   },
   "file_extension": ".py",
   "mimetype": "text/x-python",
   "name": "python",
   "nbconvert_exporter": "python",
   "pygments_lexer": "ipython3",
   "version": "3.9.12"
  }
 },
 "nbformat": 4,
 "nbformat_minor": 5
}
