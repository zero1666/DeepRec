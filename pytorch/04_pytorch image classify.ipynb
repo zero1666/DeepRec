{
 "cells": [
  {
   "cell_type": "markdown",
   "id": "fcae6181-d004-4a4b-8ad8-ddb69e5b6edc",
   "metadata": {},
   "source": [
    "## Pytorch 图像分类"
   ]
  },
  {
   "cell_type": "code",
   "execution_count": 3,
   "id": "10098c0f-ff07-4c71-abf6-8bbed0839068",
   "metadata": {},
   "outputs": [
    {
     "name": "stdout",
     "output_type": "stream",
     "text": [
      "tensor([-0.0942, -0.4796])\n",
      "tensor([0.5952, 0.4048])\n"
     ]
    }
   ],
   "source": [
    "import torch\n",
    "import torch.nn as nn\n",
    "y = torch.randn(2)\n",
    "print(y)\n",
    "m = nn.Softmax(dim=0)\n",
    "out = m(y)\n",
    "print(out)"
   ]
  },
  {
   "cell_type": "code",
   "execution_count": null,
   "id": "16c93168-bdea-4bff-86dc-611fe5cbf2bd",
   "metadata": {},
   "outputs": [],
   "source": []
  }
 ],
 "metadata": {
  "kernelspec": {
   "display_name": "py39_torch_cpu",
   "language": "python",
   "name": "py39_torch_cpu"
  },
  "language_info": {
   "codemirror_mode": {
    "name": "ipython",
    "version": 3
   },
   "file_extension": ".py",
   "mimetype": "text/x-python",
   "name": "python",
   "nbconvert_exporter": "python",
   "pygments_lexer": "ipython3",
   "version": "3.9.12"
  }
 },
 "nbformat": 4,
 "nbformat_minor": 5
}
