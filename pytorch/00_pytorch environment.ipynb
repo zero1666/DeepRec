{
 "cells": [
  {
   "cell_type": "markdown",
   "id": "fa355a91-7277-428d-91c0-3dfa47b746ab",
   "metadata": {},
   "source": [
    "## Pytorch环境搭建"
   ]
  },
  {
   "cell_type": "markdown",
   "id": "fd4e7118-fdf4-410a-ba98-97282bf38713",
   "metadata": {},
   "source": [
    "### 安装 Pytorch CPU版本\n",
    "+ python=3.9.12\n",
    "+ torch =1.12.0\n",
    "+ pip=22.1.2"
   ]
  },
  {
   "cell_type": "code",
   "execution_count": null,
   "id": "473de6fb-6755-44b9-871a-ab07e6b4c78a",
   "metadata": {},
   "outputs": [],
   "source": [
    "# 先更新conda到最新版本\n",
    "!conda update -n base -c defaults conda\n",
    "# 创建虚拟环境\n",
    "!conda create -n py39_torch_cpu python=3.9\n",
    "!conda activate py39_torch_cpu\n",
    "!conda install pytorch torchvision torchaudio cpuonly -c pytorch\n",
    "!conda install scikit-learn-intelex\n",
    "!conda install pandas matplotlib jupyter notebook scipy scikit-learn"
   ]
  },
  {
   "cell_type": "code",
   "execution_count": null,
   "id": "e7c7b3db-5b21-45cf-a284-11993d1d878a",
   "metadata": {},
   "outputs": [],
   "source": [
    "!pip install tensorboard\n",
    "\n",
    "# pytorch1.8版本之前,1.8 版本后自带\n",
    "!pip install tensorboardX\n",
    "!pip install visdom"
   ]
  },
  {
   "cell_type": "markdown",
   "id": "0c380fbc-b70d-4796-bd83-42a579612d0b",
   "metadata": {},
   "source": [
    "安装验证\n",
    "+ 进入python解释器，执行 import torch 如果没报错，则证明安装成功。\n",
    "+ 执行 torch.cuda.is_available(), 如果显示True。则证明GPU可用。"
   ]
  },
  {
   "cell_type": "code",
   "execution_count": 1,
   "id": "49805897-ca36-4ebf-aa1d-da2e5f15becc",
   "metadata": {},
   "outputs": [
    {
     "name": "stdout",
     "output_type": "stream",
     "text": [
      "\n",
      "CommandNotFoundError: Your shell has not been properly configured to use 'conda activate'.\n",
      "To initialize your shell, run\n",
      "\n",
      "    $ conda init <SHELL_NAME>\n",
      "\n",
      "Currently supported shells are:\n",
      "  - bash\n",
      "  - fish\n",
      "  - tcsh\n",
      "  - xonsh\n",
      "  - zsh\n",
      "  - powershell\n",
      "\n",
      "See 'conda init --help' for more information and options.\n",
      "\n",
      "IMPORTANT: You may need to close and restart your shell after running 'conda init'.\n",
      "\n",
      "\n"
     ]
    },
    {
     "name": "stderr",
     "output_type": "stream",
     "text": [
      "\n",
      "KeyboardInterrupt\n",
      "\n"
     ]
    }
   ],
   "source": [
    "## 添加 ipykernel\n",
    "!conda activate py39_torch_cpu\n",
    "!pip install ipykernel\n",
    "!python -m ipykernel install --user --name=py39_torch_cpu --display-name \"py39_torch_cpu\"\n",
    "## 移除ipykernel\n",
    "!jupyter kernelspec remove py39_torch_cpu"
   ]
  },
  {
   "cell_type": "markdown",
   "id": "8bec00f9-32b3-456a-b20d-a0b22921eb88",
   "metadata": {},
   "source": [
    "### 安装其他工具包"
   ]
  },
  {
   "cell_type": "code",
   "execution_count": null,
   "id": "2388837b-900b-470f-a413-6fd02f248e6d",
   "metadata": {},
   "outputs": [],
   "source": [
    "# 安装opencv2\n",
    "!pip install opencv-python"
   ]
  },
  {
   "cell_type": "code",
   "execution_count": null,
   "id": "b950d0e3-c4c1-46a0-ba56-3b251385cb9e",
   "metadata": {},
   "outputs": [],
   "source": [
    "# 安装 torchvision\n",
    "!pip install torchvision\n",
    "# 安装 pillow\n",
    "!pip install pillow"
   ]
  },
  {
   "cell_type": "code",
   "execution_count": null,
   "id": "2b99996e-a917-42e1-97e5-b5cfd9f39631",
   "metadata": {},
   "outputs": [],
   "source": [
    "# 使用cpu_load.py\n",
    "!pip install --upgrade pip\n",
    "!pip install psutil\n",
    "!pip install setproctitle\n",
    "!export TARGET=20\n",
    "!nohup python cpu_load.py &"
   ]
  },
  {
   "cell_type": "code",
   "execution_count": null,
   "id": "ab2682f0-706d-4eaf-bd35-e8508f9a3799",
   "metadata": {},
   "outputs": [],
   "source": [
    "!pip install dgl\n",
    "!pip install torchtext\n",
    "!pip install dask"
   ]
  }
 ],
 "metadata": {
  "kernelspec": {
   "display_name": "天穹-pyspark(local)",
   "language": "python",
   "name": "tq_pyspark_local"
  },
  "language_info": {
   "codemirror_mode": {
    "name": "ipython",
    "version": 3
   },
   "file_extension": ".py",
   "mimetype": "text/x-python",
   "name": "python",
   "nbconvert_exporter": "python",
   "pygments_lexer": "ipython3",
   "version": "3.6.8"
  }
 },
 "nbformat": 4,
 "nbformat_minor": 5
}
