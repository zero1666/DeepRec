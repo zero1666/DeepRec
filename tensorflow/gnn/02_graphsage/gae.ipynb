{
 "cells": [
  {
   "cell_type": "markdown",
   "metadata": {},
   "source": [
    "## 1. GCN的问题\n",
    "\n",
    "GCN的训练方式是基于全图的形式，然而对于许多实际的业务场景，图的规模是非常巨大的，单张显卡的容量难以满足一张整图训练所需要的空间，所以小批量的训练方法对于大规模图数据的训练是十分必要的。\n",
    "\n",
    "此外，GCN要求在训练前知道整个图的结构信息，这也极大的限制了它的应用场景。\n",
    "\n",
    "\n",
    "## 2. GraphSage\n",
    "\n",
    "GraphSage通过采样邻居的策略将GCN的训练方式由全图(Full Batch)方式修改为以节点为中心的小批量(Mini Batch)的方式，这使得大规模图数据的分布式训练成为可能。\n",
    "\n",
    "\n",
    "![Visual illustration of the GraphSAGE sample and aggregate approach](images/graphsage_routing.png)\n",
    "\n",
    "### 2.1 采样邻居\n",
    "\n",
    "GNN模型中，图的信息聚合过程是沿着Graph Edge进行的，GNN中节点在第(k+1)层的特征只与其在(k)层的邻居有关，这种局部性质使得节点在(k)层的特征只与自己的k阶子图有关。因此对于k层网络，只需要采样Graph的k阶子图，就可以满足训练的需求。\n",
    "\n",
    "同时为了提升运算效率，对每个顶点的邻居节点进行有放回的采样，保证每个节点邻居个数都是相同的。这也是神经网络中处理数据的一种常用的策略。"
   ]
  },
  {
   "cell_type": "code",
   "execution_count": 1,
   "metadata": {},
   "outputs": [],
   "source": [
    "def sampling(src_nodes, sample_num, neighbor_table):\n",
    "    \"\"\"根据源节点采样指定数量的邻居节点，注意使用的是有放回的采样；\n",
    "    某个节点的邻居节点数量少于采样数量时，采样结果出现重复的节点\n",
    "    \n",
    "    Arguments:\n",
    "        src_nodes {list, ndarray} -- 源节点列表\n",
    "        sample_num {int} -- 需要采样的节点数\n",
    "        neighbor_table {dict} -- 节点到其邻居节点的映射表\n",
    "    \n",
    "    Returns:\n",
    "        np.ndarray -- 采样结果构成的列表\n",
    "    \"\"\"\n",
    "    results = []\n",
    "    for sid in src_nodes:\n",
    "        # 从节点的邻居中进行有放回地进行采样\n",
    "        res = np.random.choice(neighbor_table[sid], size=(sample_num, ))\n",
    "        results.append(res)\n",
    "    return np.asarray(results).flatten()\n",
    "\n",
    "\n",
    "def multihop_sampling(src_nodes, sample_nums, neighbor_table):\n",
    "    \"\"\"根据源节点进行多阶采样\n",
    "    \n",
    "    Arguments:\n",
    "        src_nodes {list, np.ndarray} -- 源节点id\n",
    "        sample_nums {list of int} -- 每一阶需要采样的个数\n",
    "        neighbor_table {dict} -- 节点到其邻居节点的映射\n",
    "    \n",
    "    Returns:\n",
    "        [list of ndarray] -- 每一阶采样的结果\n",
    "    \"\"\"\n",
    "    sampling_result = [src_nodes]\n",
    "\n",
    "    for k, hopk_num in enumerate(sample_nums):\n",
    "        hopk_result = sampling(sampling_result[k], hopk_num, neighbor_table)\n",
    "        sampling_result.append(hopk_result)\n",
    "    return sampling_result"
   ]
  },
  {
   "cell_type": "markdown",
   "metadata": {},
   "source": [
    "### 2.2 聚合邻居节点\n",
    "\n",
    "由于在图(Graph)中顶点的邻居是无序的，所以聚合函数最好是对称的，即无论如何改变输入的顺序，函数的输出结果总是不变的。\n",
    "\n",
    "常用的有如下几个聚合算子：\n",
    "\n",
    "1) 均值(Mean)/加和(Sum)聚合算子：\n",
    "\n",
    "$$Agg_{sum} = \\sigma (\\text{SUM} \\{W h_j + b\\}),  \\forall v_j \\in N(v_i)$$\n",
    "\n",
    "$$Agg_{mean} = \\sigma (\\text{MEAN} \\{W h_j + b\\}),  \\forall v_j \\in N(v_i)$$\n",
    "\n",
    "2) 池化(Pooling)聚合算子：\n",
    "\n",
    "$$Agg_{pool} = \\sigma (\\text{MAX} \\{W h_j + b\\}),  \\forall v_j \\in N(v_i)$$\n"
   ]
  },
  {
   "cell_type": "code",
   "execution_count": null,
   "metadata": {},
   "outputs": [],
   "source": [
    "class NeighborAggregator(tf.keras.Model):\n",
    "    def __init__(self, input_dim, output_dim, \n",
    "                 use_bias=False, aggr_method=\"mean\"):\n",
    "        \"\"\"聚合节点邻居\n",
    "        Args:\n",
    "            input_dim: 输入特征的维度\n",
    "            output_dim: 输出特征的维度\n",
    "            use_bias: 是否使用偏置 (default: {False})\n",
    "            aggr_method: 邻居聚合方式 (default: {mean})\n",
    "        \"\"\"\n",
    "        super(NeighborAggregator, self).__init__()\n",
    "\n",
    "        self.input_dim = input_dim\n",
    "        self.output_dim = output_dim\n",
    "        self.use_bias = use_bias\n",
    "        self.aggr_method = aggr_method\n",
    "\n",
    "        self.weight = self.add_weight(shape = (self.input_dim, self.output_dim),\n",
    "                                      initializer = 'glorot_uniform',\n",
    "                                      name = 'kernel')\n",
    "\n",
    "        if self.use_bias:\n",
    "            self.bias = self.add_weight(shape = (self.input_dim, self.output_dim),\n",
    "                                        initializer = 'zero',\n",
    "                                        name = 'bias')\n",
    "\n",
    "    def call(self, neighbor_feature):\n",
    "        if self.aggr_method == \"mean\":\n",
    "            aggr_neighbor = tf.math.reduce_mean(neighbor_feature, axis = 1)\n",
    "        elif self.aggr_method == \"sum\":\n",
    "            aggr_neighbor = tf.math.reduce_sum(neighbor_feature, axis = 1)\n",
    "        elif self.aggr_method == \"max\":\n",
    "            aggr_neighbor = tf.math.reduce_max(neighbor_feature, axis = 1)\n",
    "        else:\n",
    "            raise ValueError(\"Unknown aggr type, expected sum, max, or mean, but got {}\"\n",
    "                             .format(self.aggr_method))\n",
    "        \n",
    "        neighbor_hidden = tf.matmul(aggr_neighbor, self.weight)\n",
    "        if self.use_bias:\n",
    "            neighbor_hidden += self.bias\n",
    "\n",
    "        return neighbor_hidden"
   ]
  },
  {
   "cell_type": "markdown",
   "metadata": {},
   "source": [
    "## 3. 模型训练\n",
    "\n",
    "这里我们使用的Cora数据集，该数据集由2708篇论文的特征、分类以及它们之间引用关系的5429条边组成，这些论文的类型被划分为7个类别:Case_Based、Genetic_Algorithms、Neural_Networks、Probabilistic_Methods、Reinforcement_Learning、Rule_Learning、Theory。最终实现的目标是，输入一篇论文的特征，就可以输出该论文属于哪个分类。\n",
    "\n",
    "可以看到，这里我们不再将整个Cora Dataset作为网络的输入，而是把Trainning Data分为一个个的Batch喂给模型。"
   ]
  },
  {
   "cell_type": "code",
   "execution_count": null,
   "metadata": {},
   "outputs": [],
   "source": [
    "data = CoraData().data()\n",
    "\n",
    "train_index = np.where(data.train_mask)[0]\n",
    "train_label = data.y[train_index]\n",
    "test_index = np.where(data.test_mask)[0]\n",
    "val_index = np.where(data.val_mask)[0]\n",
    "\n",
    "model = GraphSage(input_dim=INPUT_DIM, hidden_dim=HIDDEN_DIM,\n",
    "                  num_neighbors_list=NUM_NEIGHBORS_LIST)\n",
    "\n",
    "loss_object = tf.keras.losses.CategoricalCrossentropy(from_logits=True)\n",
    "optimizer=tf.keras.optimizers.Adam(learning_rate=0.01, decay=5e-4)\n",
    "\n",
    "def train():\n",
    "    for e in range(EPOCHS):\n",
    "        for batch in range(NUM_BATCH_PER_EPOCH):\n",
    "            batch_src_index = np.random.choice(train_index, size=(BTACH_SIZE,))\n",
    "            batch_src_label = train_label[batch_src_index].astype(float)\n",
    "\n",
    "            batch_sampling_result = multihop_sampling(batch_src_index, NUM_NEIGHBORS_LIST, data.adjacency_dict)\n",
    "            batch_sampling_x = [data.x[np.array(idx.astype(np.int32))] for idx in batch_sampling_result]\n",
    "\n",
    "            with tf.GradientTape() as tape:\n",
    "                batch_train_logits = model(batch_sampling_x)\n",
    "                loss = loss_object(batch_src_label, batch_train_logits)\n",
    "                grads = tape.gradient(loss, model.trainable_variables)\n",
    "\n",
    "                optimizer.apply_gradients(zip(grads, model.trainable_variables))\n",
    "\n",
    "            print(\"Epoch {:03d} Batch {:03d} Loss: {:.4f}\".format(e, batch, loss))"
   ]
  },
  {
   "cell_type": "markdown",
   "metadata": {},
   "source": [
    "在Tensorflow 2.0中实现代码时，出现：\"No gradients provided for any variable\"的错误，追了半天，才在stackoverflow上找到原因：\n",
    "\n",
    "https://stackoverflow.com/questions/58947679/no-gradients-provided-for-any-variable-in-tensorflow2-0\n",
    "\n",
    "> Yup, this is a mildly annoying thing about GradientTape. You cannot do anything to the tensors outside the tape context (with...) or the tape will \"lose track\". You can fix it by simply moving the addition into the context:\n",
    "\n",
    "在测试集和验证集上测试模型的精度的代码如下:"
   ]
  },
  {
   "cell_type": "code",
   "execution_count": 2,
   "metadata": {},
   "outputs": [],
   "source": [
    "def test(index):\n",
    "    test_sampling_result = multihop_sampling(index, NUM_NEIGHBORS_LIST, data.adjacency_dict)\n",
    "    test_x = [data.x[idx.astype(np.int32)] for idx in test_sampling_result]\n",
    "    test_logits = model(test_x)\n",
    "    test_label = data.y[index]\n",
    "\n",
    "    ll = tf.math.equal(tf.math.argmax(test_label, -1), tf.math.argmax(test_logits, -1))\n",
    "    accuarcy = tf.reduce_mean(tf.cast(ll, dtype=tf.float32))\n",
    "\n",
    "    return accuarcy"
   ]
  },
  {
   "cell_type": "markdown",
   "metadata": {},
   "source": [
    "最后，把模型跑起来，看看效果。"
   ]
  },
  {
   "cell_type": "code",
   "execution_count": 1,
   "metadata": {},
   "outputs": [
    {
     "name": "stdout",
     "output_type": "stream",
     "text": [
      "Process data ...\n",
      "Loading cora dataset...\n",
      "Dataset has 2708 nodes, 2708 edges, 1433 features.\n",
      "Epoch 000 train accuracy: 0.7733333110809326 val accuracy: 0.508571445941925 test accuracy:0.4180253744125366\n",
      "Epoch 001 train accuracy: 0.9599999785423279 val accuracy: 0.7142857313156128 test accuracy:0.6607789993286133\n",
      "Epoch 002 train accuracy: 0.9933333396911621 val accuracy: 0.7457143068313599 test accuracy:0.648097813129425\n",
      "Epoch 003 train accuracy: 1.0 val accuracy: 0.7142857313156128 test accuracy:0.6503623127937317\n",
      "Epoch 004 train accuracy: 1.0 val accuracy: 0.7142857313156128 test accuracy:0.6557971239089966\n",
      "Epoch 005 train accuracy: 1.0 val accuracy: 0.7200000286102295 test accuracy:0.6557971239089966\n",
      "Epoch 006 train accuracy: 1.0 val accuracy: 0.7171428799629211 test accuracy:0.65625\n",
      "Epoch 007 train accuracy: 1.0 val accuracy: 0.7342857122421265 test accuracy:0.65625\n",
      "Epoch 008 train accuracy: 1.0 val accuracy: 0.7285714149475098 test accuracy:0.6598731875419617\n",
      "Epoch 009 train accuracy: 1.0 val accuracy: 0.7142857313156128 test accuracy:0.6607789993286133\n",
      "Epoch 010 train accuracy: 1.0 val accuracy: 0.7200000286102295 test accuracy:0.6675724387168884\n",
      "Epoch 011 train accuracy: 1.0 val accuracy: 0.7171428799629211 test accuracy:0.6634963750839233\n",
      "Epoch 012 train accuracy: 1.0 val accuracy: 0.7314285635948181 test accuracy:0.6616848111152649\n",
      "Epoch 013 train accuracy: 1.0 val accuracy: 0.7114285826683044 test accuracy:0.6612318754196167\n",
      "Epoch 014 train accuracy: 1.0 val accuracy: 0.7114285826683044 test accuracy:0.6612318754196167\n",
      "Epoch 015 train accuracy: 1.0 val accuracy: 0.7028571367263794 test accuracy:0.6598731875419617\n",
      "Epoch 016 train accuracy: 1.0 val accuracy: 0.7171428799629211 test accuracy:0.6662137508392334\n",
      "Epoch 017 train accuracy: 1.0 val accuracy: 0.7142857313156128 test accuracy:0.6630434989929199\n",
      "Epoch 018 train accuracy: 1.0 val accuracy: 0.7228571176528931 test accuracy:0.6630434989929199\n",
      "Epoch 019 train accuracy: 1.0 val accuracy: 0.7171428799629211 test accuracy:0.6630434989929199\n"
     ]
    },
    {
     "data": {
      "image/png": "[encoded data removed]",
      "text/plain": [
       "<Figure size 864x576 with 4 Axes>"
      ]
     },
     "metadata": {
      "needs_background": "light"
     },
     "output_type": "display_data"
    }
   ],
   "source": [
    "from train import train\n",
    "\n",
    "train()"
   ]
  }
 ],
 "metadata": {
  "kernelspec": {
   "display_name": "Python 3",
   "language": "python",
   "name": "python3"
  },
  "language_info": {
   "codemirror_mode": {
    "name": "ipython",
    "version": 3
   },
   "file_extension": ".py",
   "mimetype": "text/x-python",
   "name": "python",
   "nbconvert_exporter": "python",
   "pygments_lexer": "ipython3",
   "version": "3.8.3"
  }
 },
 "nbformat": 4,
 "nbformat_minor": 4
}
