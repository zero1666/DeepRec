{
 "cells": [
  {
   "cell_type": "code",
   "execution_count": 1,
   "id": "c4cb75ef-8236-4af5-b0f7-56c531b10989",
   "metadata": {},
   "outputs": [
    {
     "name": "stdout",
     "output_type": "stream",
     "text": [
      "  (0, 0)\t1\n",
      "  (0, 2)\t2\n",
      "  (1, 2)\t3\n",
      "  (2, 0)\t4\n",
      "  (2, 1)\t5\n",
      "  (2, 2)\t6 \n",
      " csr\n",
      "  (0, 0)\t1\n",
      "  (0, 2)\t2\n",
      "  (1, 2)\t3\n",
      "  (2, 0)\t4\n",
      "  (2, 1)\t5\n",
      "  (2, 2)\t6 \n",
      " lil\n",
      "[[1 0 2]\n",
      " [0 0 3]\n",
      " [4 5 6]]\n",
      "  (0, 0)\t4\n",
      "  (0, 1)\t5\n",
      "  (0, 2)\t6\n",
      "  (1, 0)\t1\n",
      "  (1, 2)\t2\n",
      "  (2, 2)\t3 \n",
      " b\n",
      "  (0, 0)\t1\n",
      "  (0, 2)\t2\n",
      "  (1, 2)\t3\n",
      "  (2, 0)\t4\n",
      "  (2, 1)\t5\n",
      "  (2, 2)\t6 \n",
      " a\n",
      "  (0, 2)\t3\n",
      "  (1, 0)\t4\n",
      "  (1, 1)\t5\n",
      "  (1, 2)\t6\n",
      "  (2, 0)\t1\n",
      "  (2, 2)\t2 \n",
      " lil[b,:]=lil[a,:]\n"
     ]
    }
   ],
   "source": [
    "import scipy.sparse as sp\n",
    "import numpy as np\n",
    "indptr= np.array([0,2,3,6])\n",
    "indices = np.array([0,2,2,0,1,2])\n",
    "data = np.array([1,2,3,4,5,6])\n",
    "csr = sp.csr_matrix((data,indices,indptr),shape=(3,3))\n",
    "\n",
    "a = [0,1,2]\n",
    "b = [2,0,1]\n",
    "print(csr,'\\n csr')\n",
    "lil = csr.tolil()\n",
    "print(lil,'\\n lil')\n",
    "print(lil.toarray())\n",
    "print(lil[b,:],'\\n b')\n",
    "print(lil[a,:],'\\n a')\n",
    "lil[b,:]=lil[a,:]\n",
    "print(lil,'\\n lil[b,:]=lil[a,:]')"
   ]
  },
  {
   "cell_type": "code",
   "execution_count": 5,
   "id": "fe02438a-efc7-4c92-9d16-460a0232c50c",
   "metadata": {},
   "outputs": [
    {
     "name": "stdout",
     "output_type": "stream",
     "text": [
      "[[ 0  1  2  3  4  5]\n",
      " [ 6  7  8  9 10 11]]\n",
      "[5 5]\n",
      "[[[ 0  1  2  3]\n",
      "  [ 4  5  6  7]\n",
      "  [ 8  9 10 11]]\n",
      "\n",
      " [[12 13 14 15]\n",
      "  [16 17 18 19]\n",
      "  [20 21 22 23]]]\n",
      "[[2 2 2 2]\n",
      " [2 2 2 2]]\n"
     ]
    }
   ],
   "source": [
    "a=np.arange(12).reshape(2,6)\n",
    "print(a)\n",
    "print(np.argmax(a,1))\n",
    "b=np.arange(24).reshape(2,3,4)\n",
    "print(b)\n",
    "print(np.argmax(b,1))"
   ]
  },
  {
   "cell_type": "code",
   "execution_count": 18,
   "id": "9d57e399-42e1-4ead-a988-73dce2247b01",
   "metadata": {},
   "outputs": [
    {
     "name": "stdout",
     "output_type": "stream",
     "text": [
      "[[1 0 2]\n",
      " [0 0 3]\n",
      " [4 5 6]]\n",
      "[[2. 0. 2.]\n",
      " [0. 1. 3.]\n",
      " [4. 5. 7.]]\n",
      "<class 'numpy.ndarray'> [ 4.  4. 16.]\n",
      "<class 'numpy.ndarray'> (3,) [0.5  0.5  0.25]\n",
      "<class 'scipy.sparse.dia.dia_matrix'> [[0.5  0.   0.  ]\n",
      " [0.   0.5  0.  ]\n",
      " [0.   0.   0.25]]\n"
     ]
    }
   ],
   "source": [
    "import scipy.sparse as sp\n",
    "import numpy as np\n",
    "indptr= np.array([0,2,3,6])\n",
    "indices = np.array([0,2,2,0,1,2])\n",
    "data = np.array([1,2,3,4,5,6])\n",
    "csr = sp.csr_matrix((data,indices,indptr),shape=(3,3)).toarray()\n",
    "print(csr)\n",
    "_csr = csr  + sp.eye(csr.shape[0])\n",
    "print(_csr)\n",
    "_dseq = _csr.sum(1).A1\n",
    "print(type(_dseq), _dseq)\n",
    "_tmp = np.power(_dseq, -0.5)\n",
    "print(type(_tmp), _tmp.shape, _tmp)\n",
    "_dig = sp.diags(_tmp)\n",
    "print(type(_dig), _dig.toarray())"
   ]
  },
  {
   "cell_type": "code",
   "execution_count": 16,
   "id": "d4f42331-be8d-4157-a03b-e02d4b7aa4f8",
   "metadata": {},
   "outputs": [
    {
     "ename": "NameError",
     "evalue": "name 'adj' is not defined",
     "output_type": "error",
     "traceback": [
      "\u001b[0;31m---------------------------------------------------------------------------\u001b[0m",
      "\u001b[0;31mNameError\u001b[0m                                 Traceback (most recent call last)",
      "\u001b[0;32m/tmp/ipykernel_4306/4108717388.py\u001b[0m in \u001b[0;36m<module>\u001b[0;34m\u001b[0m\n\u001b[0;32m----> 1\u001b[0;31m \u001b[0m_adj\u001b[0m \u001b[0;34m=\u001b[0m \u001b[0madj\u001b[0m \u001b[0;34m+\u001b[0m \u001b[0msp\u001b[0m\u001b[0;34m.\u001b[0m\u001b[0meye\u001b[0m\u001b[0;34m(\u001b[0m\u001b[0madj\u001b[0m\u001b[0;34m.\u001b[0m\u001b[0mshape\u001b[0m\u001b[0;34m[\u001b[0m\u001b[0;36m0\u001b[0m\u001b[0;34m]\u001b[0m\u001b[0;34m)\u001b[0m\u001b[0;34m\u001b[0m\u001b[0;34m\u001b[0m\u001b[0m\n\u001b[0m\u001b[1;32m      2\u001b[0m \u001b[0;31m# _dseq: 各个节点的度构成的列表\u001b[0m\u001b[0;34m\u001b[0m\u001b[0;34m\u001b[0m\u001b[0;34m\u001b[0m\u001b[0m\n\u001b[1;32m      3\u001b[0m \u001b[0m_dseq\u001b[0m \u001b[0;34m=\u001b[0m \u001b[0m_adj\u001b[0m\u001b[0;34m.\u001b[0m\u001b[0msum\u001b[0m\u001b[0;34m(\u001b[0m\u001b[0;36m1\u001b[0m\u001b[0;34m)\u001b[0m\u001b[0;34m.\u001b[0m\u001b[0mA1\u001b[0m\u001b[0;34m\u001b[0m\u001b[0;34m\u001b[0m\u001b[0m\n\u001b[1;32m      4\u001b[0m \u001b[0;31m# 构造开根号的度矩阵\u001b[0m\u001b[0;34m\u001b[0m\u001b[0;34m\u001b[0m\u001b[0;34m\u001b[0m\u001b[0m\n\u001b[1;32m      5\u001b[0m \u001b[0m_D_half\u001b[0m \u001b[0;34m=\u001b[0m \u001b[0msp\u001b[0m\u001b[0;34m.\u001b[0m\u001b[0mdiags\u001b[0m\u001b[0;34m(\u001b[0m\u001b[0mnp\u001b[0m\u001b[0;34m.\u001b[0m\u001b[0mpower\u001b[0m\u001b[0;34m(\u001b[0m\u001b[0m_dseq\u001b[0m\u001b[0;34m,\u001b[0m \u001b[0;34m-\u001b[0m\u001b[0;36m0.5\u001b[0m\u001b[0;34m)\u001b[0m\u001b[0;34m)\u001b[0m\u001b[0;34m\u001b[0m\u001b[0;34m\u001b[0m\u001b[0m\n",
      "\u001b[0;31mNameError\u001b[0m: name 'adj' is not defined"
     ]
    }
   ],
   "source": [
    "    _adj = adj + sp.eye(adj.shape[0])\n",
    "    # _dseq: 各个节点的度构成的列表\n",
    "    _dseq = _adj.sum(1).A1\n",
    "    # 构造开根号的度矩阵\n",
    "    _D_half = sp.diags(np.power(_dseq, -0.5))\n",
    "    # 计算标准化的邻接矩阵, @ 表示矩阵乘法\n",
    "    adj_normalized = _D_half @ _adj @ _D_half\n",
    "    return adj_normalized.tocsr()"
   ]
  },
  {
   "cell_type": "code",
   "execution_count": null,
   "id": "6015c11e-2b98-4fc8-8cba-60fbd74d03de",
   "metadata": {},
   "outputs": [],
   "source": []
  }
 ],
 "metadata": {
  "kernelspec": {
   "display_name": "py37_tf26_cpu",
   "language": "python",
   "name": "py37_tf26_cpu"
  },
  "language_info": {
   "codemirror_mode": {
    "name": "ipython",
    "version": 3
   },
   "file_extension": ".py",
   "mimetype": "text/x-python",
   "name": "python",
   "nbconvert_exporter": "python",
   "pygments_lexer": "ipython3",
   "version": "3.7.13"
  }
 },
 "nbformat": 4,
 "nbformat_minor": 5
}
