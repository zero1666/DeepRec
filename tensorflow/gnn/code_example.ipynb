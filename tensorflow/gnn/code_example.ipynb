{
 "cells": [
  {
   "cell_type": "code",
   "execution_count": 1,
   "id": "c4cb75ef-8236-4af5-b0f7-56c531b10989",
   "metadata": {},
   "outputs": [
    {
     "name": "stdout",
     "output_type": "stream",
     "text": [
      "  (0, 0)\t1\n",
      "  (0, 2)\t2\n",
      "  (1, 2)\t3\n",
      "  (2, 0)\t4\n",
      "  (2, 1)\t5\n",
      "  (2, 2)\t6 \n",
      " csr\n",
      "  (0, 0)\t1\n",
      "  (0, 2)\t2\n",
      "  (1, 2)\t3\n",
      "  (2, 0)\t4\n",
      "  (2, 1)\t5\n",
      "  (2, 2)\t6 \n",
      " lil\n",
      "[[1 0 2]\n",
      " [0 0 3]\n",
      " [4 5 6]]\n",
      "  (0, 0)\t4\n",
      "  (0, 1)\t5\n",
      "  (0, 2)\t6\n",
      "  (1, 0)\t1\n",
      "  (1, 2)\t2\n",
      "  (2, 2)\t3 \n",
      " b\n",
      "  (0, 0)\t1\n",
      "  (0, 2)\t2\n",
      "  (1, 2)\t3\n",
      "  (2, 0)\t4\n",
      "  (2, 1)\t5\n",
      "  (2, 2)\t6 \n",
      " a\n",
      "  (0, 2)\t3\n",
      "  (1, 0)\t4\n",
      "  (1, 1)\t5\n",
      "  (1, 2)\t6\n",
      "  (2, 0)\t1\n",
      "  (2, 2)\t2 \n",
      " lil[b,:]=lil[a,:]\n"
     ]
    }
   ],
   "source": [
    "import scipy.sparse as sp\n",
    "import numpy as np\n",
    "indptr= np.array([0,2,3,6])\n",
    "indices = np.array([0,2,2,0,1,2])\n",
    "data = np.array([1,2,3,4,5,6])\n",
    "csr = sp.csr_matrix((data,indices,indptr),shape=(3,3))\n",
    "\n",
    "a = [0,1,2]\n",
    "b = [2,0,1]\n",
    "print(csr,'\\n csr')\n",
    "lil = csr.tolil()\n",
    "print(lil,'\\n lil')\n",
    "print(lil.toarray())\n",
    "print(lil[b,:],'\\n b')\n",
    "print(lil[a,:],'\\n a')\n",
    "lil[b,:]=lil[a,:]\n",
    "print(lil,'\\n lil[b,:]=lil[a,:]')"
   ]
  },
  {
   "cell_type": "code",
   "execution_count": 5,
   "id": "fe02438a-efc7-4c92-9d16-460a0232c50c",
   "metadata": {},
   "outputs": [
    {
     "name": "stdout",
     "output_type": "stream",
     "text": [
      "[[ 0  1  2  3  4  5]\n",
      " [ 6  7  8  9 10 11]]\n",
      "[5 5]\n",
      "[[[ 0  1  2  3]\n",
      "  [ 4  5  6  7]\n",
      "  [ 8  9 10 11]]\n",
      "\n",
      " [[12 13 14 15]\n",
      "  [16 17 18 19]\n",
      "  [20 21 22 23]]]\n",
      "[[2 2 2 2]\n",
      " [2 2 2 2]]\n"
     ]
    }
   ],
   "source": [
    "a=np.arange(12).reshape(2,6)\n",
    "print(a)\n",
    "print(np.argmax(a,1))\n",
    "b=np.arange(24).reshape(2,3,4)\n",
    "print(b)\n",
    "print(np.argmax(b,1))"
   ]
  },
  {
   "cell_type": "code",
   "execution_count": null,
   "id": "9d57e399-42e1-4ead-a988-73dce2247b01",
   "metadata": {},
   "outputs": [],
   "source": []
  }
 ],
 "metadata": {
  "kernelspec": {
   "display_name": "py37_tf26_cpu",
   "language": "python",
   "name": "py37_tf26_cpu"
  },
  "language_info": {
   "codemirror_mode": {
    "name": "ipython",
    "version": 3
   },
   "file_extension": ".py",
   "mimetype": "text/x-python",
   "name": "python",
   "nbconvert_exporter": "python",
   "pygments_lexer": "ipython3",
   "version": "3.7.13"
  }
 },
 "nbformat": 4,
 "nbformat_minor": 5
}
