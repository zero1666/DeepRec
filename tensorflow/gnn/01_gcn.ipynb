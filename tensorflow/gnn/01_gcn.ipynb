{
 "cells": [
  {
   "cell_type": "markdown",
   "id": "0cad12a2-4299-482a-aea2-c984965fa760",
   "metadata": {},
   "source": [
    "## Graph Convolutional Network（GCN）"
   ]
  },
  {
   "cell_type": "markdown",
   "id": "0ed9e54f-fabb-4159-8a03-86620a1587c3",
   "metadata": {},
   "source": [
    "### Reference\n",
    "1. [图卷积神经网络(GCN)理解与tensorflow2.0代码实现](https://github.com/zxxwin/tf2_gcn)"
   ]
  },
  {
   "cell_type": "code",
   "execution_count": 2,
   "id": "ded197ce-9adf-4e93-9305-b0e8d74f366e",
   "metadata": {},
   "outputs": [
    {
     "name": "stdout",
     "output_type": "stream",
     "text": [
      "2.6.0\n"
     ]
    }
   ],
   "source": []
  },
  {
   "cell_type": "markdown",
   "id": "7e3b2c60-9aa3-4a4f-8293-722e68613521",
   "metadata": {},
   "source": [
    "## 1. Cora数据集合\n",
    "Cora数据集由机器学习论文组成，是近年来图深度学习很喜欢使用的数据集。\n",
    "整个数据集有2708篇论文，所有样本点被分为7个类别，\n",
    "类别分别是\n",
    "1）基于案例；\n",
    "2）遗传算法；\n",
    "3）神经网络；\n",
    "4）概率方法；\n",
    "5）强化学习；\n",
    "6）规则学习；\n",
    "7）理论。\n",
    "每篇论文都由一个1433维的词向量表示，所以，每个样本点具有1433个特征。词向量的每个元素都对应一个词，且该元素只有0或1两个取值。取0表示该元素对应的词不在论文中，取1表示在论文中。\n",
    "\n",
    "\n",
    "数据下载链接：https://linqs-data.soe.ucsc.edu/public/lbc/cora.tgz\n",
    "\n",
    "Reference: [cora数据集的读取和处理](https://blog.csdn.net/weixin_41650348/article/details/109406230)\n"
   ]
  },
  {
   "cell_type": "code",
   "execution_count": 16,
   "id": "21a8efde-bf45-4808-b7e3-2c5b92edac38",
   "metadata": {},
   "outputs": [
    {
     "name": "stderr",
     "output_type": "stream",
     "text": [
      "10078.38s - pydevd: Sending message related to process being replaced timed-out after 5 seconds\n"
     ]
    },
    {
     "name": "stdout",
     "output_type": "stream",
     "text": [
      "--2022-07-08 19:01:39--  https://linqs-data.soe.ucsc.edu/public/lbc/cora.tgz\n",
      "Resolving linqs-data.soe.ucsc.edu (linqs-data.soe.ucsc.edu)... 128.114.47.74\n",
      "Connecting to linqs-data.soe.ucsc.edu (linqs-data.soe.ucsc.edu)|128.114.47.74|:443... connected.\n",
      "HTTP request sent, awaiting response... 200 OK\n",
      "Length: 168052 (164K) [application/x-gzip]\n",
      "Saving to: ‘cora.tgz’\n",
      "\n",
      "100%[======================================>] 168,052      141KB/s   in 1.2s   \n",
      "\n",
      "2022-07-08 19:01:41 (141 KB/s) - ‘cora.tgz’ saved [168052/168052]\n",
      "\n",
      "cora/\n",
      "cora/README\n",
      "cora/cora.cites\n",
      "cora/cora.content\n"
     ]
    },
    {
     "name": "stderr",
     "output_type": "stream",
     "text": [
      "10086.30s - pydevd: Sending message related to process being replaced timed-out after 5 seconds\n"
     ]
    },
    {
     "name": "stdout",
     "output_type": "stream",
     "text": [
      "/workspace/user_code/davidwwang/workspace/tensorflow/gnn\n"
     ]
    }
   ],
   "source": [
    "!cd ../../data;wget https://linqs-data.soe.ucsc.edu/public/lbc/cora.tgz;tar -zxvf cora.tgz"
   ]
  },
  {
   "cell_type": "markdown",
   "id": "7bae7130-5243-4e26-b8b9-cf086392a3a8",
   "metadata": {},
   "source": [
    "###### 数据集查看\n",
    "下载的压缩包中有三个文件，分别是cora.cites，cora.content，README。\n",
    "\n",
    "+ README是对数据集的介绍；\n",
    "+ cora.content是所有论文的独自的信息；\n",
    "cora.content共有2708行，每一行代表一个样本点，即一篇论文。每一行由三部分组成，分别是论文的编号，如31336；论文的词向量，一个有1433位的二进制；论文的类别，如Neural_Networks。\n",
    "+ cora.cites是论文之间的引用记录。\n",
    "cora.cites共5429行， 每一行有两个论文编号，表示第一个编号的论文先写，第二个编号的论文引用第一个编号的论文。如下所示："
   ]
  },
  {
   "cell_type": "code",
   "execution_count": 3,
   "id": "71f064b6-22e4-4a8f-ab89-aa63281b2ece",
   "metadata": {},
   "outputs": [
    {
     "name": "stdout",
     "output_type": "stream",
     "text": [
      "(2708, 1435)\n",
      "      0     1     2     3     4     5     6     7     8     9     ...  1425  \\\n",
      "0    31336     0     0     0     0     0     0     0     0     0  ...     0   \n",
      "1  1061127     0     0     0     0     0     0     0     0     0  ...     0   \n",
      "2  1106406     0     0     0     0     0     0     0     0     0  ...     0   \n",
      "\n",
      "   1426  1427  1428  1429  1430  1431  1432  1433                    1434  \n",
      "0     0     1     0     0     0     0     0     0         Neural_Networks  \n",
      "1     1     0     0     0     0     0     0     0           Rule_Learning  \n",
      "2     0     0     0     0     0     0     0     0  Reinforcement_Learning  \n",
      "\n",
      "[3 rows x 1435 columns]\n",
      "(5429, 2)\n",
      "    0       1\n",
      "0  35    1033\n",
      "1  35  103482\n",
      "2  35  103515\n"
     ]
    }
   ],
   "source": [
    "import numpy as np\n",
    "import pandas as pd\n",
    "\n",
    "# 读取.content 文件\n",
    "cora_content = pd.read_csv('../../data/cora/cora.content', sep='\\t', header=None)\n",
    "# 查看数据初始格式\n",
    "print(cora_content.shape)\n",
    "print(cora_content.head(3))\n",
    "\n",
    "# 读取 .cites文件\n",
    "cora_cites = pd.read_csv('../../data/cora/cora.cites', sep='\\t', header=None)\n",
    "print(cora_cites.shape)\n",
    "print(cora_cites.head(3))"
   ]
  },
  {
   "cell_type": "markdown",
   "id": "0d46715e-b1ec-4e21-9be2-340e03da9533",
   "metadata": {},
   "source": [
    "建立从paper_id到[0,2707]数字间的映射函数"
   ]
  },
  {
   "cell_type": "code",
   "execution_count": 12,
   "id": "1ec71dc8-a2b7-43e1-a100-a3a5ca2e05c6",
   "metadata": {},
   "outputs": [
    {
     "data": {
      "text/plain": [
       "0"
      ]
     },
     "execution_count": 12,
     "metadata": {},
     "output_type": "execute_result"
    }
   ],
   "source": [
    "content_idx=list(cora_content.index) #将索引制作成列表\n",
    "paper_id = list(cora_content.iloc[:,0])#将content第一列取出\n",
    "mp = dict(zip(paper_id, content_idx))#映射成{论文id:索引编号}的字典形式\n",
    "#查看某个论文id对应的索引编号\n",
    "mp[31336]"
   ]
  },
  {
   "cell_type": "markdown",
   "id": "6abaf5e5-b3ef-45f2-9b9d-dc96ce2041d8",
   "metadata": {},
   "source": [
    "提取feature matrix（2708，1433）"
   ]
  },
  {
   "cell_type": "code",
   "execution_count": 14,
   "id": "1bdce040-b8ee-4ab4-9561-da9f40ef9ac5",
   "metadata": {},
   "outputs": [
    {
     "name": "stdout",
     "output_type": "stream",
     "text": [
      "(2708, 1433)\n",
      "   1     2     3     4     5     6     7     8     9     10    ...  1424  \\\n",
      "0     0     0     0     0     0     0     0     0     0     0  ...     0   \n",
      "1     0     0     0     0     0     0     0     0     0     0  ...     0   \n",
      "2     0     0     0     0     0     0     0     0     0     0  ...     0   \n",
      "\n",
      "   1425  1426  1427  1428  1429  1430  1431  1432  1433  \n",
      "0     0     0     1     0     0     0     0     0     0  \n",
      "1     0     1     0     0     0     0     0     0     0  \n",
      "2     0     0     0     0     0     0     0     0     0  \n",
      "\n",
      "[3 rows x 1433 columns]\n"
     ]
    }
   ],
   "source": [
    "#切片提取从第一列到倒数第二列（左闭右开）\n",
    "feature = cora_content.iloc[:,1:-1]\n",
    "print(feature.shape)\n",
    "print(feature.head(3))\n"
   ]
  },
  {
   "cell_type": "markdown",
   "id": "5bd978d9-5bc1-4ad6-acea-cadb06c5b55e",
   "metadata": {},
   "source": [
    "标签进行one-hot编码"
   ]
  },
  {
   "cell_type": "code",
   "execution_count": 16,
   "id": "4cbe47a0-8844-49ef-bf3d-838da6ad078f",
   "metadata": {},
   "outputs": [
    {
     "data": {
      "text/html": [
       "<div>\n",
       "<style scoped>\n",
       "    .dataframe tbody tr th:only-of-type {\n",
       "        vertical-align: middle;\n",
       "    }\n",
       "\n",
       "    .dataframe tbody tr th {\n",
       "        vertical-align: top;\n",
       "    }\n",
       "\n",
       "    .dataframe thead th {\n",
       "        text-align: right;\n",
       "    }\n",
       "</style>\n",
       "<table border=\"1\" class=\"dataframe\">\n",
       "  <thead>\n",
       "    <tr style=\"text-align: right;\">\n",
       "      <th></th>\n",
       "      <th>Case_Based</th>\n",
       "      <th>Genetic_Algorithms</th>\n",
       "      <th>Neural_Networks</th>\n",
       "      <th>Probabilistic_Methods</th>\n",
       "      <th>Reinforcement_Learning</th>\n",
       "      <th>Rule_Learning</th>\n",
       "      <th>Theory</th>\n",
       "    </tr>\n",
       "  </thead>\n",
       "  <tbody>\n",
       "    <tr>\n",
       "      <th>0</th>\n",
       "      <td>0</td>\n",
       "      <td>0</td>\n",
       "      <td>1</td>\n",
       "      <td>0</td>\n",
       "      <td>0</td>\n",
       "      <td>0</td>\n",
       "      <td>0</td>\n",
       "    </tr>\n",
       "    <tr>\n",
       "      <th>1</th>\n",
       "      <td>0</td>\n",
       "      <td>0</td>\n",
       "      <td>0</td>\n",
       "      <td>0</td>\n",
       "      <td>0</td>\n",
       "      <td>1</td>\n",
       "      <td>0</td>\n",
       "    </tr>\n",
       "    <tr>\n",
       "      <th>2</th>\n",
       "      <td>0</td>\n",
       "      <td>0</td>\n",
       "      <td>0</td>\n",
       "      <td>0</td>\n",
       "      <td>1</td>\n",
       "      <td>0</td>\n",
       "      <td>0</td>\n",
       "    </tr>\n",
       "  </tbody>\n",
       "</table>\n",
       "</div>"
      ],
      "text/plain": [
       "   Case_Based  Genetic_Algorithms  Neural_Networks  Probabilistic_Methods  \\\n",
       "0           0                   0                1                      0   \n",
       "1           0                   0                0                      0   \n",
       "2           0                   0                0                      0   \n",
       "\n",
       "   Reinforcement_Learning  Rule_Learning  Theory  \n",
       "0                       0              0       0  \n",
       "1                       0              1       0  \n",
       "2                       1              0       0  "
      ]
     },
     "execution_count": 16,
     "metadata": {},
     "output_type": "execute_result"
    }
   ],
   "source": [
    "label = cora_content.iloc[:, -1]\n",
    "label = pd.get_dummies(label) # 读热编码\n",
    "label.head(3)"
   ]
  },
  {
   "cell_type": "markdown",
   "id": "5ad8aa2d-d00f-46fe-b9aa-762b7f0ba6ed",
   "metadata": {},
   "source": [
    "创建adjacent matrix"
   ]
  },
  {
   "cell_type": "code",
   "execution_count": 19,
   "id": "0cdd5b65-c70e-4f59-ba34-99c007688d3e",
   "metadata": {},
   "outputs": [
    {
     "name": "stdout",
     "output_type": "stream",
     "text": [
      "(2708,)\n",
      "10556.0\n"
     ]
    }
   ],
   "source": [
    "mat_size = cora_content.shape[0] #第一维的大小2708就是邻接矩阵的规模\n",
    "adj_mat = np.zeros((mat_size, mat_size)) #创建0矩阵\n",
    "for i, j in zip(cora_cites[0], cora_cites[1]): #枚举形式（u，v）\n",
    "    x = mp[i]\n",
    "    y = mp[j]\n",
    "    adj_mat[x][y]=adj_mat[y][x]=1\n",
    "\n",
    "print(sum(adj_mat).shape)\n",
    "print(sum(sum(adj_mat)))"
   ]
  },
  {
   "cell_type": "markdown",
   "id": "838b37a1-fc72-4c6d-95da-8710b3bba255",
   "metadata": {},
   "source": [
    "如果需要后续转为numpy或者其他形式（之前一直使用pandas的dataframe格式）"
   ]
  },
  {
   "cell_type": "code",
   "execution_count": 20,
   "id": "5dd608f5-9f8e-4c13-93f5-d9e8f1a610a6",
   "metadata": {},
   "outputs": [],
   "source": [
    "#转换为numpy格式的数据\n",
    "feature = np.array(feature)\n",
    "label = np.array(label)\n",
    "adj_mat =np.array(adj_mat)"
   ]
  },
  {
   "cell_type": "code",
   "execution_count": null,
   "id": "044cb5c4-232d-4bee-8e73-1cd9e9957453",
   "metadata": {},
   "outputs": [],
   "source": []
  },
  {
   "cell_type": "markdown",
   "id": "c726a913-34c2-49f4-8cd7-b8164032fd5b",
   "metadata": {},
   "source": [
    "## 2. GCN"
   ]
  },
  {
   "cell_type": "code",
   "execution_count": 21,
   "id": "97201b5a-cd14-43f5-bf63-e1d0f13e490f",
   "metadata": {},
   "outputs": [
    {
     "name": "stdout",
     "output_type": "stream",
     "text": [
      "2.6.0\n"
     ]
    }
   ],
   "source": [
    "import tensorflow as tf\n",
    "print(tf.__version__)"
   ]
  },
  {
   "cell_type": "markdown",
   "id": "56435a2b-8b9a-4514-963a-9a36a0aaaad3",
   "metadata": {},
   "source": [
    "定义图卷积层"
   ]
  },
  {
   "cell_type": "code",
   "execution_count": 23,
   "id": "94a77e91-1547-4bc8-8111-af99886e183e",
   "metadata": {},
   "outputs": [],
   "source": [
    "import tensorflow as tf\n",
    "from keras import activations, regularizers, constraints, initializers\n",
    "\n",
    "class GCNConv(tf.keras.layers.Layer):\n",
    "    def __init__( self,\n",
    "                 units,\n",
    "                 activations=lambda x:x,\n",
    "                 use_bias = True,\n",
    "                 kernel_initializer='glorot_uniform',\n",
    "                 bias_initializer='zeros',\n",
    "                 **kwargs):\n",
    "        \n",
    "        super(GCNConv, self).__init__()\n",
    "        \n",
    "        self.units = units\n",
    "        self.activations = activations.get(activation)\n",
    "        self.use_bias = use_bias\n",
    "        self.kernel_initializer=initializers.get(kernel_initializer)\n",
    "        self.bias_initializer=initializers.get(bias_initializer)\n",
    "        \n",
    "    def build(self, input_shape):\n",
    "        \"\"\"GCN has two inputs : [shape(An), shape(X)]\n",
    "        \"\"\"\n",
    "        fdim = input_shape[1][1] #feature dim\n",
    "        # 初始化权重矩阵\n",
    "        self.weight = self.add_weight(name='weight',\n",
    "                                     shape=(fdim, self.units),\n",
    "                                     initializer= self.kernel_initializer,\n",
    "                                     trainable=True)\n",
    "        if self.use_bias:\n",
    "            # 初始化偏置项目\n",
    "            self.bias = self.add_weight(name='bias',\n",
    "                                       shape=(self.units, ),\n",
    "                                       initializer = self.bias_initializer,\n",
    "                                       trainable=True)\n",
    "    \n",
    "    def call(self, inputs):\n",
    "        \"\"\" GCN has two inputs : [An, X]\n",
    "        \"\"\"\n",
    "        self.An = inputs.shape[0]\n",
    "        self.X = inputs.shape[1]\n",
    "        # 计算XW\n",
    "        if isinstance(self.X, tf.SparseTensor):\n",
    "            h = tf.sparse.sparse_dense_matmul(self.X, self.weight)\n",
    "        else:\n",
    "            h = tf.matmul(self.X, self.weight)\n",
    "        # 计算AxW\n",
    "        output = tf.sparse.sparse_dense_matmul(self.An, h)\n",
    "        \n",
    "        if self.use_bias:\n",
    "            output = tf.nn.bias_add(output, self.bias)\n",
    "        \n",
    "        if self.activations:\n",
    "            output = self.activation(output)\n",
    "            \n",
    "        return output\n",
    "        \n",
    "\n",
    "        \n"
   ]
  },
  {
   "cell_type": "markdown",
   "id": "cea6130d-b3bb-4e51-b3f8-eda47137c9c7",
   "metadata": {},
   "source": [
    "定义GCN模型"
   ]
  },
  {
   "cell_type": "code",
   "execution_count": null,
   "id": "d5cf35dd-bee3-405b-bc3e-bb5bf880a601",
   "metadata": {},
   "outputs": [],
   "source": [
    "class GCN():\n",
    "    def __init__(self, An, X, sizes, **kwargs):\n",
    "        self.with_relu = True\n",
    "        self.with_bias = True\n",
    "        \n",
    "        "
   ]
  }
 ],
 "metadata": {
  "kernelspec": {
   "display_name": "py37_tf26_cpu",
   "language": "python",
   "name": "py37_tf26_cpu"
  },
  "language_info": {
   "codemirror_mode": {
    "name": "ipython",
    "version": 3
   },
   "file_extension": ".py",
   "mimetype": "text/x-python",
   "name": "python",
   "nbconvert_exporter": "python",
   "pygments_lexer": "ipython3",
   "version": "3.7.13"
  }
 },
 "nbformat": 4,
 "nbformat_minor": 5
}
