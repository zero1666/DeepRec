{
 "cells": [
  {
   "cell_type": "markdown",
   "id": "305f14f1-fa22-41d1-8c35-bfab27868841",
   "metadata": {},
   "source": [
    "## Tensorflow API\n",
    "Tensorflow 相关 API 样例"
   ]
  },
  {
   "cell_type": "code",
   "execution_count": 1,
   "id": "e4e4e2b0-5415-44f4-990f-bd12ea5328c1",
   "metadata": {},
   "outputs": [
    {
     "name": "stdout",
     "output_type": "stream",
     "text": [
      "2.4.0\n",
      "WARNING:tensorflow:From <ipython-input-1-f2ab019fa4f2>:3: is_gpu_available (from tensorflow.python.framework.test_util) is deprecated and will be removed in a future version.\n",
      "Instructions for updating:\n",
      "Use `tf.config.list_physical_devices('GPU')` instead.\n"
     ]
    },
    {
     "data": {
      "text/plain": [
       "False"
      ]
     },
     "execution_count": 1,
     "metadata": {},
     "output_type": "execute_result"
    }
   ],
   "source": [
    "import tensorflow as tf\n",
    "print(tf.__version__)\n",
    "tf.test.is_gpu_available()"
   ]
  },
  {
   "attachments": {
    "378453c6-adbd-406c-b622-489b14497ec4.png": {
     "image/png": "[encoded data removed]"
    },
    "522875be-53d2-4219-97f3-b0cd04a804fc.png": {
     "image/png": "[encoded data removed]"
    }
   },
   "cell_type": "markdown",
   "id": "644bcb29-c584-495b-b1b1-db08bb9551c5",
   "metadata": {},
   "source": [
    "Softmax_cross_entropy_with_logits_v2 Example:\n",
    "具体的执行流程大概分为两步：\n",
    "1. 具体的执行流程大概分为两步：\n",
    "![image.png](attachment:378453c6-adbd-406c-b622-489b14497ec4.png)\n",
    "\n",
    "2. 是softmax的输出向量[Y1，Y2,Y3...]和样本的实际标签做一个交叉熵，公式如下：\n",
    "![image.png](attachment:522875be-53d2-4219-97f3-b0cd04a804fc.png)\n",
    "\n",
    "> 注意！！！这个函数的返回值并不是一个数，而是一个向量，如果要求交叉熵，我们要再做一步tf.reduce_sum操作,就是对向量里面所有元素求和，最后才得到，如果求loss，则要做一步tf.reduce_mean操作，对向量求均值！\n",
    "\n"
   ]
  },
  {
   "cell_type": "code",
   "execution_count": null,
   "id": "edc8af4d-6f95-4d79-a6f4-78e6d0aaa647",
   "metadata": {},
   "outputs": [],
   "source": [
    "logits = [[4.0, 2.0, 1.0], [0.0, 5.0, 1.0]]\n",
    "labels = [[1.0, 0.0, 0.0], [0.0, 0.8, 0.2]]\n",
    "tf.nn.softmax_cross_entropy_with_logits(labels=labels, logits=logits)"
   ]
  },
  {
   "cell_type": "code",
   "execution_count": 6,
   "id": "1c50dea1-7183-43e6-be0c-6915743dd0b3",
   "metadata": {},
   "outputs": [
    {
     "name": "stdout",
     "output_type": "stream",
     "text": [
      "tf.Tensor(\n",
      "[[[ 0  1  2  3  4 20 21 22 23 24]]\n",
      "\n",
      " [[ 5  6  7  8  9 25 26 27 28 29]]], shape=(2, 1, 10), dtype=int64)\n"
     ]
    }
   ],
   "source": [
    "import tensorflow as tf\n",
    "import numpy as np\n",
    "\n",
    "x = np.arange(10).reshape(2, 1, 5)\n",
    "y = np.arange(20, 30).reshape(2, 1, 5)\n",
    "z = tf.keras.layers.Concatenate(axis=2)([x, y])\n",
    "print(z)"
   ]
  },
  {
   "cell_type": "code",
   "execution_count": null,
   "id": "12911ecb-6f81-48eb-aa20-e1dcda3da794",
   "metadata": {},
   "outputs": [],
   "source": []
  }
 ],
 "metadata": {
  "kernelspec": {
   "display_name": "py37_tf26_cpu",
   "language": "python",
   "name": "py37_tf26_cpu"
  },
  "language_info": {
   "codemirror_mode": {
    "name": "ipython",
    "version": 3
   },
   "file_extension": ".py",
   "mimetype": "text/x-python",
   "name": "python",
   "nbconvert_exporter": "python",
   "pygments_lexer": "ipython3",
   "version": "3.8.8"
  },
  "toc-autonumbering": false
 },
 "nbformat": 4,
 "nbformat_minor": 5
}
