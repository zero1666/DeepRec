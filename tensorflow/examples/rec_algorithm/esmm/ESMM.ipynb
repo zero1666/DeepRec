{
 "cells": [
  {
   "cell_type": "markdown",
   "id": "0ee6dd6f-23bf-4fdb-bddd-7c13ea2a4909",
   "metadata": {},
   "source": [
    "ESMM"
   ]
  },
  {
   "cell_type": "code",
   "execution_count": null,
   "id": "50a04cc5-e44e-487c-9215-af6e4f440e19",
   "metadata": {},
   "outputs": [],
   "source": []
  }
 ],
 "metadata": {
  "kernelspec": {
   "display_name": "py37_tf26_cpu",
   "language": "python",
   "name": "py37_tf26_cpu"
  },
  "language_info": {
   "codemirror_mode": {
    "name": "ipython",
    "version": 3
   },
   "file_extension": ".py",
   "mimetype": "text/x-python",
   "name": "python",
   "nbconvert_exporter": "python",
   "pygments_lexer": "ipython3",
   "version": "3.7.13"
  }
 },
 "nbformat": 4,
 "nbformat_minor": 5
}
