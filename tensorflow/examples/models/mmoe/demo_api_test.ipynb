{
 "cells": [
  {
   "cell_type": "code",
   "execution_count": null,
   "id": "f57deaf5-37a4-41a4-ac8a-4893d07a8c73",
   "metadata": {},
   "outputs": [],
   "source": [
    "import random\n",
    "\n",
    "import pandas as pd\n",
    "import numpy as np\n",
    "import tensorflow as tf\n",
    "from tensorflow.keras import backend as K\n",
    "from tensorflow.keras.optimizers import Adam\n",
    "from tensorflow.keras.initializers import VarianceScaling\n",
    "from tensorflow.keras.layers import Input, Dense\n",
    "from tensorflow.keras.models import Model\n",
    "from tensorflow.keras.utils import to_categorical\n",
    "from tensorflow.keras.callbacks import Callback\n",
    "from sklearn.metrics import roc_auc_score"
   ]
  },
  {
   "cell_type": "code",
   "execution_count": null,
   "id": "264d1b8d-616d-4f12-9981-ee0977ca1dbf",
   "metadata": {},
   "outputs": [],
   "source": [
    "SEED = 1\n",
    "# Fix numpy seed for reproducibility\n",
    "np.random.seed(SEED)\n",
    "\n",
    "# Fix random seed for reproducibility\n",
    "random.seed(SEED)\n",
    "\n",
    "# Fix TensorFlow graph-level seed for reproducibility\n",
    "tf.random.set_seed(SEED)\n"
   ]
  },
  {
   "cell_type": "code",
   "execution_count": null,
   "id": "9261ece0-6872-421d-a09b-e8f454d9f88c",
   "metadata": {},
   "outputs": [],
   "source": [
    "column_names = ['age', 'class_worker', 'det_ind_code', 'det_occ_code', 'education', 'wage_per_hour', 'hs_college',\n",
    "                    'marital_stat', 'major_ind_code', 'major_occ_code', 'race', 'hisp_origin', 'sex', 'union_member',\n",
    "                    'unemp_reason', 'full_or_part_emp', 'capital_gains', 'capital_losses', 'stock_dividends',\n",
    "                    'tax_filer_stat', 'region_prev_res', 'state_prev_res', 'det_hh_fam_stat', 'det_hh_summ',\n",
    "                    'instance_weight', 'mig_chg_msa', 'mig_chg_reg', 'mig_move_reg', 'mig_same', 'mig_prev_sunbelt',\n",
    "                    'num_emp', 'fam_under_18', 'country_father', 'country_mother', 'country_self', 'citizenship',\n",
    "                    'own_or_self', 'vet_question', 'vet_benefits', 'weeks_worked', 'year', 'income_50k']\n",
    "train_df = pd.read_csv(\n",
    "        '../../../data/mmoe_data/census-income.data.test',\n",
    "        delimiter=',',\n",
    "        header=None,\n",
    "        index_col=None,\n",
    "        names=column_names\n",
    "    )\n",
    "print('train_df',type(train_df), train_df.shape, '\\n',train_df.head())"
   ]
  },
  {
   "cell_type": "code",
   "execution_count": null,
   "id": "8b27ccc2-558c-4d12-97c1-fca028cb8121",
   "metadata": {},
   "outputs": [],
   "source": [
    "# First group of tasks according to the paper\n",
    "label_columns = ['income_50k', 'marital_stat']\n",
    "\n",
    "# One-hot encoding categorical columns\n",
    "categorical_columns = ['class_worker', 'det_ind_code', 'det_occ_code', 'education', 'hs_college', 'major_ind_code',\n",
    "                           'major_occ_code', 'race', 'hisp_origin', 'sex', 'union_member', 'unemp_reason',\n",
    "                           'full_or_part_emp', 'tax_filer_stat', 'region_prev_res', 'state_prev_res', 'det_hh_fam_stat',\n",
    "                           'det_hh_summ', 'mig_chg_msa', 'mig_chg_reg', 'mig_move_reg', 'mig_same', 'mig_prev_sunbelt',\n",
    "                           'fam_under_18', 'country_father', 'country_mother', 'country_self', 'citizenship',\n",
    "                           'vet_question']\n",
    "print('categorical_columns', len(categorical_columns))\n",
    "train_raw_labels = train_df[label_columns]\n",
    "print('train_raw_labels',type(train_raw_labels), train_raw_labels.shape)\n",
    "train_raw_labels"
   ]
  },
  {
   "cell_type": "code",
   "execution_count": null,
   "id": "2548fd27-7873-4c58-943b-53e31c20fdc1",
   "metadata": {},
   "outputs": [],
   "source": [
    "tmp_tran = train_df.drop(label_columns, axis=1)\n",
    "print('tmp_tran',type(tmp_tran), tmp_tran.shape)\n",
    "\n",
    "transformed_train = pd.get_dummies(train_df.drop(label_columns, axis=1), columns=categorical_columns)\n",
    "print('transformed_train',type(transformed_train), transformed_train.shape, transformed_train.columns)\n",
    "transformed_train"
   ]
  },
  {
   "cell_type": "code",
   "execution_count": null,
   "id": "96f969d3-2920-45c6-b957-351588925f6e",
   "metadata": {},
   "outputs": [],
   "source": [
    "train_income = to_categorical((train_raw_labels.income_50k == ' 50000+.').astype(int), num_classes=2)\n",
    "train_marital = to_categorical((train_raw_labels.marital_stat == ' Never married').astype(int), num_classes=2)\n",
    "print(train_marital.shape, train_marital)\n",
    "print(train_raw_labels)"
   ]
  },
  {
   "cell_type": "code",
   "execution_count": null,
   "id": "ab3c0329-9cb8-4748-a441-7f820784ac27",
   "metadata": {},
   "outputs": [],
   "source": [
    "dict_outputs = {\n",
    "    'income': train_income.shape[1],\n",
    "    'marital': train_marital.shape[1]\n",
    "}\n",
    "dict_train_labels = {\n",
    "    'income': train_income,\n",
    "    'marital': train_marital\n",
    "}\n",
    "print(dict_outputs)\n",
    "print(dict_train_labels)"
   ]
  },
  {
   "cell_type": "code",
   "execution_count": null,
   "id": "99acd926-87a7-4139-8d40-893297631e64",
   "metadata": {},
   "outputs": [],
   "source": [
    "output_info = [(dict_outputs[key], key) for key in sorted(dict_outputs.keys())]\n",
    "print(output_info)"
   ]
  },
  {
   "cell_type": "code",
   "execution_count": null,
   "id": "295e35f5-fa10-43db-9ed8-76276a75d386",
   "metadata": {},
   "outputs": [],
   "source": [
    "train_label = [dict_train_labels[key] for key in sorted(dict_train_labels.keys())]\n",
    "print(len(train_label),train_label)"
   ]
  },
  {
   "cell_type": "code",
   "execution_count": null,
   "id": "fdadf08b-bae6-4359-af77-ea66062f8070",
   "metadata": {},
   "outputs": [],
   "source": [
    "import tensorflow as tf\n",
    "import numpy as np\n",
    "\n",
    "x1 = np.arange(15).reshape(3,5)\n",
    "x2 = np.arange(40).reshape(5,4,2)\n",
    "x3 = np.arange(10).reshape(5,2)\n",
    "print(x1)\n",
    "print(x2)\n",
    "print(x3)"
   ]
  },
  {
   "cell_type": "code",
   "execution_count": null,
   "id": "83400de5-8a21-4f3c-8380-d9ace0e3dfda",
   "metadata": {},
   "outputs": [],
   "source": [
    "expert_output = tf.tensordot(a=x1, b=x2, axes=1)\n",
    "print(expert_output)"
   ]
  },
  {
   "cell_type": "code",
   "execution_count": null,
   "id": "eb2f27ff-35e9-446e-a8fa-450f9b99a251",
   "metadata": {},
   "outputs": [],
   "source": [
    "from tensorflow.keras import backend as K\n",
    "x1_tensor = tf.convert_to_tensor(x1,dtype=tf.float32)\n",
    "x3_tensor = tf.convert_to_tensor(x3,dtype=tf.float32)\n",
    "\n",
    "print(x1_tensor)\n",
    "print(x3_tensor)\n",
    "gate_output = K.dot(x=x1_tensor, y=x3_tensor)\n",
    "print(gate_output)\n",
    "\n",
    "x4 = tf.tensordot(a=x1_tensor,b=x3_tensor, axes=1)\n",
    "print(x4)"
   ]
  },
  {
   "cell_type": "code",
   "execution_count": null,
   "id": "921f8078-bbc0-4d24-904b-8221d11f2667",
   "metadata": {},
   "outputs": [],
   "source": []
  }
 ],
 "metadata": {
  "kernelspec": {
   "display_name": "py37_tf26_cpu",
   "language": "python",
   "name": "py37_tf26_cpu"
  },
  "language_info": {
   "codemirror_mode": {
    "name": "ipython",
    "version": 3
   },
   "file_extension": ".py",
   "mimetype": "text/x-python",
   "name": "python",
   "nbconvert_exporter": "python",
   "pygments_lexer": "ipython3",
   "version": "3.7.13"
  }
 },
 "nbformat": 4,
 "nbformat_minor": 5
}
