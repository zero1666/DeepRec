{
 "cells": [
  {
   "cell_type": "markdown",
   "id": "0240709e-7801-473c-9bd0-15013fbd2348",
   "metadata": {},
   "source": [
    "# Tensorflow 2.6 API"
   ]
  },
  {
   "cell_type": "code",
   "execution_count": 3,
   "id": "46116e8c-8794-4a1e-8520-5256783cca9a",
   "metadata": {},
   "outputs": [],
   "source": [
    "import tensorflow as tf"
   ]
  },
  {
   "cell_type": "markdown",
   "id": "ee9ab6e9-6da8-46dd-a199-ebe74772326f",
   "metadata": {},
   "source": [
    "#### tf.expand_dims(input, axis, name=None)\n",
    "增加维度：在索引axis 轴，添加 1 个尺寸的维度。"
   ]
  },
  {
   "cell_type": "code",
   "execution_count": null,
   "id": "dac5313e-ec97-4e7f-8732-7e35494fff72",
   "metadata": {},
   "outputs": [],
   "source": [
    "import  tensorflow as tf\n",
    "image = tf.zeros([10,10,3])\n",
    "print(tf.expand_dims(image, axis=0).shape.as_list())\n",
    "print(tf.expand_dims(image, axis=1).shape.as_list())\n",
    "print(tf.expand_dims(image, axis=-1).shape.as_list())"
   ]
  },
  {
   "cell_type": "markdown",
   "id": "7e637628-91f6-4e3e-894c-fba332a60c42",
   "metadata": {},
   "source": [
    "##### tf.sequence_mask(lengths, maxlen=None, dtype=tf.dtypes.bool, name=None)\n",
    "用于数据填充"
   ]
  },
  {
   "cell_type": "code",
   "execution_count": 8,
   "id": "bdabeb0c-ab36-4c53-a564-f9c63e530d9c",
   "metadata": {},
   "outputs": [
    {
     "name": "stdout",
     "output_type": "stream",
     "text": [
      "tf.Tensor(\n",
      "[[ True False False False False]\n",
      " [ True  True  True False False]\n",
      " [ True  True False False False]], shape=(3, 5), dtype=bool)\n",
      "tf.Tensor(\n",
      "[[[ True False False]\n",
      "  [ True  True  True]]\n",
      "\n",
      " [[ True  True False]\n",
      "  [False False False]]], shape=(2, 2, 3), dtype=bool)\n"
     ]
    }
   ],
   "source": [
    "import tensorflow as tf\n",
    "print(tf.sequence_mask([1, 3, 2], 5))\n",
    "print(tf.sequence_mask([[1, 3],[2,0]]))"
   ]
  },
  {
   "cell_type": "markdown",
   "id": "48b98ac9-6c08-41e6-8c83-9694ab4a8a00",
   "metadata": {},
   "source": [
    "#### tf.transpose(a, perm=None, conjugate=False, name='transpose')\n",
    "矩阵转置"
   ]
  },
  {
   "cell_type": "code",
   "execution_count": 10,
   "id": "e89483ba-77cc-4918-b3e4-9532aaaf6a96",
   "metadata": {},
   "outputs": [
    {
     "name": "stdout",
     "output_type": "stream",
     "text": [
      "tf.Tensor(\n",
      "[[[ 1  2  3]\n",
      "  [ 4  5  6]]\n",
      "\n",
      " [[ 7  8  9]\n",
      "  [10 11 12]]], shape=(2, 2, 3), dtype=int32)\n",
      "tf.Tensor(\n",
      "[[[ 1  4]\n",
      "  [ 2  5]\n",
      "  [ 3  6]]\n",
      "\n",
      " [[ 7 10]\n",
      "  [ 8 11]\n",
      "  [ 9 12]]], shape=(2, 3, 2), dtype=int32)\n"
     ]
    }
   ],
   "source": [
    "import tensorflow as tf\n",
    "\n",
    "x = tf.constant([[[ 1,  2,  3],\n",
    "                  [ 4,  5,  6]],\n",
    "                 [[ 7,  8,  9],\n",
    "                  [10, 11, 12]]])\n",
    "x_trans =tf.transpose(x, perm=[0, 2, 1])\n",
    "print(x)\n",
    "print(x_trans)"
   ]
  },
  {
   "cell_type": "markdown",
   "id": "d23534ae-a180-4230-a53b-1f2c4c169153",
   "metadata": {},
   "source": [
    "#### tf.tile(input, multiples, name=None)\n",
    "张量平铺。创建一个用 multiples 平铺 的 input 张量。"
   ]
  },
  {
   "cell_type": "markdown",
   "id": "d18343dd-4386-4b29-88cc-576c50d0ee09",
   "metadata": {},
   "source": [
    "#### tf.stack(values, axis=0, name='stack')\n",
    "向量堆叠。将秩 为 R 的张量列表堆叠成秩为 R + 1 的张量。"
   ]
  },
  {
   "cell_type": "code",
   "execution_count": 16,
   "id": "31d89266-e678-49e5-bd2e-d9a2b707d1a0",
   "metadata": {},
   "outputs": [
    {
     "name": "stdout",
     "output_type": "stream",
     "text": [
      "tf.Tensor([1 4], shape=(2,), dtype=int32)\n",
      "tf.Tensor(\n",
      "[[1 4]\n",
      " [2 5]\n",
      " [3 6]], shape=(3, 2), dtype=int32)\n",
      "tf.Tensor(\n",
      "[[1 2 3]\n",
      " [4 5 6]], shape=(2, 3), dtype=int32)\n",
      "tf.Tensor(\n",
      "[[1 4]\n",
      " [3 2]], shape=(2, 2), dtype=int32)\n",
      "tf.Tensor(\n",
      "[[[1 4]\n",
      "  [3 2]]\n",
      "\n",
      " [[2 5]\n",
      "  [4 1]]\n",
      "\n",
      " [[3 6]\n",
      "  [3 4]]], shape=(3, 2, 2), dtype=int32)\n",
      "tf.Tensor(\n",
      "[[[1 4]\n",
      "  [2 5]\n",
      "  [3 6]]\n",
      "\n",
      " [[3 2]\n",
      "  [4 1]\n",
      "  [3 4]]], shape=(2, 3, 2), dtype=int32)\n",
      "tf.Tensor(\n",
      "[[[1 2 3]\n",
      "  [4 5 6]]\n",
      "\n",
      " [[3 4 3]\n",
      "  [2 1 4]]], shape=(2, 2, 3), dtype=int32)\n"
     ]
    }
   ],
   "source": [
    "x = tf.constant([1, 4])\n",
    "y = tf.constant([2, 5])\n",
    "z = tf.constant([3, 6])\n",
    "print(x)\n",
    "print(tf.stack([x, y, z]))\n",
    "print(tf.stack([x, y, z], axis=1))\n",
    "x = tf.constant([[1, 4],[3,2]])\n",
    "y = tf.constant([[2, 5],[4,1]])\n",
    "z = tf.constant([[3, 6],[3,4]])\n",
    "print(x)\n",
    "print(tf.stack([x, y, z]))\n",
    "print(tf.stack([x, y, z], axis=1))\n",
    "print(tf.stack([x, y, z], axis=2))"
   ]
  },
  {
   "cell_type": "code",
   "execution_count": null,
   "id": "b92e56bc-fa4d-4105-b7d9-85d9d2568a89",
   "metadata": {},
   "outputs": [],
   "source": []
  }
 ],
 "metadata": {
  "kernelspec": {
   "display_name": "py37_tf26_cpu",
   "language": "python",
   "name": "py37_tf26_cpu"
  },
  "language_info": {
   "codemirror_mode": {
    "name": "ipython",
    "version": 3
   },
   "file_extension": ".py",
   "mimetype": "text/x-python",
   "name": "python",
   "nbconvert_exporter": "python",
   "pygments_lexer": "ipython3",
   "version": "3.7.13"
  }
 },
 "nbformat": 4,
 "nbformat_minor": 5
}
