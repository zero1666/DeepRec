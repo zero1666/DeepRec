{
 "cells": [
  {
   "cell_type": "markdown",
   "id": "9b32a9be-dffc-4b3a-8033-dc7a75d8f897",
   "metadata": {},
   "source": [
    "#####  collections.OrderedDict"
   ]
  },
  {
   "cell_type": "code",
   "execution_count": 3,
   "id": "4eff1a0f-2552-41e9-8113-7e7a429ab303",
   "metadata": {},
   "outputs": [
    {
     "name": "stdout",
     "output_type": "stream",
     "text": [
      "odict_items([('a', 'A'), ('b', 'B'), ('c', 'C')])\n",
      "odict_keys(['a', 'b', 'c'])\n",
      "odict_values(['A', 'B', 'C'])\n"
     ]
    }
   ],
   "source": [
    "import collections\n",
    "\n",
    "d1 = collections.OrderedDict()\n",
    "d1['a'] = 'A'\n",
    "d1['b'] = 'B'\n",
    "d1['c'] = 'C'\n",
    "print(d1.items())\n",
    "print(d1.keys())\n",
    "print(d1.values())\n"
   ]
  },
  {
   "cell_type": "markdown",
   "id": "19a066d2-8673-4984-a57d-94446512e908",
   "metadata": {},
   "source": [
    "##### python list"
   ]
  },
  {
   "cell_type": "code",
   "execution_count": null,
   "id": "fd0fe832-e980-4619-a775-1551818054db",
   "metadata": {},
   "outputs": [],
   "source": []
  },
  {
   "cell_type": "markdown",
   "id": "ea80b27b-1292-4a05-bdf9-66beab237421",
   "metadata": {},
   "source": [
    "##### itertools.chain"
   ]
  },
  {
   "cell_type": "code",
   "execution_count": null,
   "id": "9d551f4e-88fc-4e1a-8e82-92cac99d5e04",
   "metadata": {},
   "outputs": [],
   "source": []
  }
 ],
 "metadata": {
  "kernelspec": {
   "display_name": "py37_tf26_cpu",
   "language": "python",
   "name": "py37_tf26_cpu"
  },
  "language_info": {
   "codemirror_mode": {
    "name": "ipython",
    "version": 3
   },
   "file_extension": ".py",
   "mimetype": "text/x-python",
   "name": "python",
   "nbconvert_exporter": "python",
   "pygments_lexer": "ipython3",
   "version": "3.7.13"
  }
 },
 "nbformat": 4,
 "nbformat_minor": 5
}
