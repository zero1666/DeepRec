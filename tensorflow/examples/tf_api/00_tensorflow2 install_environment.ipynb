{
 "cells": [
  {
   "cell_type": "markdown",
   "id": "9764663f-2a59-4190-8371-67ce5199285f",
   "metadata": {},
   "source": [
    "# Tensorflow环境安装"
   ]
  },
  {
   "cell_type": "markdown",
   "id": "1c0b4092-1a47-48a0-9e70-b709a349eaff",
   "metadata": {},
   "source": [
    "###  安装Tensorflow2.6.0 CPU版本（使用Anaconda）\n",
    "+ python：3.7.13\n",
    "+ pip :21.2.2\n",
    "+ tensorflow: 2.6.0"
   ]
  },
  {
   "cell_type": "code",
   "execution_count": 1,
   "id": "a3626091-765b-4834-8706-60838f7e7828",
   "metadata": {},
   "outputs": [
    {
     "name": "stdout",
     "output_type": "stream",
     "text": [
      "WARNING: A conda environment already exists at '/data/miniconda3/envs/py37_tf26_cpu'\n",
      "Remove existing environment (y/[n])? ^C\n",
      "\n",
      "CondaSystemExit: \n",
      "Operation aborted.  Exiting.\n",
      "\n",
      "\n",
      "CommandNotFoundError: Your shell has not been properly configured to use 'conda activate'.\n",
      "To initialize your shell, run\n",
      "\n",
      "    $ conda init <SHELL_NAME>\n",
      "\n",
      "Currently supported shells are:\n",
      "  - bash\n",
      "  - fish\n",
      "  - tcsh\n",
      "  - xonsh\n",
      "  - zsh\n",
      "  - powershell\n",
      "\n",
      "See 'conda init --help' for more information and options.\n",
      "\n",
      "IMPORTANT: You may need to close and restart your shell after running 'conda init'.\n",
      "\n",
      "\n",
      "Looking in indexes: https://mirrors.cloud.tencent.com/pypi/simple/, http://mirrors.oa.com/pypi/web/simple/\n",
      "Collecting tensorflow==2.6\n",
      "  Downloading http://mirrors.oa.com/pypi/web/packages/33/46/117203250021aa4047ec94b07993bf8b3bfa916effbbe03c859a9227d7a7/tensorflow-2.6.0-cp38-cp38-manylinux2010_x86_64.whl (458.4 MB)\n",
      "     |█▌                              | 20.8 MB 1.1 MB/s eta 0:06:50^C\n",
      "\n",
      "\u001b[?25h\u001b[31mERROR: Operation cancelled by user\u001b[0m\n",
      "\u001b[33mWARNING: You are using pip version 21.3.1; however, version 22.2.2 is available.\n",
      "You should consider upgrading via the '/data/miniconda3/envs/env-3.8.8/bin/python -m pip install --upgrade pip' command.\u001b[0m\n",
      "^C\n",
      "Traceback (most recent call last):\n",
      "  File \"/data/miniconda3/envs/env-3.8.8/bin/pip\", line 5, in <module>\n",
      "    from pip._internal.cli.main import main\n",
      "  File \"/data/miniconda3/envs/env-3.8.8/lib/python3.8/site-packages/pip/_internal/cli/main.py\", line 9, in <module>\n",
      "    from pip._internal.cli.autocompletion import autocomplete\n",
      "  File \"/data/miniconda3/envs/env-3.8.8/lib/python3.8/site-packages/pip/_internal/cli/autocompletion.py\", line 10, in <module>\n",
      "    from pip._internal.cli.main_parser import create_main_parser\n",
      "  File \"/data/miniconda3/envs/env-3.8.8/lib/python3.8/site-packages/pip/_internal/cli/main_parser.py\", line 8, in <module>\n",
      "    from pip._internal.cli import cmdoptions\n",
      "  File \"/data/miniconda3/envs/env-3.8.8/lib/python3.8/site-packages/pip/_internal/cli/cmdoptions.py\", line 23, in <module>\n",
      "    from pip._internal.cli.parser import ConfigOptionParser\n",
      "  File \"/data/miniconda3/envs/env-3.8.8/lib/python3.8/site-packages/pip/_internal/cli/parser.py\", line 12, in <module>\n",
      "    from pip._internal.configuration import Configuration, ConfigurationError\n",
      "  File \"/data/miniconda3/envs/env-3.8.8/lib/python3.8/site-packages/pip/_internal/configuration.py\", line 20, in <module>\n",
      "    from pip._internal.exceptions import (\n",
      "  File \"/data/miniconda3/envs/env-3.8.8/lib/python3.8/site-packages/pip/_internal/exceptions.py\", line 7, in <module>\n",
      "    from pip._vendor.pkg_resources import Distribution\n",
      "  File \"/data/miniconda3/envs/env-3.8.8/lib/python3.8/site-packages/pip/_vendor/pkg_resources/__init__.py\", line 84, in <module>\n",
      "    __import__('pip._vendor.packaging.requirements')\n",
      "  File \"/data/miniconda3/envs/env-3.8.8/lib/python3.8/site-packages/pip/_vendor/packaging/requirements.py\", line 23, in <module>\n",
      "    from .markers import MARKER_EXPR, Marker\n",
      "  File \"/data/miniconda3/envs/env-3.8.8/lib/python3.8/site-packages/pip/_vendor/packaging/markers.py\", line 141, in <module>\n",
      "    def _coerce_parse_result(results: Union[ParseResults, List[Any]]) -> List[Any]:\n",
      "  File \"/data/miniconda3/envs/env-3.8.8/lib/python3.8/typing.py\", line 258, in inner\n",
      "    return cached(*args, **kwds)\n",
      "  File \"/data/miniconda3/envs/env-3.8.8/lib/python3.8/typing.py\", line 347, in __getitem__\n",
      "    @_tp_cache\n",
      "KeyboardInterrupt\n",
      "^C\n",
      "Traceback (most recent call last):\n",
      "  File \"/data/miniconda3/envs/env-3.8.8/bin/pip\", line 5, in <module>\n",
      "    from pip._internal.cli.main import main\n",
      "  File \"/data/miniconda3/envs/env-3.8.8/lib/python3.8/site-packages/pip/_internal/cli/main.py\", line 9, in <module>\n",
      "    from pip._internal.cli.autocompletion import autocomplete\n",
      "  File \"/data/miniconda3/envs/env-3.8.8/lib/python3.8/site-packages/pip/_internal/cli/autocompletion.py\", line 10, in <module>\n",
      "    from pip._internal.cli.main_parser import create_main_parser\n",
      "  File \"/data/miniconda3/envs/env-3.8.8/lib/python3.8/site-packages/pip/_internal/cli/main_parser.py\", line 8, in <module>\n",
      "    from pip._internal.cli import cmdoptions\n",
      "  File \"/data/miniconda3/envs/env-3.8.8/lib/python3.8/site-packages/pip/_internal/cli/cmdoptions.py\", line 23, in <module>\n",
      "    from pip._internal.cli.parser import ConfigOptionParser\n",
      "  File \"/data/miniconda3/envs/env-3.8.8/lib/python3.8/site-packages/pip/_internal/cli/parser.py\", line 12, in <module>\n",
      "    from pip._internal.configuration import Configuration, ConfigurationError\n",
      "  File \"/data/miniconda3/envs/env-3.8.8/lib/python3.8/site-packages/pip/_internal/configuration.py\", line 20, in <module>\n",
      "    from pip._internal.exceptions import (\n",
      "  File \"/data/miniconda3/envs/env-3.8.8/lib/python3.8/site-packages/pip/_internal/exceptions.py\", line 7, in <module>\n",
      "    from pip._vendor.pkg_resources import Distribution\n",
      "  File \"/data/miniconda3/envs/env-3.8.8/lib/python3.8/site-packages/pip/_vendor/pkg_resources/__init__.py\", line 84, in <module>\n",
      "    __import__('pip._vendor.packaging.requirements')\n",
      "  File \"/data/miniconda3/envs/env-3.8.8/lib/python3.8/site-packages/pip/_vendor/packaging/requirements.py\", line 56, in <module>\n",
      "    VERSION_PEP440 = Regex(Specifier._regex_str, re.VERBOSE | re.IGNORECASE)\n",
      "  File \"/data/miniconda3/envs/env-3.8.8/lib/python3.8/site-packages/pip/_vendor/pyparsing.py\", line 3311, in __init__\n",
      "    self.re = re.compile(self.pattern, self.flags)\n",
      "  File \"/data/miniconda3/envs/env-3.8.8/lib/python3.8/re.py\", line 252, in compile\n",
      "    return _compile(pattern, flags)\n",
      "  File \"/data/miniconda3/envs/env-3.8.8/lib/python3.8/re.py\", line 304, in _compile\n",
      "    p = sre_compile.compile(pattern, flags)\n",
      "  File \"/data/miniconda3/envs/env-3.8.8/lib/python3.8/sre_compile.py\", line 764, in compile\n",
      "    p = sre_parse.parse(p, flags)\n",
      "  File \"/data/miniconda3/envs/env-3.8.8/lib/python3.8/sre_parse.py\", line 948, in parse\n",
      "    p = _parse_sub(source, state, flags & SRE_FLAG_VERBOSE, 0)\n",
      "  File \"/data/miniconda3/envs/env-3.8.8/lib/python3.8/sre_parse.py\", line 443, in _parse_sub\n",
      "    itemsappend(_parse(source, state, verbose, nested + 1,\n",
      "  File \"/data/miniconda3/envs/env-3.8.8/lib/python3.8/sre_parse.py\", line 834, in _parse\n",
      "    p = _parse_sub(source, state, sub_verbose, nested + 1)\n",
      "  File \"/data/miniconda3/envs/env-3.8.8/lib/python3.8/sre_parse.py\", line 443, in _parse_sub\n",
      "    itemsappend(_parse(source, state, verbose, nested + 1,\n",
      "  File \"/data/miniconda3/envs/env-3.8.8/lib/python3.8/sre_parse.py\", line 834, in _parse\n",
      "    p = _parse_sub(source, state, sub_verbose, nested + 1)\n",
      "  File \"/data/miniconda3/envs/env-3.8.8/lib/python3.8/sre_parse.py\", line 443, in _parse_sub\n",
      "    itemsappend(_parse(source, state, verbose, nested + 1,\n",
      "  File \"/data/miniconda3/envs/env-3.8.8/lib/python3.8/sre_parse.py\", line 834, in _parse\n",
      "    p = _parse_sub(source, state, sub_verbose, nested + 1)\n",
      "  File \"/data/miniconda3/envs/env-3.8.8/lib/python3.8/sre_parse.py\", line 443, in _parse_sub\n",
      "    itemsappend(_parse(source, state, verbose, nested + 1,\n",
      "  File \"/data/miniconda3/envs/env-3.8.8/lib/python3.8/sre_parse.py\", line 511, in _parse\n",
      "    sourceget()\n",
      "  File \"/data/miniconda3/envs/env-3.8.8/lib/python3.8/sre_parse.py\", line 255, in get\n",
      "    this = self.next\n",
      "KeyboardInterrupt\n",
      "Looking in indexes: https://mirrors.cloud.tencent.com/pypi/simple/, http://mirrors.oa.com/pypi/web/simple/\n",
      "Requirement already satisfied: networkx in /data/miniconda3/envs/env-3.8.8/lib/python3.8/site-packages (2.6.3)\n",
      "\u001b[33mWARNING: You are using pip version 21.3.1; however, version 22.2.2 is available.\n",
      "You should consider upgrading via the '/data/miniconda3/envs/env-3.8.8/bin/python -m pip install --upgrade pip' command.\u001b[0m\n",
      "^C\n",
      "Traceback (most recent call last):\n",
      "  File \"/data/miniconda3/envs/env-3.8.8/bin/pip\", line 5, in <module>\n",
      "    from pip._internal.cli.main import main\n",
      "  File \"/data/miniconda3/envs/env-3.8.8/lib/python3.8/site-packages/pip/_internal/cli/main.py\", line 9, in <module>\n",
      "    from pip._internal.cli.autocompletion import autocomplete\n",
      "  File \"/data/miniconda3/envs/env-3.8.8/lib/python3.8/site-packages/pip/_internal/cli/autocompletion.py\", line 10, in <module>\n",
      "    from pip._internal.cli.main_parser import create_main_parser\n",
      "  File \"/data/miniconda3/envs/env-3.8.8/lib/python3.8/site-packages/pip/_internal/cli/main_parser.py\", line 8, in <module>\n",
      "    from pip._internal.cli import cmdoptions\n",
      "  File \"/data/miniconda3/envs/env-3.8.8/lib/python3.8/site-packages/pip/_internal/cli/cmdoptions.py\", line 23, in <module>\n",
      "    from pip._internal.cli.parser import ConfigOptionParser\n",
      "  File \"/data/miniconda3/envs/env-3.8.8/lib/python3.8/site-packages/pip/_internal/cli/parser.py\", line 12, in <module>\n",
      "    from pip._internal.configuration import Configuration, ConfigurationError\n",
      "  File \"/data/miniconda3/envs/env-3.8.8/lib/python3.8/site-packages/pip/_internal/configuration.py\", line 20, in <module>\n",
      "    from pip._internal.exceptions import (\n",
      "  File \"/data/miniconda3/envs/env-3.8.8/lib/python3.8/site-packages/pip/_internal/exceptions.py\", line 7, in <module>\n",
      "    from pip._vendor.pkg_resources import Distribution\n",
      "  File \"/data/miniconda3/envs/env-3.8.8/lib/python3.8/site-packages/pip/_vendor/pkg_resources/__init__.py\", line 3252, in <module>\n",
      "    def _initialize_master_working_set():\n",
      "  File \"/data/miniconda3/envs/env-3.8.8/lib/python3.8/site-packages/pip/_vendor/pkg_resources/__init__.py\", line 3235, in _call_aside\n",
      "    f(*args, **kwargs)\n",
      "  File \"/data/miniconda3/envs/env-3.8.8/lib/python3.8/site-packages/pip/_vendor/pkg_resources/__init__.py\", line 3287, in _initialize_master_working_set\n",
      "    list(map(working_set.add_entry, sys.path))\n",
      "  File \"/data/miniconda3/envs/env-3.8.8/lib/python3.8/site-packages/pip/_vendor/pkg_resources/__init__.py\", line 623, in add_entry\n",
      "    for dist in find_distributions(entry, True):\n",
      "  File \"/data/miniconda3/envs/env-3.8.8/lib/python3.8/site-packages/pip/_vendor/pkg_resources/__init__.py\", line 2061, in find_on_path\n",
      "    path_item_entries = _by_version_descending(filtered)\n",
      "  File \"/data/miniconda3/envs/env-3.8.8/lib/python3.8/site-packages/pip/_vendor/pkg_resources/__init__.py\", line 2034, in _by_version_descending\n",
      "    return sorted(names, key=_by_version, reverse=True)\n",
      "  File \"/data/miniconda3/envs/env-3.8.8/lib/python3.8/site-packages/pip/_vendor/pkg_resources/__init__.py\", line 2032, in _by_version\n",
      "    return [packaging.version.parse(part) for part in parts]\n",
      "  File \"/data/miniconda3/envs/env-3.8.8/lib/python3.8/site-packages/pip/_vendor/pkg_resources/__init__.py\", line 2032, in <listcomp>\n",
      "    return [packaging.version.parse(part) for part in parts]\n",
      "  File \"/data/miniconda3/envs/env-3.8.8/lib/python3.8/site-packages/pip/_vendor/packaging/version.py\", line 49, in parse\n",
      "    return Version(version)\n",
      "KeyboardInterrupt\n"
     ]
    }
   ],
   "source": [
    "!conda  create -n py37_tf26_cpu python=3.7\n",
    "!conda activate py37_tf26_cpu\n",
    "!pip install tensorflow==2.6\n",
    "!pip install numpy  sklearn pandas keras==2.6\n",
    "!pip install matplotlib\n",
    "!pip install networkx\n",
    "!pip install easydict"
   ]
  },
  {
   "cell_type": "code",
   "execution_count": null,
   "id": "8b1e7840-927f-4cae-b4a2-d27fdfa606c8",
   "metadata": {},
   "outputs": [],
   "source": [
    "## 添加 ipykernel\n",
    "!conda activate py37_tf26_cpu\n",
    "!pip install ipykernel\n",
    "!python -m ipykernel install --user --name=py37_tf26_cpu --display-name \"py37_tf26_cpu\"\n",
    "## 移除ipykernel\n",
    "!jupyter kernelspec remove py37_tf26_cpu"
   ]
  },
  {
   "cell_type": "code",
   "execution_count": null,
   "id": "a855adba-22d6-4e52-ba59-8a10582e23ba",
   "metadata": {},
   "outputs": [],
   "source": [
    "# 对齐keras版本\n",
    "!pip install keras==2.6"
   ]
  },
  {
   "cell_type": "markdown",
   "id": "219bbbd1-bb33-4bfa-b95c-e6ffc23797c0",
   "metadata": {},
   "source": [
    "###### Tensorflow 安装成功验证"
   ]
  },
  {
   "cell_type": "code",
   "execution_count": 1,
   "id": "72836669-ca2e-487c-94dd-0cd80aed97b0",
   "metadata": {},
   "outputs": [
    {
     "name": "stdout",
     "output_type": "stream",
     "text": [
      "2.6.0\n",
      "WARNING:tensorflow:From /tmp/ipykernel_1960/1550206244.py:3: is_gpu_available (from tensorflow.python.framework.test_util) is deprecated and will be removed in a future version.\n",
      "Instructions for updating:\n",
      "Use `tf.config.list_physical_devices('GPU')` instead.\n"
     ]
    },
    {
     "name": "stderr",
     "output_type": "stream",
     "text": [
      "2022-07-09 09:55:22.046986: I tensorflow/core/platform/cpu_feature_guard.cc:142] This TensorFlow binary is optimized with oneAPI Deep Neural Network Library (oneDNN) to use the following CPU instructions in performance-critical operations:  AVX2 FMA\n",
      "To enable them in other operations, rebuild TensorFlow with the appropriate compiler flags.\n",
      "2022-07-09 09:55:22.057244: W tensorflow/stream_executor/platform/default/dso_loader.cc:64] Could not load dynamic library 'libcuda.so.1'; dlerror: libcuda.so.1: cannot open shared object file: No such file or directory; LD_LIBRARY_PATH: /usr/local/nvidia/lib64:/usr/local/cuda/lib64:/usr/local/cuda/extras/CUPTI/lib64:/lib/native/:/jre/lib/amd64/:/usr/local/lib64:/usr/local/lib:/usr/local/tensorflow/lib:/usr/local/mysql/lib:/usr/local/jdk/jre/lib/amd64/server:/usr/local/mkl/lib:/usr/local/hadoop/lib/native:/usr/local/nvidia/lib64:/usr/local/cuda/lib64:/usr/local/cuda/extras/CUPTI/lib64:/lib/native/:/jre/lib/amd64/:/usr/local/lib64:/usr/local/lib:/usr/local/tensorflow/lib:/usr/local/mysql/lib:/usr/local/jdk/jre/lib/amd64/server:/usr/local/mkl/lib:/usr/local/hadoop/lib/native:/usr/local/nvidia/lib64:/usr/local/cuda/lib64:/usr/local/cuda/extras/CUPTI/lib64:/lib/native/:/jre/lib/amd64/:/usr/local/lib64:/usr/local/lib:/usr/local/tensorflow/lib:/usr/local/mysql/lib:/usr/local/jdk/jre/lib/amd64/server:/usr/local/mkl/lib:/usr/local/hadoop/lib/native:/usr/lib:/usr/local/lib:/usr/local/nvidia/lib:/usr/local/nvidia/lib64:/usr/local/cuda/lib64:/usr/local/cuda/extras/CUPTI/lib64:/usr/local/cuda-9.0/lib64:/usr/local/cuda-9.0/extras/CUPTI/lib64:/usr/local/cuda-8.0/lib64:/usr/local/cuda-8.0/extras/CUPTI/lib64:/usr/lib:/usr/local/cuda/lib64:/usr/local/cuda/extras/CUPTI/lib64/:/usr/local/nvidia/lib:/usr/local/nvidia/lib64:/usr/lib:/usr/local/lib:/usr/local/app/.local/lib/python3.6/site-packages/numerous_pywrap:/usr/local/cuda/lib64:/usr/local/cuda/extras/CUPTI/lib64/:/usr/local/nvidia/lib:/usr/local/nvidia/lib64:/usr/lib:/usr/local/lib:/usr/local/app/.local/lib/python3.6/site-packages/numerous_pywrap:/usr/local/cuda/lib64:/usr/local/cuda/extras/CUPTI/lib64/:/usr/local/nvidia/lib:/usr/local/nvidia/lib64:/usr/lib:/usr/local/lib:/usr/local/cuda/lib64:/usr/local/cuda/extras/CUPTI/lib64/:/usr/local/nvidia/lib:/usr/local/nvidia/lib64:/usr/lib:/usr/local/lib\n",
      "2022-07-09 09:55:22.057360: W tensorflow/stream_executor/cuda/cuda_driver.cc:269] failed call to cuInit: UNKNOWN ERROR (303)\n",
      "2022-07-09 09:55:22.057409: I tensorflow/stream_executor/cuda/cuda_diagnostics.cc:156] kernel driver does not appear to be running on this host (11-177-144-144): /proc/driver/nvidia/version does not exist\n"
     ]
    },
    {
     "data": {
      "text/plain": [
       "False"
      ]
     },
     "execution_count": 1,
     "metadata": {},
     "output_type": "execute_result"
    }
   ],
   "source": [
    "import tensorflow as tf\n",
    "print(tf.__version__)\n",
    "tf.test.is_gpu_available()"
   ]
  },
  {
   "cell_type": "code",
   "execution_count": null,
   "id": "0217d4ba-4361-4d25-af8a-35e517d72357",
   "metadata": {},
   "outputs": [],
   "source": [
    "!pip install setproctitle\n",
    "!pip install tdqm"
   ]
  }
 ],
 "metadata": {
  "kernelspec": {
   "display_name": "py37_tf26_cpu",
   "language": "python",
   "name": "py37_tf26_cpu"
  },
  "language_info": {
   "codemirror_mode": {
    "name": "ipython",
    "version": 3
   },
   "file_extension": ".py",
   "mimetype": "text/x-python",
   "name": "python",
   "nbconvert_exporter": "python",
   "pygments_lexer": "ipython3",
   "version": "3.8.8"
  }
 },
 "nbformat": 4,
 "nbformat_minor": 5
}
