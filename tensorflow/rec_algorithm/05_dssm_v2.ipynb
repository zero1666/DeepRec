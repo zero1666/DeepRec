{
 "cells": [
  {
   "cell_type": "markdown",
   "id": "2863fa0f-975c-4414-a85d-45347cc85a84",
   "metadata": {},
   "source": [
    "## DSSM TF2 实现"
   ]
  },
  {
   "cell_type": "code",
   "execution_count": 1,
   "id": "a8b896a4-70b7-4027-b91c-35fd3bfce3f1",
   "metadata": {},
   "outputs": [],
   "source": [
    "import os\n",
    "import numpy as np\n",
    "import pandas as pd\n",
    "import argparse\n",
    "import tensorflow as tf\n",
    "from sklearn.metrics import log_loss, roc_auc_score, accuracy_score, classification_report"
   ]
  },
  {
   "cell_type": "code",
   "execution_count": 5,
   "id": "a6eb5e7f-869e-424e-9549-1aac4855f02a",
   "metadata": {},
   "outputs": [],
   "source": [
    "def gen_dataset(data_df: pd.DataFrame, columns: dict):\n",
    "    data_dict = dict()\n",
    "\n",
    "    def _get_type(type_str):\n",
    "        if type_str == \"int32\":\n",
    "            return np.int32\n",
    "        elif type_str == \"float32\":\n",
    "            return np.float32\n",
    "        elif type_str == \"string\" or type_str == \"str\":\n",
    "            return np.str\n",
    "        else:\n",
    "            return np.int32\n",
    "\n",
    "    for key in columns.keys():\n",
    "        data_dict[key] = np.array(data_df[key]).astype(_get_type(columns[key]))\n",
    "\n",
    "    return data_dict\n"
   ]
  },
  {
   "cell_type": "code",
   "execution_count": 7,
   "id": "595cd85a-64d3-4c2a-be3a-c5ff3d3ad9a4",
   "metadata": {},
   "outputs": [],
   "source": [
    "def dssm_model(feature_inputs, item_feature_columns, user_feature_columns, hidden_units):\n",
    "    item_tower = tf.keras.layers.DenseFeatures(item_feature_columns)(feature_inputs)\n",
    "    for num_nodes in hidden_units:\n",
    "        item_tower = tf.keras.layers.Dense(num_nodes, activation='relu')(item_tower)\n",
    "\n",
    "    user_tower = tf.keras.layers.DenseFeatures(user_feature_columns)(feature_inputs)\n",
    "    for num_nodes in hidden_units:\n",
    "        user_tower = tf.keras.layers.Dense(num_nodes, activation='relu')(user_tower)\n",
    "\n",
    "    output = tf.keras.layers.Dot(axes=1)([item_tower, user_tower])\n",
    "    output = tf.keras.layers.Dense(1, activation='sigmoid')(output)\n",
    "\n",
    "    model = tf.keras.Model(feature_inputs, output)\n",
    "    return model"
   ]
  },
  {
   "cell_type": "code",
   "execution_count": 2,
   "id": "05688044-c5fa-40ea-8f87-60395185e2ee",
   "metadata": {},
   "outputs": [
    {
     "name": "stdout",
     "output_type": "stream",
     "text": [
      "[DSSM] read file path: /workspace/user_code/davidwwang/workspace/rec_proj/data/dssm_data\n"
     ]
    }
   ],
   "source": [
    "data_path = \"../../data/dssm_data\"\n",
    "model_path = \"../../data/model/dssm\"\n",
    "monitor = \"val_accuracy\"\n",
    "epoch = 10\n",
    "batch_size = 12\n",
    "# ====================================================================================\n",
    "# read data\n",
    "data_path = os.path.abspath(data_path)\n",
    "print(\"[DSSM] read file path: {}\".format(data_path))\n",
    "train_data = pd.read_csv(os.path.join(data_path, \"trainingSamples.csv\"), sep=\",\")\n",
    "test_data = pd.read_csv(os.path.join(data_path, \"testSamples.csv\"), sep=\",\")\n",
    "data_pd = pd.concat([train_data, test_data])"
   ]
  },
  {
   "cell_type": "code",
   "execution_count": 3,
   "id": "e107d667-909e-4919-9df8-61ee7b121d2d",
   "metadata": {},
   "outputs": [
    {
     "name": "stdout",
     "output_type": "stream",
     "text": [
      "[DSSM] input for keras model: \n",
      " {'movieId': <KerasTensor: shape=(None,) dtype=int32 (created by layer 'movieId')>, 'movieGenre1': <KerasTensor: shape=(None,) dtype=string (created by layer 'movieGenre1')>, 'movieAvgRating': <KerasTensor: shape=(None,) dtype=float32 (created by layer 'movieAvgRating')>, 'userId': <KerasTensor: shape=(None,) dtype=int32 (created by layer 'userId')>, 'userGenre1': <KerasTensor: shape=(None,) dtype=string (created by layer 'userGenre1')>, 'userAvgRating': <KerasTensor: shape=(None,) dtype=float32 (created by layer 'userAvgRating')>}\n"
     ]
    }
   ],
   "source": [
    "# ====================================================================================\n",
    "# define input for keras model\n",
    "columns_dict = {\n",
    "    'movieId': 'int32',\n",
    "    'movieGenre1': 'string',\n",
    "    'movieAvgRating': 'float32',\n",
    "    'userId': 'int32',\n",
    "    'userGenre1': 'string',\n",
    "    'userAvgRating': 'float32'\n",
    "}\n",
    "inputs = dict()\n",
    "for key in columns_dict.keys():\n",
    "    inputs[key] = tf.keras.layers.Input(name=key, shape=(), dtype=columns_dict[key])\n",
    "print(\"[DSSM] input for keras model: \\n {}\".format(inputs))"
   ]
  },
  {
   "cell_type": "code",
   "execution_count": 4,
   "id": "0a9a6f7e-5885-4bf0-82af-bff004c5225a",
   "metadata": {},
   "outputs": [],
   "source": [
    "#====================================================================================\n",
    "# movie embedding feature\n",
    "movie_col = tf.feature_column.categorical_column_with_identity(key='movieId', num_buckets=1001)\n",
    "movie_emb_col = tf.feature_column.embedding_column(movie_col, 10)\n",
    "movie_genre_1_vocab = data_pd['movieGenre1'].dropna().unique()\n",
    "movie_genre_1_col = tf.feature_column.categorical_column_with_vocabulary_list(key='movieGenre1',\n",
    "                                                                              vocabulary_list=movie_genre_1_vocab)\n",
    "movie_genre_1_emb_col = tf.feature_column.embedding_column(movie_genre_1_col, 10)\n",
    "movie_avg_rating = tf.feature_column.numeric_column(key='movieAvgRating')\n",
    "# user embedding feature\n",
    "user_col = tf.feature_column.categorical_column_with_identity(key='userId', num_buckets=30001)\n",
    "user_emb_col = tf.feature_column.embedding_column(user_col, 10)\n",
    "user_genre_1_vocab = data_pd['userGenre1'].dropna().unique()\n",
    "user_genre_1_col = tf.feature_column.categorical_column_with_vocabulary_list(key='userGenre1',\n",
    "                                                                             vocabulary_list=user_genre_1_vocab)\n",
    "user_genre_1_emb_col = tf.feature_column.embedding_column(user_genre_1_col, 100)\n",
    "user_avg_rating = tf.feature_column.numeric_column(key='userAvgRating')\n"
   ]
  },
  {
   "cell_type": "code",
   "execution_count": 8,
   "id": "84ae9d90-c344-44df-a93b-8c2d7b13b89b",
   "metadata": {},
   "outputs": [
    {
     "name": "stderr",
     "output_type": "stream",
     "text": [
      "2022-08-24 16:23:07.947417: W tensorflow/stream_executor/platform/default/dso_loader.cc:64] Could not load dynamic library 'libcuda.so.1'; dlerror: libcuda.so.1: cannot open shared object file: No such file or directory; LD_LIBRARY_PATH: /usr/lib:/usr/local/lib:/usr/local/nvidia/lib:/usr/local/nvidia/lib64:/usr/local/cuda/lib64:/usr/local/cuda/extras/CUPTI/lib64:/usr/local/cuda-9.0/lib64:/usr/local/cuda-9.0/extras/CUPTI/lib64:/usr/local/cuda-8.0/lib64:/usr/local/cuda-8.0/extras/CUPTI/lib64:/usr/lib:/usr/local/cuda/lib64:/usr/local/cuda/extras/CUPTI/lib64/:/usr/local/nvidia/lib:/usr/local/nvidia/lib64:/usr/lib:/usr/local/lib:/usr/local/cuda/lib64:/usr/local/cuda/extras/CUPTI/lib64/:/usr/local/nvidia/lib:/usr/local/nvidia/lib64:/usr/lib:/usr/local/lib:/usr/local/cuda-11.0/lib64:/usr/local/cuda-11.0/extras/CUPTI/lib64/:/usr/local/cuda/lib64:/usr/local/cuda/extras/CUPTI/lib64/:/usr/local/nvidia/lib:/usr/local/nvidia/lib64:/usr/lib:/usr/local/lib:/usr/local/cuda-11.0/lib64:/usr/local/cuda-11.0/extras/CUPTI/lib64/:/usr/local/cuda/lib64:/usr/local/cuda/extras/CUPTI/lib64/:/usr/local/nvidia/lib:/usr/local/nvidia/lib64:/usr/lib:/usr/local/lib\n",
      "2022-08-24 16:23:07.949201: W tensorflow/stream_executor/cuda/cuda_driver.cc:269] failed call to cuInit: UNKNOWN ERROR (303)\n",
      "2022-08-24 16:23:07.949290: I tensorflow/stream_executor/cuda/cuda_diagnostics.cc:156] kernel driver does not appear to be running on this host (9-223-245-158): /proc/driver/nvidia/version does not exist\n",
      "2022-08-24 16:23:07.955964: I tensorflow/core/platform/cpu_feature_guard.cc:142] This TensorFlow binary is optimized with oneAPI Deep Neural Network Library (oneDNN) to use the following CPU instructions in performance-critical operations:  AVX2 FMA\n",
      "To enable them in other operations, rebuild TensorFlow with the appropriate compiler flags.\n",
      "/data/miniconda3/envs/py37_tf26_cpu/lib/python3.7/site-packages/ipykernel_launcher.py:10: DeprecationWarning: `np.str` is a deprecated alias for the builtin `str`. To silence this warning, use `str` by itself. Doing this will not modify any behavior and is safe. If you specifically wanted the numpy scalar type, use `np.str_` here.\n",
      "Deprecated in NumPy 1.20; for more details and guidance: https://numpy.org/devdocs/release/1.20.0-notes.html#deprecations\n",
      "  # Remove the CWD from sys.path while we load stuff.\n",
      "2022-08-24 16:23:08.943766: I tensorflow/compiler/mlir/mlir_graph_optimization_pass.cc:185] None of the MLIR Optimization Passes are enabled (registered 2)\n"
     ]
    },
    {
     "name": "stdout",
     "output_type": "stream",
     "text": [
      "Epoch 1/10\n",
      "6662/6662 - 73s - loss: 0.6251 - accuracy: 0.6564 - auc: 0.6992 - val_loss: 0.5765 - val_accuracy: 0.7022 - val_auc: 0.7613\n",
      "\n",
      "Epoch 00001: val_accuracy improved from -inf to 0.70224, saving model to ../../data/model/dssm/checkpoint/dssm-weights-best.hdf5\n",
      "Epoch 2/10\n",
      "6662/6662 - 69s - loss: 0.5616 - accuracy: 0.7151 - auc: 0.7775 - val_loss: 0.5736 - val_accuracy: 0.7029 - val_auc: 0.7667\n",
      "\n",
      "Epoch 00002: val_accuracy improved from 0.70224 to 0.70292, saving model to ../../data/model/dssm/checkpoint/dssm-weights-best.hdf5\n",
      "Epoch 3/10\n",
      "6662/6662 - 66s - loss: 0.5261 - accuracy: 0.7411 - auc: 0.8102 - val_loss: 0.6002 - val_accuracy: 0.6804 - val_auc: 0.7469\n",
      "\n",
      "Epoch 00003: val_accuracy did not improve from 0.70292\n",
      "Epoch 4/10\n",
      "6662/6662 - 63s - loss: 0.4943 - accuracy: 0.7631 - auc: 0.8359 - val_loss: 0.6163 - val_accuracy: 0.6714 - val_auc: 0.7375\n",
      "\n",
      "Epoch 00004: val_accuracy did not improve from 0.70292\n",
      "Epoch 5/10\n",
      "6662/6662 - 64s - loss: 0.4660 - accuracy: 0.7793 - auc: 0.8567 - val_loss: 0.6196 - val_accuracy: 0.6631 - val_auc: 0.7208\n",
      "\n",
      "Epoch 00005: val_accuracy did not improve from 0.70292\n",
      "Epoch 6/10\n",
      "6662/6662 - 64s - loss: 0.4388 - accuracy: 0.7955 - auc: 0.8742 - val_loss: 0.6363 - val_accuracy: 0.6578 - val_auc: 0.7102\n",
      "\n",
      "Epoch 00006: val_accuracy did not improve from 0.70292\n",
      "Epoch 7/10\n",
      "6662/6662 - 65s - loss: 0.4124 - accuracy: 0.8100 - auc: 0.8899 - val_loss: 0.6506 - val_accuracy: 0.6528 - val_auc: 0.6941\n",
      "\n",
      "Epoch 00007: val_accuracy did not improve from 0.70292\n",
      "Epoch 8/10\n",
      "6662/6662 - 66s - loss: 0.3894 - accuracy: 0.8235 - auc: 0.9023 - val_loss: 0.6637 - val_accuracy: 0.6349 - val_auc: 0.6742\n",
      "\n",
      "Epoch 00008: val_accuracy did not improve from 0.70292\n",
      "Epoch 9/10\n",
      "6662/6662 - 64s - loss: 0.3661 - accuracy: 0.8350 - auc: 0.9142 - val_loss: 0.6836 - val_accuracy: 0.6346 - val_auc: 0.6675\n",
      "\n",
      "Epoch 00009: val_accuracy did not improve from 0.70292\n",
      "Epoch 10/10\n",
      "6662/6662 - 64s - loss: 0.3455 - accuracy: 0.8459 - auc: 0.9238 - val_loss: 0.7052 - val_accuracy: 0.6246 - val_auc: 0.6479\n",
      "\n",
      "Epoch 00010: val_accuracy did not improve from 0.70292\n"
     ]
    },
    {
     "data": {
      "text/plain": [
       "<keras.callbacks.History at 0x7f933afa1590>"
      ]
     },
     "execution_count": 8,
     "metadata": {},
     "output_type": "execute_result"
    }
   ],
   "source": [
    "# ====================================================================================\n",
    "# train model\n",
    "model = dssm_model(feature_inputs=inputs,\n",
    "                   item_feature_columns=[movie_emb_col, movie_genre_1_emb_col, movie_avg_rating],\n",
    "                   user_feature_columns=[user_emb_col, user_genre_1_emb_col, user_avg_rating],\n",
    "                   hidden_units=[30, 10])\n",
    "model.compile(\n",
    "    loss='binary_crossentropy',\n",
    "    optimizer='adam',\n",
    "    metrics=['accuracy', tf.keras.metrics.AUC(curve='ROC')])\n",
    "filepath = os.path.join(model_path, \"checkpoint\", \"dssm-weights-best.hdf5\")\n",
    "checkpoint = tf.keras.callbacks.ModelCheckpoint(\n",
    "    filepath, monitor=monitor, verbose=1, save_best_only=True, mode='max')\n",
    "train_data_input = gen_dataset(data_df=train_data, columns=columns_dict)\n",
    "model.fit(x=train_data_input, y=train_data[\"label\"].values,\n",
    "          epochs=epoch, callbacks=[checkpoint], verbose=2, batch_size=batch_size, validation_split=0.1)"
   ]
  },
  {
   "cell_type": "code",
   "execution_count": 9,
   "id": "505d769f-2e7a-49bd-939a-70e84b6193ab",
   "metadata": {},
   "outputs": [
    {
     "name": "stderr",
     "output_type": "stream",
     "text": [
      "/data/miniconda3/envs/py37_tf26_cpu/lib/python3.7/site-packages/ipykernel_launcher.py:10: DeprecationWarning: `np.str` is a deprecated alias for the builtin `str`. To silence this warning, use `str` by itself. Doing this will not modify any behavior and is safe. If you specifically wanted the numpy scalar type, use `np.str_` here.\n",
      "Deprecated in NumPy 1.20; for more details and guidance: https://numpy.org/devdocs/release/1.20.0-notes.html#deprecations\n",
      "  # Remove the CWD from sys.path while we load stuff.\n"
     ]
    },
    {
     "name": "stdout",
     "output_type": "stream",
     "text": [
      "\n",
      "[BEST] ===============================================================\n",
      "[test] LogLoss: 0.5796 \n",
      "[test] Accuracy: 0.6966 \n",
      "[test] AUC: 0.7624 \n",
      "[test] classification_report: \n",
      "              precision    recall  f1-score   support\n",
      "\n",
      "           0     0.7155    0.5132    0.5977      9856\n",
      "           1     0.6879    0.8402    0.7564     12584\n",
      "\n",
      "    accuracy                         0.6966     22440\n",
      "   macro avg     0.7017    0.6767    0.6771     22440\n",
      "weighted avg     0.7000    0.6966    0.6867     22440\n",
      " \n",
      "[DSSM] save model path: /workspace/user_code/davidwwang/workspace/rec_proj/data/model/dssm\n",
      "Model: \"model\"\n",
      "__________________________________________________________________________________________________\n",
      "Layer (type)                    Output Shape         Param #     Connected to                     \n",
      "==================================================================================================\n",
      "movieAvgRating (InputLayer)     [(None,)]            0                                            \n",
      "__________________________________________________________________________________________________\n",
      "movieGenre1 (InputLayer)        [(None,)]            0                                            \n",
      "__________________________________________________________________________________________________\n",
      "movieId (InputLayer)            [(None,)]            0                                            \n",
      "__________________________________________________________________________________________________\n",
      "userAvgRating (InputLayer)      [(None,)]            0                                            \n",
      "__________________________________________________________________________________________________\n",
      "userGenre1 (InputLayer)         [(None,)]            0                                            \n",
      "__________________________________________________________________________________________________\n",
      "userId (InputLayer)             [(None,)]            0                                            \n",
      "__________________________________________________________________________________________________\n",
      "dense_features (DenseFeatures)  (None, 21)           10190       movieAvgRating[0][0]             \n",
      "                                                                 movieGenre1[0][0]                \n",
      "                                                                 movieId[0][0]                    \n",
      "                                                                 userAvgRating[0][0]              \n",
      "                                                                 userGenre1[0][0]                 \n",
      "                                                                 userId[0][0]                     \n",
      "__________________________________________________________________________________________________\n",
      "dense_features_1 (DenseFeatures (None, 111)          301910      movieAvgRating[0][0]             \n",
      "                                                                 movieGenre1[0][0]                \n",
      "                                                                 movieId[0][0]                    \n",
      "                                                                 userAvgRating[0][0]              \n",
      "                                                                 userGenre1[0][0]                 \n",
      "                                                                 userId[0][0]                     \n",
      "__________________________________________________________________________________________________\n",
      "dense (Dense)                   (None, 30)           660         dense_features[0][0]             \n",
      "__________________________________________________________________________________________________\n",
      "dense_2 (Dense)                 (None, 30)           3360        dense_features_1[0][0]           \n",
      "__________________________________________________________________________________________________\n",
      "dense_1 (Dense)                 (None, 10)           310         dense[0][0]                      \n",
      "__________________________________________________________________________________________________\n",
      "dense_3 (Dense)                 (None, 10)           310         dense_2[0][0]                    \n",
      "__________________________________________________________________________________________________\n",
      "dot (Dot)                       (None, 1)            0           dense_1[0][0]                    \n",
      "                                                                 dense_3[0][0]                    \n",
      "__________________________________________________________________________________________________\n",
      "dense_4 (Dense)                 (None, 1)            2           dot[0][0]                        \n",
      "==================================================================================================\n",
      "Total params: 316,742\n",
      "Trainable params: 316,742\n",
      "Non-trainable params: 0\n",
      "__________________________________________________________________________________________________\n"
     ]
    },
    {
     "name": "stderr",
     "output_type": "stream",
     "text": [
      "2022-08-24 16:34:15.673388: W tensorflow/python/util/util.cc:348] Sets are not currently considered sequences, but this may change in the future, so consider avoiding using them.\n",
      "WARNING:absl:Function `_wrapped_model` contains input name(s) movieAvgRating, movieGenre1, movieId, userAvgRating, userGenre1, userId with unsupported characters which will be renamed to movieavgrating, moviegenre1, movieid, useravgrating, usergenre1, userid in the SavedModel.\n"
     ]
    },
    {
     "name": "stdout",
     "output_type": "stream",
     "text": [
      "INFO:tensorflow:Assets written to: /workspace/user_code/davidwwang/workspace/rec_proj/data/model/dssm/dssm/assets\n"
     ]
    },
    {
     "name": "stderr",
     "output_type": "stream",
     "text": [
      "INFO:tensorflow:Assets written to: /workspace/user_code/davidwwang/workspace/rec_proj/data/model/dssm/dssm/assets\n"
     ]
    }
   ],
   "source": [
    "# ====================================================================================\n",
    "# predict, use best model.\n",
    "test_data_input = gen_dataset(data_df=test_data, columns=columns_dict)\n",
    "model.load_weights(filepath=filepath)\n",
    "pred_ans = model.predict(x=test_data_input, batch_size=batch_size)\n",
    "print(\"\\n[BEST] ===============================================================\")\n",
    "print(\"[test] LogLoss: {} \".format(round(log_loss(test_data[\"label\"].values, pred_ans), 4)))\n",
    "print(\"[test] Accuracy: {} \".format(round(accuracy_score(test_data[\"label\"].values, pred_ans >= 0.5), 4)))\n",
    "print(\"[test] AUC: {} \".format(round(roc_auc_score(test_data[\"label\"].values, pred_ans), 4)))\n",
    "print(\"[test] classification_report: \\n{} \".format(classification_report(test_data[\"label\"].values, pred_ans >= 0.5, digits=4)))\n",
    "# ====================================================================================\n",
    "# save model\n",
    "model_path = os.path.abspath(model_path)\n",
    "print(\"[DSSM] save model path: {}\".format(model_path))\n",
    "model.summary()\n",
    "tf.keras.models.save_model(\n",
    "    model,\n",
    "    os.path.join(model_path, \"dssm\"),\n",
    "    overwrite=True,\n",
    "    include_optimizer=True,\n",
    "    save_format=None,\n",
    "    signatures=None,\n",
    "    options=None\n",
    ")"
   ]
  },
  {
   "cell_type": "code",
   "execution_count": null,
   "id": "be166612-8b5d-4120-badd-c7843ab18eb0",
   "metadata": {},
   "outputs": [],
   "source": []
  }
 ],
 "metadata": {
  "kernelspec": {
   "display_name": "py37_tf26_cpu",
   "language": "python",
   "name": "py37_tf26_cpu"
  },
  "language_info": {
   "codemirror_mode": {
    "name": "ipython",
    "version": 3
   },
   "file_extension": ".py",
   "mimetype": "text/x-python",
   "name": "python",
   "nbconvert_exporter": "python",
   "pygments_lexer": "ipython3",
   "version": "3.7.13"
  }
 },
 "nbformat": 4,
 "nbformat_minor": 5
}
