{
 "cells": [
  {
   "cell_type": "markdown",
   "id": "60609c29-9fe6-4e47-b80b-9de98b397837",
   "metadata": {},
   "source": [
    "# PLE 模型（参考DeepCTR）"
   ]
  },
  {
   "cell_type": "code",
   "execution_count": null,
   "id": "e9c41ba7-dbf8-4e03-92cf-a033696b84a8",
   "metadata": {},
   "outputs": [],
   "source": []
  }
 ],
 "metadata": {
  "kernelspec": {
   "display_name": "py37_tf26_cpu",
   "language": "python",
   "name": "py37_tf26_cpu"
  },
  "language_info": {
   "codemirror_mode": {
    "name": "ipython",
    "version": 3
   },
   "file_extension": ".py",
   "mimetype": "text/x-python",
   "name": "python",
   "nbconvert_exporter": "python",
   "pygments_lexer": "ipython3",
   "version": "3.7.13"
  }
 },
 "nbformat": 4,
 "nbformat_minor": 5
}
